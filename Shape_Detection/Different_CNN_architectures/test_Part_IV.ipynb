{
  "nbformat": 4,
  "nbformat_minor": 0,
  "metadata": {
    "colab": {
      "name": "Copy of Different_CNN_architectures_test_Part_IV.ipynb",
      "provenance": [],
      "collapsed_sections": [
        "xFo1Z0WH6T5b",
        "oOfC4H3I6Ep-",
        "K8b0bcKXqbq6",
        "LE7MujfGqPYb",
        "3R8By0fJotjk",
        "TU2JAC4VlwaS"
      ],
      "mount_file_id": "1ujXLSjreDJWqkvCwo7JE5CdedrM2COTn",
      "authorship_tag": "ABX9TyNimsTSmtrYC8LDTVlZbCkx"
    },
    "kernelspec": {
      "name": "python3",
      "display_name": "Python 3"
    }
  },
  "cells": [
    {
      "cell_type": "markdown",
      "metadata": {
        "id": "ZrgKJGcP1olA",
        "colab_type": "text"
      },
      "source": [
        "#Shape detection experiment (DenseNet up close: Training-set 80k examples, Confidence accuracy 99%, Classification accuracy 99%, IoU 90%)\n",
        "For its purposes, the experiment ended with part III. However, I wanted to explore the potential of one of the examined network: the DenseNet201. At the end of a training on 80 thousand examples I obtained important results and this prompted me to analyze the neural network more closely.\n",
        "\n",
        "The structure of this Part of the experiment is as follows:\n",
        "___\n",
        "\n",
        "###Part IV (DenseNet up close)\n",
        "- Loading data and model\n",
        "- Make prediction and analysis\n",
        "___"
      ]
    },
    {
      "cell_type": "code",
      "metadata": {
        "id": "CTMudu1S28uV",
        "colab_type": "code",
        "colab": {}
      },
      "source": [
        "# Import some useful library\n",
        "from google.colab import drive\n",
        "import h5py\n",
        "import numpy as np\n",
        "from sklearn.metrics import confusion_matrix, precision_score, recall_score, f1_score, classification_report\n",
        "\n",
        "# Import tensorflow and keras\n",
        "import tensorflow as tf\n",
        "from tensorflow import keras\n",
        "\n",
        "# Import matplotlib functionality \n",
        "import matplotlib.pyplot as plt\n",
        "from matplotlib import gridspec, patches\n",
        "from matplotlib.colors import ListedColormap"
      ],
      "execution_count": 0,
      "outputs": []
    },
    {
      "cell_type": "markdown",
      "metadata": {
        "id": "r5G-Hstz2tHb",
        "colab_type": "text"
      },
      "source": [
        "#Part III\n"
      ]
    },
    {
      "cell_type": "markdown",
      "metadata": {
        "id": "xFo1Z0WH6T5b",
        "colab_type": "text"
      },
      "source": [
        "##Loading data\n",
        "We load the Test-set and the neural network model for which we want to see the performances"
      ]
    },
    {
      "cell_type": "code",
      "metadata": {
        "id": "kcOtPbuZ4ix8",
        "colab_type": "code",
        "outputId": "d81bf132-68fb-4932-cbd9-f683a1928398",
        "colab": {
          "base_uri": "https://localhost:8080/",
          "height": 34
        }
      },
      "source": [
        "# mount our workdrive\n",
        "drive.mount('/content/drive')"
      ],
      "execution_count": 0,
      "outputs": [
        {
          "output_type": "stream",
          "text": [
            "Drive already mounted at /content/drive; to attempt to forcibly remount, call drive.mount(\"/content/drive\", force_remount=True).\n"
          ],
          "name": "stdout"
        }
      ]
    },
    {
      "cell_type": "code",
      "metadata": {
        "id": "r-h8klnljWTp",
        "colab_type": "code",
        "colab": {}
      },
      "source": [
        "# general path \n",
        "path = '/content/drive/My Drive/'\n",
        "# data path with datasets names\n",
        "data_path = 'Colab_data/'\n",
        "data_name = 'XYdata_40k_3bb_testset.h5'"
      ],
      "execution_count": 0,
      "outputs": []
    },
    {
      "cell_type": "markdown",
      "metadata": {
        "id": "kSYEaJhF3KcZ",
        "colab_type": "text"
      },
      "source": [
        "Loading Test-set."
      ]
    },
    {
      "cell_type": "code",
      "metadata": {
        "id": "M1To6r9c3dIg",
        "colab_type": "code",
        "colab": {}
      },
      "source": [
        "# open data file\n",
        "xy_h5f = h5py.File(path + data_path + data_name, 'r')\n",
        "\n",
        "# load data\n",
        "X_test = np.array(xy_h5f['X_test'])\n",
        "Y_test = np.array(xy_h5f['Y_test'])\n",
        "imgs_mean = np.array(xy_h5f['imgs_mean'])\n",
        "imgs_std = np.array(xy_h5f['imgs_std'])"
      ],
      "execution_count": 0,
      "outputs": []
    },
    {
      "cell_type": "code",
      "metadata": {
        "id": "8iHLoLO13gFK",
        "colab_type": "code",
        "colab": {}
      },
      "source": [
        "# close data file\n",
        "xy_h5f.close()"
      ],
      "execution_count": 0,
      "outputs": []
    },
    {
      "cell_type": "markdown",
      "metadata": {
        "id": "VGfE4pFz42oI",
        "colab_type": "text"
      },
      "source": [
        "Let's consider some useful information from our dataset:"
      ]
    },
    {
      "cell_type": "code",
      "metadata": {
        "id": "-VNt1xz44763",
        "colab_type": "code",
        "outputId": "0f79a3cf-94b9-4b5d-e5eb-554db68d3e74",
        "colab": {
          "base_uri": "https://localhost:8080/",
          "height": 119
        }
      },
      "source": [
        "# Useful informations about data images \n",
        "n_examples = X_test.shape[0]    # number of examples in Test-set\n",
        "side_dim = X_test.shape[1]      # side dimension for each image\n",
        "n_bb = Y_test.shape[1] // 6     # bounding boxes for each image\n",
        "\n",
        "print('Test examples:', X_test.shape[0])\n",
        "print('Image size:', side_dim, 'x', side_dim)\n",
        "print('Bounding boxes per image:', n_bb)\n",
        "print('-------')\n",
        "print('Images mean:', imgs_mean)\n",
        "print('Images standard deviation:', imgs_std)"
      ],
      "execution_count": 0,
      "outputs": [
        {
          "output_type": "stream",
          "text": [
            "Test examples: 6000\n",
            "Image size: 64 x 64\n",
            "Bounding boxes per image: 3\n",
            "-------\n",
            "Images mean: 196.2765323384603\n",
            "Images standard deviation: 18.37592427614397\n"
          ],
          "name": "stdout"
        }
      ]
    },
    {
      "cell_type": "code",
      "metadata": {
        "id": "K_6G0Fq1KCyW",
        "colab_type": "code",
        "colab": {}
      },
      "source": [
        "# possible objects classes in the images \n",
        "classes = { 0: '--',  # no-obj, or background-obj \n",
        "            1: '+r',  # red cross\n",
        "            2: '+g',  # green cross\n",
        "            3: '+b',  # blue cross\n",
        "            4: '#r',  # red pound \n",
        "            5: '#g',  # green pound\n",
        "            6: '#b',  # blue pound\n",
        "            7: 'or',  # red square\n",
        "            8: 'og',  # green square\n",
        "            9: 'ob',  # blue square\n",
        "          }"
      ],
      "execution_count": 0,
      "outputs": []
    },
    {
      "cell_type": "markdown",
      "metadata": {
        "id": "oOfC4H3I6Ep-",
        "colab_type": "text"
      },
      "source": [
        "##Loading model\n",
        "Loading CNN model."
      ]
    },
    {
      "cell_type": "code",
      "metadata": {
        "id": "WZ89WOt_eZ0y",
        "colab_type": "code",
        "colab": {}
      },
      "source": [
        "# coordinates loss function\n",
        "def rmse(y_true, y_pred):\n",
        "  '''  \n",
        "  Arguments:\n",
        "  y_true -- tensor with expected Y\n",
        "  y_pred -- tensor with predicted Y\n",
        "  \n",
        "  Returns:\n",
        "  euc_dist -- scalar\n",
        "  '''\n",
        "  rmse = K.sqrt(K.mean(K.square(y_pred -y_true), axis=-1))\n",
        "  return rmse"
      ],
      "execution_count": 0,
      "outputs": []
    },
    {
      "cell_type": "code",
      "metadata": {
        "id": "79jpWK3o4lmC",
        "colab_type": "code",
        "colab": {}
      },
      "source": [
        "# model path with models names\n",
        "model_path = 'Colab_models/'\n",
        "model_name = 'DenseNet201_80k_3bb.h5'\n",
        "model_filename = path + model_path + model_name"
      ],
      "execution_count": 0,
      "outputs": []
    },
    {
      "cell_type": "code",
      "metadata": {
        "id": "4-VnPXvXepws",
        "colab_type": "code",
        "colab": {}
      },
      "source": [
        "# clear ghraph\n",
        "tf.keras.backend.clear_session()\n",
        "\n",
        "# load model\n",
        "model = keras.models.load_model(model_filename, custom_objects={'rmse': rmse})"
      ],
      "execution_count": 0,
      "outputs": []
    },
    {
      "cell_type": "code",
      "metadata": {
        "id": "pJMumXxD-G0t",
        "colab_type": "code",
        "colab": {}
      },
      "source": [
        "model.summary()"
      ],
      "execution_count": 0,
      "outputs": []
    },
    {
      "cell_type": "markdown",
      "metadata": {
        "id": "K8b0bcKXqbq6",
        "colab_type": "text"
      },
      "source": [
        "## Make predictions\n"
      ]
    },
    {
      "cell_type": "code",
      "metadata": {
        "id": "Fe7nIdKN998K",
        "colab_type": "code",
        "colab": {}
      },
      "source": [
        "# Predictions from neural network using Test set as input\n",
        "model_predictions = model.predict(X_test)"
      ],
      "execution_count": 0,
      "outputs": []
    },
    {
      "cell_type": "markdown",
      "metadata": {
        "id": "SuwaU6rPEzjA",
        "colab_type": "text"
      },
      "source": [
        "Let's break down the predictions and see how the different models of neural network have behaved in each of the three tasks on which we have trained them: obj presence confidence, classification of the identified object and identification of the bounding boxes."
      ]
    },
    {
      "cell_type": "code",
      "metadata": {
        "id": "pbL23OSebkJ_",
        "colab_type": "code",
        "colab": {}
      },
      "source": [
        "# decompose predictions by different targets (class, confidence, coordinates)\n",
        "predict_class = model_predictions[0].reshape(n_examples, n_bb, -1)\n",
        "predict_confidence = model_predictions[1].reshape(n_examples, -1, 1) / 2 + (1/2) # *Remember: we use tanh as activation function \n",
        "predict_bboxes = model_predictions[2].reshape(n_examples, n_bb, -1)              "
      ],
      "execution_count": 0,
      "outputs": []
    },
    {
      "cell_type": "code",
      "metadata": {
        "id": "XotMS6Kh4kvj",
        "colab_type": "code",
        "outputId": "be2cfc51-e8d1-4509-b3e8-059faaea47b0",
        "colab": {
          "base_uri": "https://localhost:8080/",
          "height": 34
        }
      },
      "source": [
        "# reshape and convert softmax data to class prediction  \n",
        "predict_class = predict_class.argmax(-1).reshape(n_examples, n_bb, 1)\n",
        "\n",
        "# shape of prediction for class, confidence and bboxes coordinates\n",
        "predict_class.shape, predict_confidence.shape, predict_bboxes.shape"
      ],
      "execution_count": 0,
      "outputs": [
        {
          "output_type": "execute_result",
          "data": {
            "text/plain": [
              "((6000, 3, 1), (6000, 3, 1), (6000, 3, 4))"
            ]
          },
          "metadata": {
            "tags": []
          },
          "execution_count": 145
        }
      ]
    },
    {
      "cell_type": "markdown",
      "metadata": {
        "id": "G01b6-Jkt-Qy",
        "colab_type": "text"
      },
      "source": [
        "Now let's go into detail and generalize the behavior of the different models on the whole Test-set for all three tasks."
      ]
    },
    {
      "cell_type": "markdown",
      "metadata": {
        "id": "LE7MujfGqPYb",
        "colab_type": "text"
      },
      "source": [
        "\n",
        "## Confidence Predictions\n",
        "Let's consider confidence predictions. This measure should tell us if an object is present or not in the bounding boxing under consideration (more properly it tells us for every bounding boxes if there is an object in the image to be examined and looked for)."
      ]
    },
    {
      "cell_type": "code",
      "metadata": {
        "id": "pGpGt5eF5gGg",
        "colab_type": "code",
        "colab": {}
      },
      "source": [
        "# True and Predict value for level of confidence\n",
        "true_confidence = Y_test[:, 1::6].reshape(-1)\n",
        "pred_confidence = predict_confidence.reshape(-1)"
      ],
      "execution_count": 0,
      "outputs": []
    },
    {
      "cell_type": "markdown",
      "metadata": {
        "id": "k7O3dNoz2FJO",
        "colab_type": "text"
      },
      "source": [
        "For our purpose, the degree of confidence assumes binary values. We can therefore make a rounding for the intermediate values so as to fall into them: '0' - no confidence, '1' - total confidence.\n",
        "(Wanting to do a more in-depth analysis we could later analyze the distribution of predictions and better understand the behavior of confidence the neural network. At the moment this is beyond the scope of our experiment)"
      ]
    },
    {
      "cell_type": "code",
      "metadata": {
        "id": "k9_23He5CAsR",
        "colab_type": "code",
        "colab": {}
      },
      "source": [
        "# now we consider the strictly and almost equivalence of confidence\n",
        "src = (pred_confidence == true_confidence)\n",
        "arc = (np.round(pred_confidence) == np.round(true_confidence))\n",
        "\n",
        "strictly_right_confidence = np.count_nonzero(src)\n",
        "almost_right_confidence = np.count_nonzero(arc)\n",
        "\n",
        "# to see the confidence accuracy we just need the almost results\n",
        "confidence_accuracy = almost_right_confidence / (n_examples*n_bb)\n",
        "# Let's also take a look at the strictly confidence accuracy\n",
        "strictly_confidence_accuracy = strictly_right_confidence / (n_examples*n_bb)"
      ],
      "execution_count": 0,
      "outputs": []
    },
    {
      "cell_type": "code",
      "metadata": {
        "id": "gMSnj0rIOIu0",
        "colab_type": "code",
        "colab": {}
      },
      "source": [
        "# let's create some mask\n",
        "# obj not created, obj not to detect (non_obj), obj created\n",
        "c_zero = (true_confidence == 0)\n",
        "c_non_obj = (true_confidence == .1)\n",
        "c_one = (true_confidence == 1)\n",
        "\n",
        "# strictly obj confidence \n",
        "right_c_zero = np.count_nonzero(src * c_zero)\n",
        "right_c_one = np.count_nonzero(src * c_one)\n",
        "\n",
        "# almost obj confidence\n",
        "almost_zero = np.count_nonzero(arc * c_zero) + np.count_nonzero(arc * c_non_obj)\n",
        "almost_one = np.count_nonzero(arc * c_one)\n",
        "\n",
        "# wrong confidence prediction\n",
        "wrong_prediction = (n_examples*n_bb) - np.count_nonzero(arc)\n",
        "\n",
        "# confidence original/predicted data\n",
        "confidence_original_data = [c_zero, c_non_obj, c_one]\n",
        "\n",
        "confidence_predicted_data= [right_c_zero,\n",
        "                           almost_zero-right_c_zero, \n",
        "                           wrong_prediction,\n",
        "                           almost_one-right_c_one,\n",
        "                           right_c_one]\n",
        "\n",
        "# confidence confusion matrix / recall / precision / f1_score\n",
        "y_true = true_confidence.astype('int16')\n",
        "y_pred = np.round(pred_confidence).astype('int16')\n",
        "\n",
        "confidence_confusion_matrix = confusion_matrix(y_true, y_pred)\n",
        "\n",
        "confidence_precision = precision_score(y_true, y_pred)\n",
        "confidence_recall = recall_score(y_true, y_pred)\n",
        "confidence_f1_score = f1_score(y_true, y_pred)"
      ],
      "execution_count": 0,
      "outputs": []
    },
    {
      "cell_type": "code",
      "metadata": {
        "id": "He7VWjsKn2Ab",
        "colab_type": "code",
        "colab": {}
      },
      "source": [
        "# method to show some data about confidence results\n",
        "def plot_confidence_data(original_data, \n",
        "                        predicted_data, \n",
        "                        almost_right_confidence,\n",
        "                        cc_matrix):\n",
        "  \"\"\"\n",
        "  \"\"\"\n",
        "  # Plot true confidence distribution vs predict confidence distribution\n",
        "  fig = plt.figure(figsize=(12,6))\n",
        "  plt.title('obj confidence distribution')\n",
        "  plt.axis('off')\n",
        "\n",
        "  gs = gridspec.GridSpec(ncols=4, nrows=1, width_ratios=[5, 5, .4, 3]) \n",
        "  ax1 = fig.add_subplot(gs[0])\n",
        "  ax2 = fig.add_subplot(gs[1])\n",
        "  ax3 = fig.add_subplot(gs[3])\n",
        "\n",
        "  # pie with objects above_pc_obj, below_pc_obj and no_obj\n",
        "  ax1.set_title('Real objects distribution')\n",
        "  explode = [0, 0, 0.1]\n",
        "  ax1.pie([np.count_nonzero(original_data[0]), # c_zero \n",
        "          np.count_nonzero(original_data[1]), # c_non_obj \n",
        "          np.count_nonzero(original_data[2])], # c_one \n",
        "          autopct='%1.1f%%', explode=explode, colors=[[.7, .4, .8],[.7, .2, .6],[.8, .4, .2]])\n",
        "  ax1.legend(['objects not created',\n",
        "              'objects below Pc_th',\n",
        "              'object above Pc_th'], loc = 'lower left')\n",
        "\n",
        "  # pie with objects above_pc_obj, below_pc_obj and no_obj\n",
        "  ax2.set_title('Predict objects distribution')\n",
        "  explode = [0, 0, .1, 0, 0]\n",
        "  ax2.pie(predicted_data, \n",
        "          autopct='%1.1f%%', explode=explode, colors=[[.55, .45, .0],'y', 'r',[.2, .85, .1],'g'])\n",
        "  ax2.legend(['right 0',\n",
        "              'almost 0',\n",
        "              'wrong', \n",
        "              'almost 1',\n",
        "              'right 1'], loc = 'lower right')\n",
        "\n",
        "  # confusion matrix\n",
        "  ax3.set_title('Confusion matrix')\n",
        "  cmap = 'cividis' #ListedColormap(['r',[.8, .5, .0],'y',[.5, .7, .0],'g'])\n",
        "  ax3.imshow(cc_matrix, cmap=cmap)\n",
        "  ax3.set_xlabel('predictions')\n",
        "  ax3.set_xticks([0,1])\n",
        "  ax3.set_xticklabels([0, 1])\n",
        "  ax3.set_ylabel('true values')\n",
        "  ax3.set_yticks([0,1])\n",
        "  ax3.set_yticklabels([0, 1])\n",
        "  for i in range(cc_matrix.shape[0]):\n",
        "    for j in range(cc_matrix.shape[1]):\n",
        "      ax3.text(j, \n",
        "               i, \n",
        "               cc_matrix[i,j], \n",
        "               color=[.8,.4,.1], \n",
        "               fontsize=14, \n",
        "               horizontalalignment='center',\n",
        "               verticalalignment='bottom')\n",
        "      if i == j:\n",
        "        ax3.text(j, \n",
        "                 i, \n",
        "                 \"{:.0%}\".format(cc_matrix[i,j]/almost_right_confidence), \n",
        "                 color=[.8,.4,.1], \n",
        "                 fontsize=11, \n",
        "                 horizontalalignment='center',\n",
        "                 verticalalignment='top')\n",
        "  \n",
        "  ax3.text(1.9, 0, 'Precision ' + \"{:.2f}\".format(confidence_precision),\n",
        "        bbox={'facecolor': 'y', 'alpha': 0.15, 'pad': 3})\n",
        "  ax3.text(1.9, .5, 'Recall ' + \"{:.2f}\".format(confidence_recall), style='italic',\n",
        "        bbox={'facecolor': 'y', 'alpha': 0.15, 'pad': 3})\n",
        "  ax3.text(1.9, 1, 'F1_Score ' +  \"{:.2f}\".format(confidence_f1_score), style='italic',\n",
        "        bbox={'facecolor': 'red', 'alpha': 0.2, 'pad': 3})\n",
        "  plt.show()"
      ],
      "execution_count": 0,
      "outputs": []
    },
    {
      "cell_type": "markdown",
      "metadata": {
        "id": "gcorSUBwvMWX",
        "colab_type": "text"
      },
      "source": [
        "With 80k examples DenseNet easily achieves an accuracy of over 99%. As we have already seen in Part III, we are not very interested in the Strictly confidece accuracy value, all models tend to give almost 0 and almost 1 values for the most part, but this also depends on the loss function we used (CategoricalHinge). More interesting to see that the algorithm has a higher Recall than the Preicision, (there are more False Positives than False Negatives). But for both metrics, these are still values greater than .99."
      ]
    },
    {
      "cell_type": "code",
      "metadata": {
        "id": "eR7uyZpQpdBg",
        "colab_type": "code",
        "outputId": "48b2866f-6d0e-4f90-b1e5-b32dd8565a65",
        "colab": {
          "base_uri": "https://localhost:8080/",
          "height": 51
        }
      },
      "source": [
        "# DenseNet201 (7.2M params x 201 layers) 80k 70ep\n",
        "print('Strictly confidence accuracy:', strictly_confidence_accuracy)\n",
        "print('Confidence accuracy:', confidence_accuracy)"
      ],
      "execution_count": 0,
      "outputs": [
        {
          "output_type": "stream",
          "text": [
            "Strictly confidence accuracy: 0.06605555555555556\n",
            "Confidence accuracy: 0.9923333333333333\n"
          ],
          "name": "stdout"
        }
      ]
    },
    {
      "cell_type": "code",
      "metadata": {
        "id": "FbunIf5BplQc",
        "colab_type": "code",
        "outputId": "7395a105-4cda-4b36-dee2-5575b063f85c",
        "colab": {
          "base_uri": "https://localhost:8080/",
          "height": 373
        }
      },
      "source": [
        "# DenseNet201 (7.2M params x 201 layers) 80k 70ep\n",
        "plot_confidence_data(confidence_original_data, \n",
        "                    confidence_predicted_data,\n",
        "                    almost_right_confidence, \n",
        "                    confidence_confusion_matrix)"
      ],
      "execution_count": 0,
      "outputs": [
        {
          "output_type": "display_data",
          "data": {
            "image/png": "[encoded data removed]",
            "text/plain": [
              "<Figure size 864x432 with 4 Axes>"
            ]
          },
          "metadata": {
            "tags": [],
            "needs_background": "light"
          }
        }
      ]
    },
    {
      "cell_type": "markdown",
      "metadata": {
        "id": "3R8By0fJotjk",
        "colab_type": "text"
      },
      "source": [
        "## Class predictions\n",
        "Now let's evaluate the predictions regarding the classification of the different objects, remember that we have nine classes (red cross, green cross, blue cross, red pound, green pound, blue pound, red square, green square, blue square) plus a tenth in case of background (when we have no objects or the objects belong to the background and on the basis of our Pc_th they don't have to be classified)\n",
        "\n",
        "classes = {0: '---', 1: '+r', 2: '+g', 3: '+b', 4: '#r', 5: '#g', 6: '#b ', 7:' or ', 8:' og ', 9:' ob '}"
      ]
    },
    {
      "cell_type": "code",
      "metadata": {
        "id": "xKInhjZ69Cot",
        "colab_type": "code",
        "colab": {}
      },
      "source": [
        "true_class = Y_test[:, 0::6].reshape(-1).astype('int8')\n",
        "pred_class = predict_class.reshape(-1).astype('int8') "
      ],
      "execution_count": 0,
      "outputs": []
    },
    {
      "cell_type": "code",
      "metadata": {
        "id": "w6CCB55Xm_BA",
        "colab_type": "code",
        "colab": {}
      },
      "source": [
        "# Number of correctly classified objects (absolute and average value)\n",
        "obj_to_identify = np.count_nonzero(true_class > 0)\n",
        "obj_identified = np.count_nonzero((true_class == pred_class)*(true_class > 0))\n",
        "\n",
        "# non-object correctly identify\n",
        "nonobj_identified = np.count_nonzero((true_class == pred_class)*(true_class == 0))\n",
        "\n",
        "# overall identification\n",
        "overall_identification = np.count_nonzero(true_class == pred_class)\n",
        "\n",
        "# Errors\n",
        "wrong_classification = np.count_nonzero(true_class != pred_class)\n",
        "\n",
        "# Accuracy\n",
        "accuracy_obj_identified = obj_identified / np.count_nonzero(true_class > 0)\n",
        "accuracy_overall_identified = overall_identification / (n_examples*n_bb)"
      ],
      "execution_count": 0,
      "outputs": []
    },
    {
      "cell_type": "code",
      "metadata": {
        "id": "73kQpxY5cgPV",
        "colab_type": "code",
        "colab": {}
      },
      "source": [
        "# Precision, Recall, F1_score\n",
        "c_report = classification_report(true_class, pred_class, target_names=list(classes.values()))\n",
        "class_confusion_matrix = confusion_matrix(true_class, pred_class)"
      ],
      "execution_count": 0,
      "outputs": []
    },
    {
      "cell_type": "code",
      "metadata": {
        "id": "iMiqgi0PAwi0",
        "colab_type": "code",
        "colab": {}
      },
      "source": [
        "def plot_cassification_data(classes, true_class, pred_class, class_confusion_matrix):\n",
        "  cl = classes.values()\n",
        "  ticks = np.arange(0,10)\n",
        "\n",
        "  fig = plt.figure(figsize=(14,6))\n",
        "  plt.axis('off')\n",
        "\n",
        "  gs = gridspec.GridSpec(ncols=5, nrows=5, width_ratios=[1.1,.2,1.8,.3,.9]) \n",
        "  ax1 = fig.add_subplot(gs[1:4,0])\n",
        "  ax2 = fig.add_subplot(gs[:,2])\n",
        "  ax3 = fig.add_subplot(gs[:,4])\n",
        "\n",
        "  # Plot Histogram obj classes distribution\n",
        "  bins = np.arange(0, 11, 1)\n",
        "  ax1.hist([true_class, pred_class], bins=bins-0.5, color=('y','g'))\n",
        "  ax1.set(title='obj real classes / predictions', xlabel='classes', ylabel='num examples')\n",
        "  ax1.set_xticks(ticks=bins) \n",
        "  ax1.set_xticklabels(cl)\n",
        "  ax1.legend(['Real class','Predicted class'])\n",
        "\n",
        "  # confusion matrix\n",
        "  ax2.set_title('Confusion matrix')\n",
        "\n",
        "  cmap = 'cividis'\n",
        "  ax2.imshow(class_confusion_matrix, cmap=cmap)\n",
        "  ax2.set_xlabel('predicted classes')\n",
        "  ax2.set_xticks(ticks)\n",
        "  ax2.set_xticklabels(cl)\n",
        "  ax2.set_ylabel('true classes')\n",
        "  ax2.set_yticks(ticks)\n",
        "  ax2.set_yticklabels(cl)\n",
        "  for i in range(class_confusion_matrix.shape[0]):\n",
        "    for j in range(class_confusion_matrix.shape[1]):\n",
        "      ax2.text(j, i ,class_confusion_matrix[i,j], color=[.8,.4,.1], fontsize=10, horizontalalignment='center',)\n",
        "\n",
        "  ax3.axis('off')\n",
        "  ax3.text(0.5, .5, c_report, wrap=True, horizontalalignment='center', verticalalignment='center', fontsize=12)\n",
        "  plt.show()"
      ],
      "execution_count": 0,
      "outputs": []
    },
    {
      "cell_type": "markdown",
      "metadata": {
        "id": "3mzq8QUbgXtr",
        "colab_type": "text"
      },
      "source": [
        "We had already seen how in classifying DenseNet objects it gave rather uniform results. A trend that is confirmed, there are no objects that are confused more than the others after a training on 80k examples. Looking closely at the confusion matrix, the only two-digit error (12 cases) concerns '#b' indicated by the network as non-objects which are revealed in the '#b' Recall at .98 instead of .99 like all other classes. We are at 99% overall accuracy with the correct detection of 5262 non-objects out of 5281."
      ]
    },
    {
      "cell_type": "code",
      "metadata": {
        "id": "BfhD2zNjqaoA",
        "colab_type": "code",
        "outputId": "e41e0fe1-fe36-42a9-850f-2b23d2819424",
        "colab": {
          "base_uri": "https://localhost:8080/",
          "height": 366
        }
      },
      "source": [
        "# DenseNet201 (7.2M params x 201 layers) 80k 70ep\n",
        "plot_cassification_data(classes, true_class, pred_class, class_confusion_matrix)"
      ],
      "execution_count": 0,
      "outputs": [
        {
          "output_type": "display_data",
          "data": {
            "image/png": "[encoded data removed]",
            "text/plain": [
              "<Figure size 1008x432 with 4 Axes>"
            ]
          },
          "metadata": {
            "tags": [],
            "needs_background": "light"
          }
        }
      ]
    },
    {
      "cell_type": "code",
      "metadata": {
        "id": "t_E6unRsqTAn",
        "colab_type": "code",
        "outputId": "cc13d886-2f9c-4ca3-f424-65696bbbea5f",
        "colab": {
          "base_uri": "https://localhost:8080/",
          "height": 102
        }
      },
      "source": [
        "# DenseNet201 (7.2M params x 201 layers) 80k 70ep\n",
        "print('Correct obj class identified:', obj_identified, 'on', (np.count_nonzero(true_class > 0)))\n",
        "print('Non-obj identified: ', nonobj_identified, 'on', (np.count_nonzero(true_class == 0)),'\\n')\n",
        "print('Accuracy in obj identification:', accuracy_obj_identified)\n",
        "print('Overall accuracy (considering non-obj):', accuracy_overall_identified)"
      ],
      "execution_count": 0,
      "outputs": [
        {
          "output_type": "stream",
          "text": [
            "Correct obj class identified: 12558 on 12719\n",
            "Non-obj identified:  5262 on 5281 \n",
            "\n",
            "Accuracy in obj identification: 0.9873417721518988\n",
            "Overall accuracy (considering non-obj): 0.99\n"
          ],
          "name": "stdout"
        }
      ]
    },
    {
      "cell_type": "markdown",
      "metadata": {
        "id": "TU2JAC4VlwaS",
        "colab_type": "text"
      },
      "source": [
        "## Coordinates predictions\n"
      ]
    },
    {
      "cell_type": "code",
      "metadata": {
        "id": "i8DBStT8trcN",
        "colab_type": "code",
        "colab": {}
      },
      "source": [
        "def IoU(box1, box2):\n",
        "  '''  \n",
        "  Arguments:\n",
        "  box1 -- first box, with coordinates (x, y, w, h)\n",
        "  box2 -- second box, with coordinates (x2, y2, w2, h2)\n",
        "  \n",
        "  Returns:\n",
        "  iou -- scalar\n",
        "  '''    \n",
        "  [x, y, w, h] = box1\n",
        "  [x2, y2, w2, h2] = box2\n",
        "  # Intesection area \n",
        "  xi1 = np.maximum(x, x2)\n",
        "  yi1 = np.maximum(y, y2)\n",
        "  xi2 = np.minimum(x+w, x2+w2)\n",
        "  yi2 = np.minimum(y+h, y2+h2)\n",
        "  xi = np.maximum(0., xi2-xi1)\n",
        "  yi = np.maximum(0., yi2-yi1)\n",
        "  \n",
        "  inter_area = np.multiply(xi,yi)\n",
        "\n",
        "  # Union area\n",
        "  box1_area = (w*h)\n",
        "  box2_area = (w2*h2)\n",
        "  union_area = box1_area+box2_area-inter_area\n",
        "  \n",
        "  # Calculation of IoU\n",
        "  iou = inter_area/union_area\n",
        "  return iou"
      ],
      "execution_count": 0,
      "outputs": []
    },
    {
      "cell_type": "code",
      "metadata": {
        "id": "4lTDym6js1F_",
        "colab_type": "code",
        "colab": {}
      },
      "source": [
        "# The average IoU of the whole dataset\n",
        "def mean_IoU(expe_bboxes, pred_bboxes):\n",
        "  '''  \n",
        "  Arguments:\n",
        "  expe_bboxes -- np.array(dim_test, n_bb, 5), expected bounding boxes \n",
        "  pred_bboxes -- np.array(dim_test, n_bb, 5), predicted bounding boxes \n",
        "  \n",
        "  Returns:\n",
        "  iou -- scalar, value of Intersection over Union of the whole dataset\n",
        "  '''    \n",
        "  \n",
        "  expe = expe_bboxes.reshape(-1,6)\n",
        "  pred = pred_bboxes.reshape(-1,6)\n",
        "  total_bb = expe.shape[0] \n",
        "\n",
        "  iou_global = 0\n",
        "  real_bb = 0\n",
        "  for i in range(total_bb):\n",
        "    [eCl, _, x , y, w, h] = expe[i, :] \n",
        "    [cl, _, x2, y2, w2, h2] = pred[i, :]  \n",
        "    if cl == 0:\n",
        "      pass\n",
        "    else: \n",
        "      iou_global += IoU([x,y,w,h], [x2,y2,w2,h2])\n",
        "      real_bb += 1\n",
        "\n",
        "  iou_global /= real_bb\n",
        "  return iou_global"
      ],
      "execution_count": 0,
      "outputs": []
    },
    {
      "cell_type": "code",
      "metadata": {
        "id": "wfnRcyjJp6X8",
        "colab_type": "code",
        "colab": {}
      },
      "source": [
        "# The average center of the object in bounding box accuracy of the whole dataset \n",
        "def accuracy_centre(expe_bboxes, pred_bboxes):\n",
        "  '''  \n",
        "  Arguments:\n",
        "  expe_bboxes -- np.array(dim_test, N_bb, 5), expected bounding boxes \n",
        "  pred_bboxes -- np.array(dim_test, N_bb, 5), predicted bounding boxes \n",
        "  \n",
        "  Returns:\n",
        "  iou -- scalar, value of Intersection over Union of the whole dataset\n",
        "  '''    \n",
        "  \n",
        "  expe = expe_bboxes.reshape(-1,6)\n",
        "  pred = pred_bboxes.reshape(-1,6)\n",
        "  total_bb = expe.shape[0] \n",
        "\n",
        "  acc_global = 0\n",
        "  real_bb = 0\n",
        "  for i in range(total_bb):\n",
        "    [cl, _, x , y, w, h] = expe[i, :] \n",
        "    [eCl, _, x2, y2, w2, h2] = pred[i, :]  \n",
        "    if eCl == 0:\n",
        "      pass\n",
        "    else: \n",
        "      centreX = x+(w/2)\n",
        "      centreY = y+(h/2)\n",
        "      real_bb += 1\n",
        "      acc_global += (x2 < centreX < x2+w2) and (y2 < centreY < y2+h2)\n",
        "\n",
        "  acc_global /= real_bb\n",
        "\n",
        "  return acc_global"
      ],
      "execution_count": 0,
      "outputs": []
    },
    {
      "cell_type": "code",
      "metadata": {
        "id": "I_WAhs1xKXq7",
        "colab_type": "code",
        "colab": {}
      },
      "source": [
        "# concatenate reshaped predictions to use during visualization\n",
        "pred_bboxes = np.concatenate((predict_class, predict_confidence, predict_bboxes), 2)\n",
        "\n",
        "# reshaped expected bboxes of our Validation set\n",
        "expe_bboxes = Y_test.reshape(n_examples, n_bb, -1)"
      ],
      "execution_count": 0,
      "outputs": []
    },
    {
      "cell_type": "code",
      "metadata": {
        "id": "neRko8za92WB",
        "colab_type": "code",
        "colab": {}
      },
      "source": [
        "def visualize_predictions(n_visual, rand_examples, iou_tr, imgTest, pred_bboxes, expe_bboxes):\n",
        "    '''\n",
        "    Arguments:\n",
        "    ax -- plot image\n",
        "    img -- np.array(side_dim,side_dim,3), an image\n",
        "    bboxes -- np.array(n_bb,6), predicted bounding boxes\n",
        "    expe_bboxes -- np.array(n_bb,6), expected bounding boxes\n",
        "    iou_tr -- scalar, IoU treshold\n",
        "\n",
        "    Returns:\n",
        "    None\n",
        "    '''\n",
        "    # image side dimension\n",
        "    side_dim = imgTest.shape[1]\n",
        "\n",
        "    # number of bounding boxes\n",
        "    n_bb = pred_bboxes.shape[1]\n",
        "\n",
        "    # show predictions\n",
        "    fig = plt.figure(figsize=(18,8))\n",
        "    for i in range (n_visual):\n",
        "      \n",
        "      # We take a random image of our training set\n",
        "      im = rand_examples[i]\n",
        "      ax = fig.add_subplot((n_visual//4)+1,4, i+1)\n",
        "      ax.grid( which='both', color='w', linestyle=':')\n",
        "      plt.xticks(np.arange(0, side_dim, step=10))\n",
        "      ax.set_title('Imagine n.' + str(im))\n",
        "\n",
        "      img = imgTest[im]\n",
        "      pred = pred_bboxes[im]\n",
        "      expe = expe_bboxes[im]\n",
        "\n",
        "      # We look at the objects contained in it...\n",
        "      ax.imshow(img, origin='upper', extent=[0, side_dim, side_dim, 0])\n",
        "\n",
        "      # ...and the bounding boxes predicted by the algorithm\n",
        "      print(' _______________________________________________________________ ')\n",
        "      print(f'| Image:{im:6d}                   |       expected/predicted     |')\n",
        "      for j in range(n_bb):\n",
        "          [Cl, Pc, x, y, w, h] = pred[j]\n",
        "          Cl = classes[int(round(Cl))]\n",
        "          Pc = int(round(Pc))\n",
        "          \n",
        "\n",
        "          [eCl, ePc, x2, y2, w2, h2] = expe[j, :]\n",
        "          eCl = classes[int(round(eCl))]\n",
        "          ePc = int(round(ePc))\n",
        "          iou_bb = IoU([x, y, w, h], [x2, y2, w2, h2])\n",
        "          \n",
        "          if Pc == 0:\n",
        "            rect = patches.Rectangle((x, y), w, h, ec='tab:blue', lw='1.4', fc='none')\n",
        "          else:\n",
        "            if iou_bb >= iou_tr:\n",
        "                rect = patches.Rectangle((x, y), w, h, ec='tab:red', lw='1.4', fc='none')\n",
        "                dida = 'IoU: ' + '{:0.3f} '.format(iou_bb)\n",
        "                plt.annotate(dida + Cl, (x + w, y + 0.8), color='tab:red')\n",
        "\n",
        "            else:\n",
        "                rect = patches.Rectangle((x, y), w, h, ec='tab:green', lw='1.4', fc='none')\n",
        "\n",
        "          ax.add_patch(rect)\n",
        "          print(f'| Object bounding Box IoU: {iou_bb:5.1%} | confidence {ePc:1d}/{Pc:1d} | class {eCl}/{Cl} |')\n",
        "    plt.show()"
      ],
      "execution_count": 0,
      "outputs": []
    },
    {
      "cell_type": "code",
      "metadata": {
        "id": "jlWgpa15AK6w",
        "colab_type": "code",
        "colab": {}
      },
      "source": [
        "# Image decoding from normalized dataset\n",
        "imgTest = ((np.reshape(X_test, (n_examples, side_dim, side_dim, 3)) * imgs_std) + imgs_mean)/255"
      ],
      "execution_count": 0,
      "outputs": []
    },
    {
      "cell_type": "code",
      "metadata": {
        "id": "vaa72v_Itao8",
        "colab_type": "code",
        "colab": {}
      },
      "source": [
        "# Internent over Union treshold to consider valid Bounding Boxes\n",
        "iou_tr = .3\n",
        "\n",
        "# We look at n_visual random images of our Validation set and at the bounding boxes predicted by the algorithm\n",
        "n_visual = 3\n",
        "\n",
        "# take n_visual random examples\n",
        "rand_examples = np.random.randint(n_examples, size = (n_visual,))"
      ],
      "execution_count": 0,
      "outputs": []
    },
    {
      "cell_type": "markdown",
      "metadata": {
        "id": "zw7MMj9_GsnI",
        "colab_type": "text"
      },
      "source": [
        "\n",
        "> *** We use the examples that we got in Part III to compare the behavior of the different models\n"
      ]
    },
    {
      "cell_type": "code",
      "metadata": {
        "id": "AwNzQEtZ3SMi",
        "colab_type": "code",
        "colab": {}
      },
      "source": [
        "# Same random examples for other models***  \n",
        "rand_examples = [1700, 2732, 1736]"
      ],
      "execution_count": 0,
      "outputs": []
    },
    {
      "cell_type": "markdown",
      "metadata": {
        "id": "-zSlWBktwgyB",
        "colab_type": "text"
      },
      "source": [
        "This time let's take a look at the bounding boxes before seeing our reference metrics (Mean IoU and Mean xy-center Acccuracy). As we see using the same examples that we had seen in Part III, the network performs very well almost everywhere. The only anomalous case is the green box in the second image, the neural network continues to be 'disturbed' by the non-object on the right (non-object which, moreover, is correctly indicated as such by the confidence detector and classifier). For other objects the IoU is always higher than 80% and in one case it reaches 98.2%. "
      ]
    },
    {
      "cell_type": "code",
      "metadata": {
        "id": "mTxzrgKyqnCb",
        "colab_type": "code",
        "outputId": "54d28af7-6a63-4a24-b6c5-f213551c14f9",
        "colab": {
          "base_uri": "https://localhost:8080/",
          "height": 537
        }
      },
      "source": [
        "# DenseNet201 (7.2M params x 201 layers) 80k 70ep\n",
        "visualize_predictions(n_visual, rand_examples, iou_tr,\n",
        "                      imgTest, \n",
        "                      pred_bboxes, expe_bboxes)"
      ],
      "execution_count": 0,
      "outputs": [
        {
          "output_type": "stream",
          "text": [
            " _______________________________________________________________ \n",
            "| Image:  1700                   |       expected/predicted     |\n",
            "| Object bounding Box IoU: 88.1% | confidence 1/1 | class ob/ob |\n",
            "| Object bounding Box IoU: 91.7% | confidence 1/1 | class +r/+r |\n",
            "| Object bounding Box IoU: 82.0% | confidence 1/1 | class +r/+r |\n",
            " _______________________________________________________________ \n",
            "| Image:  2732                   |       expected/predicted     |\n",
            "| Object bounding Box IoU: 91.6% | confidence 1/1 | class +b/+b |\n",
            "| Object bounding Box IoU: 13.9% | confidence 1/1 | class or/ob |\n",
            "| Object bounding Box IoU:  0.0% | confidence 0/0 | class --/-- |\n",
            " _______________________________________________________________ \n",
            "| Image:  1736                   |       expected/predicted     |\n",
            "| Object bounding Box IoU: 98.2% | confidence 1/1 | class #r/#r |\n",
            "| Object bounding Box IoU: 89.0% | confidence 1/1 | class og/og |\n",
            "| Object bounding Box IoU: 88.3% | confidence 1/1 | class ob/ob |\n"
          ],
          "name": "stdout"
        },
        {
          "output_type": "display_data",
          "data": {
            "image/png": "[encoded data removed]",
            "text/plain": [
              "<Figure size 1296x576 with 3 Axes>"
            ]
          },
          "metadata": {
            "tags": [],
            "needs_background": "light"
          }
        }
      ]
    },
    {
      "cell_type": "markdown",
      "metadata": {
        "id": "ABM9cVMP27Ra",
        "colab_type": "text"
      },
      "source": [
        "This as we see translates into a Mean IoU of over 90% and an Mean xy-center Accuracy of almost 99%. Below we look at other examples (this time really random from the dataset)."
      ]
    },
    {
      "cell_type": "code",
      "metadata": {
        "id": "HWc6n8OhpkjW",
        "colab_type": "code",
        "colab": {}
      },
      "source": [
        "m_iou = mean_IoU(expe_bboxes, pred_bboxes)\n",
        "m_acc = accuracy_centre(expe_bboxes, pred_bboxes)"
      ],
      "execution_count": 0,
      "outputs": []
    },
    {
      "cell_type": "code",
      "metadata": {
        "id": "bbulrDp-qf2y",
        "colab_type": "code",
        "outputId": "83f51771-138d-42ed-8eb7-0028c748e6dd",
        "colab": {
          "base_uri": "https://localhost:8080/",
          "height": 68
        }
      },
      "source": [
        "# DenseNet201 (7.2M params x 201 layers) 80k 70ep\n",
        "print('Test-set mean IoU is:       ', m_iou)\n",
        "print('Test-set mean xy-center Acc:', m_acc, '\\n')"
      ],
      "execution_count": 0,
      "outputs": [
        {
          "output_type": "stream",
          "text": [
            "Test-set mean IoU is:        0.9008978105288423\n",
            "Test-set mean xy-center Acc: 0.989210899354229 \n",
            "\n"
          ],
          "name": "stdout"
        }
      ]
    },
    {
      "cell_type": "code",
      "metadata": {
        "id": "MdxtGlHB03BN",
        "colab_type": "code",
        "colab": {}
      },
      "source": [
        "# We look at n_visual random images of our Validation set and at the bounding boxes predicted by the algorithm\n",
        "n_visual = 4\n",
        "\n",
        "# take n_visual random examples\n",
        "rand_examples = np.random.randint(n_examples, size = (n_visual,))"
      ],
      "execution_count": 0,
      "outputs": []
    },
    {
      "cell_type": "code",
      "metadata": {
        "id": "y9lDPxRE072v",
        "colab_type": "code",
        "outputId": "e23b5414-e250-4177-94ad-2482bc5f2946",
        "colab": {
          "base_uri": "https://localhost:8080/",
          "height": 602
        }
      },
      "source": [
        "# DenseNet201 (7.2M params x 201 layers) 80k 70ep\n",
        "visualize_predictions(n_visual, rand_examples, iou_tr,\n",
        "                      imgTest, \n",
        "                      pred_bboxes, expe_bboxes)"
      ],
      "execution_count": 0,
      "outputs": [
        {
          "output_type": "stream",
          "text": [
            " _______________________________________________________________ \n",
            "| Image:  1910                   |       expected/predicted     |\n",
            "| Object bounding Box IoU: 94.4% | confidence 1/1 | class or/or |\n",
            "| Object bounding Box IoU: 94.6% | confidence 1/1 | class #r/#r |\n",
            "| Object bounding Box IoU:  0.0% | confidence 0/0 | class --/-- |\n",
            " _______________________________________________________________ \n",
            "| Image:  1865                   |       expected/predicted     |\n",
            "| Object bounding Box IoU: 95.0% | confidence 1/1 | class #g/#g |\n",
            "| Object bounding Box IoU: 93.1% | confidence 1/1 | class og/og |\n",
            "| Object bounding Box IoU: 97.8% | confidence 1/1 | class or/or |\n",
            " _______________________________________________________________ \n",
            "| Image:  4931                   |       expected/predicted     |\n",
            "| Object bounding Box IoU: 95.3% | confidence 1/1 | class +b/+b |\n",
            "| Object bounding Box IoU: 84.9% | confidence 1/1 | class #r/#r |\n",
            "| Object bounding Box IoU:  0.0% | confidence 0/0 | class --/-- |\n",
            " _______________________________________________________________ \n",
            "| Image:  2353                   |       expected/predicted     |\n",
            "| Object bounding Box IoU: 94.0% | confidence 1/1 | class +r/+r |\n",
            "| Object bounding Box IoU: 94.3% | confidence 1/1 | class +r/+r |\n",
            "| Object bounding Box IoU: -0.0% | confidence 0/0 | class --/-- |\n"
          ],
          "name": "stdout"
        },
        {
          "output_type": "display_data",
          "data": {
            "image/png": "[encoded data removed]",
            "text/plain": [
              "<Figure size 1296x576 with 4 Axes>"
            ]
          },
          "metadata": {
            "tags": [],
            "needs_background": "light"
          }
        }
      ]
    },
    {
      "cell_type": "markdown",
      "metadata": {
        "id": "JmnbhsIHKl_u",
        "colab_type": "text"
      },
      "source": [
        "<br/>\n",
        "<br/>\n",
        "<br/>\n"
      ]
    }
  ]
}