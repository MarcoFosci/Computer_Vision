{
  "nbformat": 4,
  "nbformat_minor": 0,
  "metadata": {
    "colab": {
      "name": "Different_CNN_architectures_test_Part_I_.ipynb",
      "provenance": [],
      "collapsed_sections": [],
      "machine_shape": "hm"
    },
    "kernelspec": {
      "name": "python3",
      "display_name": "Python 3"
    }
  },
  "cells": [
    {
      "cell_type": "markdown",
      "metadata": {
        "id": "39MqI_U-xfF5",
        "colab_type": "text"
      },
      "source": [
        "#Shape detection experiment [use of different Neural Networks]\n",
        "The following Notebook intends to take a look at the detection and classification of a variable number of objects (with relative bounding boxes)in an image dataset using convolutional neural networks taken from the literature on the subject. The structure of this experiment is as follows:\n",
        "___\n",
        "\n",
        "- Premise\n",
        "\n",
        "###I part (common to all neural networks)\n",
        "- Data generation\n",
        "- Examples Visualization \n",
        "- Preprocessing\n",
        "- ML Dataset preparation\n",
        "\n",
        "###II part\n",
        "- Modeling Training phase \n",
        "- Tuning Network\n",
        "\n",
        "###III part\n",
        "- Prediction analysis\n",
        "- Conclusions\n",
        "___\n",
        "\n",
        "#Premise\n",
        "The intention of this work is to test different neural networks taken from the scientific literature in the solution of the same task, that is the identification of different objects present in the same image.\n",
        "\n",
        "In the first part I will dedicate myself to the construction of a 64x64 size dataset of synthetic images. These are images inside which I will insert rectangular, cross and pound shape objects of various sizes and colors in random positions. To make it more complex we consider just objects that have their background with a minimum difference in hue compared to the background of the image.\n",
        "\n",
        "Together with the creation of the images I will develop the bounding boxes that enclose our objects, in order to have examples accompanied by our target values. at the end we will have a dataset with images each of which will contain from 1 to 4 objects of three shapes (o, +, #) with a dominant of different color (red, green, blue)."
      ]
    },
    {
      "cell_type": "code",
      "metadata": {
        "id": "46NjH43m7CNO",
        "colab_type": "code",
        "colab": {}
      },
      "source": [
        "# we import some libraries that will be used during the project\n",
        "import numpy as np\n",
        "import matplotlib.pyplot as plt\n",
        "import matplotlib.patches as patches\n",
        "from google.colab import drive\n",
        "import h5py"
      ],
      "execution_count": 0,
      "outputs": []
    },
    {
      "cell_type": "code",
      "metadata": {
        "id": "GIbjAioHMMuq",
        "colab_type": "code",
        "colab": {
          "base_uri": "https://localhost:8080/",
          "height": 122
        },
        "outputId": "1627f0bd-059b-4b02-8977-9d96c654b5cd"
      },
      "source": [
        "from google.colab import drive\n",
        "drive.mount('/content/drive')"
      ],
      "execution_count": 2,
      "outputs": [
        {
          "output_type": "stream",
          "text": [
            "Go to this URL in a browser: https://accounts.google.com/o/oauth2/auth?client_id=947318989803-6bn6qk8qdgf4n4g3pfee6491hc0brc4i.apps.googleusercontent.com&redirect_uri=urn%3aietf%3awg%3aoauth%3a2.0%3aoob&response_type=code&scope=email%20https%3a%2f%2fwww.googleapis.com%2fauth%2fdocs.test%20https%3a%2f%2fwww.googleapis.com%2fauth%2fdrive%20https%3a%2f%2fwww.googleapis.com%2fauth%2fdrive.photos.readonly%20https%3a%2f%2fwww.googleapis.com%2fauth%2fpeopleapi.readonly\n",
            "\n",
            "Enter your authorization code:\n",
            "··········\n",
            "Mounted at /content/drive\n"
          ],
          "name": "stdout"
        }
      ]
    },
    {
      "cell_type": "code",
      "metadata": {
        "id": "xTtj3f27Ruj7",
        "colab_type": "code",
        "colab": {}
      },
      "source": [
        "# general path \n",
        "path = '/content/drive/My Drive/'"
      ],
      "execution_count": 0,
      "outputs": []
    },
    {
      "cell_type": "markdown",
      "metadata": {
        "id": "JnhcGaU21e2C",
        "colab_type": "text"
      },
      "source": [
        "#Part I"
      ]
    },
    {
      "cell_type": "markdown",
      "metadata": {
        "id": "2gHyRSBU3Wry",
        "colab_type": "text"
      },
      "source": [
        "##Data Generation\n",
        "We create a simple image dataset. Each image will have a maximum size of '*side_dim* x *side_dim*' and will contain up to a maximum of '*n_bb*' objects (rectangles) with different shapes and shades of color. The size of each side will vary between an '*obj_min_dim*' to an '*obj_max_dim*'. \n",
        "\n",
        "Let's consider a background color and a variable color gradation of the objects ('*min_color* - *max_color*') for each RGB channel. The closer the color of the object to the background color, the lower the confidence level ('*Pc_th*') of our bounding boxes."
      ]
    },
    {
      "cell_type": "markdown",
      "metadata": {
        "id": "eprY01eLsmZw",
        "colab_type": "text"
      },
      "source": [
        "We will use 6 coordinates to define our bounding boxes: a '*cl*', wich indicate shape and color ('+r','+g','+b',','xr','xg','xb','or','og','ob'), a '*Pc*', which indicates the confidence level in the presence of an object; '*x*' and '*y*', for the spatial position of the top-left vertex and '*w*' and '*h*' for the extension (width and height).\n",
        "\n",
        "We will also create an array containing the distance between the center of each object and the origin of the axes to sort the bounding boxes in the pre-processing phase and to solve a problem already encountered in previous experiments."
      ]
    },
    {
      "cell_type": "code",
      "metadata": {
        "id": "JFiY4_KYxccr",
        "colab_type": "code",
        "colab": {}
      },
      "source": [
        "# number of dataset images \n",
        "n_imgs = 40000\n",
        "\n",
        "# images side dimension\n",
        "side_dim = 64 \n",
        "\n",
        "# objects min/max side dimensions\n",
        "obj_min_dim = 5\n",
        "obj_max_dim = 15\n",
        "\n",
        "# number of objects\n",
        "n_bb = 3\n",
        "\n",
        "# a dictionary with our classes\n",
        "classes = { 0: '--',\n",
        "            1: '+r',\n",
        "            2: '+g',\n",
        "            3: '+b',\n",
        "            4: '#r',\n",
        "            5: '#g',\n",
        "            6: '#b',\n",
        "            7: 'or',\n",
        "            8: 'og',\n",
        "            9: 'ob'}\n",
        "            \n",
        "# grey level of the background RGB = (bckg,bckg,bckg)\n",
        "bckg = 200\n",
        "\n",
        "# obj RGB colors thresholds\n",
        "min_color = 1\n",
        "max_color = 255\n",
        "\n",
        "# confidence threshold\n",
        "Pc_th = .4"
      ],
      "execution_count": 0,
      "outputs": []
    },
    {
      "cell_type": "markdown",
      "metadata": {
        "id": "6UfdPxd047XF",
        "colab_type": "text"
      },
      "source": [
        "Let's define a python method for creating images, bounding boxes and the distance of each object from the origin of the axes:"
      ]
    },
    {
      "cell_type": "code",
      "metadata": {
        "id": "zxDy7vhH2o_f",
        "colab_type": "code",
        "colab": {}
      },
      "source": [
        "# method to create objects in images and relative bounding boxes\n",
        "def new_dataset(n_imgs, \n",
        "                n_bb, \n",
        "                side_dim, \n",
        "                obj_min_dim, \n",
        "                obj_max_dim, \n",
        "                min_color, \n",
        "                max_color, \n",
        "                bckg, \n",
        "                Pc_th):\n",
        "    '''\n",
        "    Creation of objects in images and relative bounding boxes\n",
        "\n",
        "    Arguments:\n",
        "    n_imgs -- scalar, number of images\n",
        "    n_bb -- scalar, number of Bounding Boxes\n",
        "    side_dim -- size of image sides\n",
        "    obj_min_dim -- scalar, minimum object size\n",
        "    obj_max_dim -- scalar, maximum object size\n",
        "    min_color - scalar, minimum color threshold\n",
        "    max_color - scalar, maximum color threshold\n",
        "    bckg - scalar, background color\n",
        "\n",
        "    Returns:\n",
        "    imgs -- np.array(n_imgs, side_dim, side_dim), images of our dataset\n",
        "    bounding_boxes -- np.array(n_imgs, n_bb, 6), bounding boxes for each image\n",
        "    distance -- np.array(n_imgs, n_bb), distance from origin for each Bounding box\n",
        "    '''\n",
        "    # inizialization of images with a light gray color\n",
        "    imgs = np.ones((n_imgs, side_dim, side_dim, 3), dtype = ('uint8')) * bckg\n",
        "\n",
        "    # inizialization of bounding boxes\n",
        "    bounding_boxes = np.zeros((n_imgs, n_bb, 6))\n",
        "\n",
        "    # inizialization of origin distance array\n",
        "    distance = np.zeros((n_imgs, n_bb))\n",
        "\n",
        "    # objects creation and evaluation of distance from origin\n",
        "    for img_number in range(n_imgs):\n",
        "        for i_ogg in range(n_bb):\n",
        "            # shapes:  0 = '+'  /  1 = 'x'  /  2 = '#'\n",
        "            shape = np.random.randint(3) * 3\n",
        "\n",
        "            w = np.random.randint(obj_min_dim, obj_max_dim)\n",
        "            if w % 2 == 0: # we want odd numbers\n",
        "                w += 1\n",
        "            h = np.random.randint(obj_min_dim, obj_max_dim)\n",
        "            if h % 2 == 0: # we want odd numbers\n",
        "                h += 1\n",
        "\n",
        "            x = np.random.randint(0, side_dim - w)\n",
        "            y = np.random.randint(0, side_dim - h)\n",
        "\n",
        "            R = (np.random.randint(min_color, max_color))\n",
        "            G = (np.random.randint(min_color, max_color))\n",
        "            B = (np.random.randint(min_color, max_color))\n",
        "\n",
        "            shape_bckg = round(R+B+G)/3\n",
        "            # initialize background shape color\n",
        "            dominant_color = [shape_bckg] * 3\n",
        "\n",
        "            # dominant color\n",
        "            if R >= G and R >= B:\n",
        "                dominant_color[0] = R\n",
        "                cl = shape + 1\n",
        "            elif G >= R and G >= B:\n",
        "                dominant_color[1] = G\n",
        "                cl = shape + 2\n",
        "            else:\n",
        "                dominant_color[2] = B\n",
        "                cl = shape + 3\n",
        "\n",
        "            # we avoid creating objects with no dominant color (tolerance 32)\n",
        "            if max(R, G, B) - shape_bckg < 32:\n",
        "                # no dominant color objects have no dimensions,\n",
        "                # no bounding boxes and max distance from axes\n",
        "                Pc = 0.  # for the moment we use for all target value Pc = 1\n",
        "                bounding_boxes[img_number, i_ogg] = [0, Pc, 0, 0, 0, 0]\n",
        "                distance[img_number, i_ogg] = np.sqrt(np.square(side_dim) * 2)\n",
        "\n",
        "            # we avoid creating objects that overlap with others\n",
        "            elif np.mean(imgs[img_number, y:y + h, x:x + w, :]) != bckg:\n",
        "                # overlapping objects have no dimensions,\n",
        "                # no bounding boxes and max distance from axes\n",
        "                Pc = 0.  # for the moment we use for all target value Pc = 1\n",
        "                bounding_boxes[img_number, i_ogg] = [0, Pc, 0, 0, 0, 0]\n",
        "                distance[img_number, i_ogg] = np.sqrt(np.square(side_dim) * 2)\n",
        "\n",
        "            else:\n",
        "                imgs[img_number, y:y + h, x:x + w, :] = shape_bckg\n",
        "\n",
        "                # we create a +\n",
        "                if shape == 0:\n",
        "                    imgs[img_number, y + h//2, x:x + w, :] = dominant_color\n",
        "                    imgs[img_number, y: y + h, x + w//2, :] = dominant_color\n",
        "\n",
        "                # we create a #\n",
        "                elif shape == 3:\n",
        "                    x_1 = x + (w // 3)\n",
        "                    x_2 = x + ((w*2)// 3)\n",
        "                    y_1 = y + (h // 3)\n",
        "                    y_2 = y + ((h*2)// 3)\n",
        "                    imgs[img_number, y_1, x:x + w] = dominant_color\n",
        "                    imgs[img_number, y_2, x:x + w] = dominant_color\n",
        "                    imgs[img_number, y:y+ h, x_1] = dominant_color\n",
        "                    imgs[img_number, y:y+ h, x_2] = dominant_color\n",
        "\n",
        "                # we create a o\n",
        "                else:\n",
        "                    x_from = x + (w // 3)\n",
        "                    x_to = x + round(w / 3 * 2)\n",
        "                    y_from = y + (h // 3)\n",
        "                    y_to = y + round(h / 3 * 2)\n",
        "                    imgs[img_number, y_from, x_from:x_to] = dominant_color\n",
        "                    imgs[img_number, y_from:y_to, x_to] = dominant_color\n",
        "                    imgs[img_number, y_from:y_to, x_from] = dominant_color\n",
        "                    imgs[img_number, y_to, x_from:x_to+1] = dominant_color\n",
        "\n",
        "                # we establish the degree of confidence of the object on the basis of\n",
        "                # how dark it is in terms of black and white (sum of the RGB channels)\n",
        "                Pc = min(1, round(max(0, abs(shape_bckg-bckg)-8) ** (5/9))/10 )\n",
        "\n",
        "                # we generate relative bounding boxes\n",
        "                bounding_boxes[img_number, i_ogg] = [cl, Pc, x, y, w, h]\n",
        "\n",
        "                # and calculate the distance from the origin for each Bounding Box\n",
        "                distance[img_number, i_ogg] = np.sqrt(np.square(x + (w / 2)) + np.square(y + (h / 2)))\n",
        "                if (x + (w / 2)) < (y + (h / 2)):\n",
        "                  # to give an extra order element we differenciate object \n",
        "                  # above and below the diagonal y = x\n",
        "                  distance[img_number, i_ogg] = -distance[img_number, i_ogg]\n",
        "\n",
        "                # we avoid to create bounding boxes for examples under Pc_th\n",
        "                if Pc < Pc_th:\n",
        "                  bounding_boxes[img_number, i_ogg] = [0, 0, 0, 0, 0, 0]\n",
        "                  distance[img_number, i_ogg] = np.sqrt(np.square(side_dim) * 2)\n",
        "\n",
        "    return imgs, bounding_boxes, distance"
      ],
      "execution_count": 0,
      "outputs": []
    },
    {
      "cell_type": "markdown",
      "metadata": {
        "id": "uKGrDosAYGmg",
        "colab_type": "text"
      },
      "source": [
        "Now we use our new method. \n"
      ]
    },
    {
      "cell_type": "code",
      "metadata": {
        "id": "ci2EhqFV24r_",
        "colab_type": "code",
        "colab": {}
      },
      "source": [
        "# creation of images, Bounding Boxes and an origin distance to order BB\n",
        "imgs, bounding_boxes, distance = new_dataset(n_imgs, \n",
        "                                                n_bb, \n",
        "                                                side_dim, \n",
        "                                                obj_min_dim, \n",
        "                                                obj_max_dim, \n",
        "                                                min_color, \n",
        "                                                max_color,\n",
        "                                                bckg,\n",
        "                                                Pc_th)"
      ],
      "execution_count": 0,
      "outputs": []
    },
    {
      "cell_type": "code",
      "metadata": {
        "id": "D5UsXXFr27sQ",
        "colab_type": "code",
        "outputId": "1ecca963-e703-42c7-f782-6425abe25e3e",
        "colab": {
          "base_uri": "https://localhost:8080/",
          "height": 68
        }
      },
      "source": [
        "# Let's look at the size of the Numpy arrays for images and bboxes \n",
        "print('Dimension of images array:', imgs.shape)\n",
        "print('Dimension of BBoxes array:', bounding_boxes.shape)\n",
        "print('Dimension of distance array:', distance.shape)"
      ],
      "execution_count": 17,
      "outputs": [
        {
          "output_type": "stream",
          "text": [
            "Dimension of images array: (40000, 64, 64, 3)\n",
            "Dimension of BBoxes array: (40000, 3, 6)\n",
            "Dimension of distance array: (40000, 3)\n"
          ],
          "name": "stdout"
        }
      ]
    },
    {
      "cell_type": "markdown",
      "metadata": {
        "id": "hotfzSjrYbux",
        "colab_type": "text"
      },
      "source": [
        "...and we save dataset in a h5 file in order to reproduce our experiment in the future."
      ]
    },
    {
      "cell_type": "code",
      "metadata": {
        "id": "cnkM3EMlaEYf",
        "colab_type": "code",
        "colab": {}
      },
      "source": [
        "# data path with datasets names\n",
        "data_path = 'Colab_data/'\n",
        "data_images = 'images_' + str(n_imgs//1000) + 'k_' + str(n_bb) + 'bb.h5'\n",
        "trainingset_name = 'XYdata_' + str(n_imgs//1000) + 'k_' + str(n_bb) + 'bb.h5'\n",
        "testset_name = 'XYdata_' + str(n_imgs//1000) + 'k_' + str(n_bb) + 'bb_testset.h5'"
      ],
      "execution_count": 0,
      "outputs": []
    },
    {
      "cell_type": "code",
      "metadata": {
        "id": "cx24ju1bTLSk",
        "colab_type": "code",
        "outputId": "353e1ad1-1835-4e35-f16f-423bad442d36",
        "colab": {
          "base_uri": "https://localhost:8080/",
          "height": 34
        }
      },
      "source": [
        "# save h5 file to store X_Y_datasets\n",
        "imgs_h5f = h5py.File(path + data_path + data_images, 'w')\n",
        "\n",
        "imgs_h5f.create_dataset('imgs', data=imgs)\n",
        "imgs_h5f.create_dataset('bounding_boxes', data=bounding_boxes)\n",
        "imgs_h5f.create_dataset('distance', data=distance)"
      ],
      "execution_count": 19,
      "outputs": [
        {
          "output_type": "execute_result",
          "data": {
            "text/plain": [
              "<HDF5 dataset \"distance\": shape (40000, 3), type \"<f8\">"
            ]
          },
          "metadata": {
            "tags": []
          },
          "execution_count": 19
        }
      ]
    },
    {
      "cell_type": "code",
      "metadata": {
        "id": "c2usUVpWr6fe",
        "colab_type": "code",
        "colab": {}
      },
      "source": [
        "imgs_h5f.close()"
      ],
      "execution_count": 0,
      "outputs": []
    },
    {
      "cell_type": "markdown",
      "metadata": {
        "id": "Tf0mbGPe_MCJ",
        "colab_type": "text"
      },
      "source": [
        "##Examples visualization\n"
      ]
    },
    {
      "cell_type": "markdown",
      "metadata": {
        "id": "vaNkp9mQYzXl",
        "colab_type": "text"
      },
      "source": [
        "We create a method to visualize some random examples of our dataset with relative bounding boxes and distances. "
      ]
    },
    {
      "cell_type": "code",
      "metadata": {
        "id": "uHf87XNq3Fad",
        "colab_type": "code",
        "colab": {}
      },
      "source": [
        "# methode plot image with bounding boxes or distance\n",
        "def visualize_preprocess(ax, img, dist, bboxes, Pc_th):\n",
        "    \"\"\"\n",
        "    Arguments:\n",
        "    ax -- plot image\n",
        "    img -- np.array(32,32,3), an image\n",
        "    dist -- np.array(4), objects distance from origin\n",
        "    bboxes -- np.array(4,5), predicted bounding boxes\n",
        "    Pc_th - scalar, obj level of confidence threshold\n",
        "\n",
        "    Returns:\n",
        "    None\n",
        "    \"\"\"\n",
        "    side_dim = img.shape[0]\n",
        "\n",
        "    # We look at the objects contained in it...\n",
        "    ax.imshow(img, origin='upper', extent=[0, side_dim, side_dim, 0])\n",
        "    n_bb = bboxes.shape[0]\n",
        "\n",
        "    if np.any(dist is None):\n",
        "        # ...and the bounding boxes predicted by the algorithm\n",
        "        for j in range(n_bb):\n",
        "            [cl, Pc, x, y, w, h] = bboxes[j]\n",
        "            if Pc < Pc_th:  # we do not consider objects below the confidence threshold\n",
        "                continue\n",
        "            else:\n",
        "                rect = patches.Rectangle((x, y), w, h, ec='r', lw='1', fc='none')\n",
        "                dida = classes[int(cl)] + ' ' + str(Pc) \n",
        "                plt.annotate(dida, (x + w + 0.8, y + 0.8), color='r')\n",
        "            ax.add_patch(rect)\n",
        "\n",
        "    else:\n",
        "        for j in range(n_bb):\n",
        "            [cl, Pc, x, y, w, h] = bboxes[j]\n",
        "            if Pc < Pc_th:  # we do not consider objects below the confidence threshold\n",
        "                continue\n",
        "            else:\n",
        "                line = patches.Arrow(0, 0, x + (w / 2), y + (h / 2), .3, ec='r')\n",
        "                ax.add_patch(line)\n",
        "                dida = 'dist: ' + '{:0.1f}'.format(dist[j])\n",
        "                plt.annotate(dida, (x + w + 0.8, y + 0.8), color='r')\n"
      ],
      "execution_count": 0,
      "outputs": []
    },
    {
      "cell_type": "markdown",
      "metadata": {
        "id": "ztT-rDYEZFrm",
        "colab_type": "text"
      },
      "source": [
        "Let's check how our examples are, let's visualize them with our new method."
      ]
    },
    {
      "cell_type": "code",
      "metadata": {
        "id": "SV7YyM9q3GWy",
        "colab_type": "code",
        "outputId": "4bea0954-b5c6-4842-dd5a-94e8c7effb04",
        "colab": {
          "base_uri": "https://localhost:8080/",
          "height": 486
        }
      },
      "source": [
        "# We take to observe n_visual random images of our dataset and the relative bounding boxes \n",
        "n_visual = 6\n",
        "rand_example = np.zeros((n_visual,), dtype=int)\n",
        "\n",
        "fig = plt.figure(figsize=(12, 12))\n",
        "for i in range(n_visual):\n",
        "    # We take a random image of our training set\n",
        "    rand_example[i] = np.random.randint(n_imgs)\n",
        "\n",
        "    # We visualize it\n",
        "    ax = fig.add_subplot((n_visual // 3) + 1, 3, i + 1)\n",
        "    ax.grid( which='both', color='w', linestyle=':')\n",
        "    plt.xticks(np.arange(0, side_dim, step=10))\n",
        "\n",
        "    ax.set_title('Imagine n.' + str(rand_example[i]))\n",
        "    visualize_preprocess(ax,\n",
        "                          imgs[rand_example[i]],\n",
        "                          None,\n",
        "                          bounding_boxes[rand_example[i]],\n",
        "                          Pc_th)\n",
        "plt.show()"
      ],
      "execution_count": 22,
      "outputs": [
        {
          "output_type": "display_data",
          "data": {
            "image/png": "[encoded data removed]",
            "text/plain": [
              "<Figure size 864x864 with 6 Axes>"
            ]
          },
          "metadata": {
            "tags": []
          }
        }
      ]
    },
    {
      "cell_type": "markdown",
      "metadata": {
        "id": "dJpR_67MOPiH",
        "colab_type": "text"
      },
      "source": [
        "To be clear on what appears to us, consider the first example (image 38920). In it we have two objects identified with the bounding boxes and one unidentified. This depends on the background color of the image too close to the background color of the unidentified objects (our degree of confidence under Pc_th threshold).\n",
        "\n",
        "If instead the example right next to it (the 36928), we have only two objects, this means that when creating one objects overlapped an existing one and the algorithm did not create it."
      ]
    },
    {
      "cell_type": "markdown",
      "metadata": {
        "id": "ele7Xsg1ZRKp",
        "colab_type": "text"
      },
      "source": [
        "Now let's visualize them again showing the distance from the origin of the contained objects instead of their bounding boxes."
      ]
    },
    {
      "cell_type": "code",
      "metadata": {
        "id": "BKXVjUeq8977",
        "colab_type": "code",
        "outputId": "fb430f9b-f522-49f6-fcbe-d49277a38cb3",
        "colab": {
          "base_uri": "https://localhost:8080/",
          "height": 486
        }
      },
      "source": [
        "# We look at the images again, this time highlighting the distance of the objects from the origin ...\n",
        "fig = plt.figure(figsize=(12,12))\n",
        "\n",
        "for i in range(n_visual):\n",
        "    # We visualize distance\n",
        "    ax = fig.add_subplot((n_visual // 3) + 1, 3, i + 1)\n",
        "    ax.grid( which='both', color='w', linestyle=':')\n",
        "    plt.xticks(np.arange(0, side_dim, step=10))\n",
        "\n",
        "    ax.set_title('Imagine n.' + str(rand_example[i]))\n",
        "    visualize_preprocess(ax,\n",
        "                          imgs[rand_example[i]],\n",
        "                          distance[rand_example[i]],\n",
        "                          bounding_boxes[rand_example[i]],\n",
        "                          Pc_th) \n",
        "plt.show()"
      ],
      "execution_count": 24,
      "outputs": [
        {
          "output_type": "display_data",
          "data": {
            "image/png": "[encoded data removed]",
            "text/plain": [
              "<Figure size 864x864 with 6 Axes>"
            ]
          },
          "metadata": {
            "tags": []
          }
        }
      ]
    },
    {
      "cell_type": "code",
      "metadata": {
        "id": "ohh_WAOgB9km",
        "colab_type": "code",
        "outputId": "b1a9186e-0e54-4d66-cf4f-335764df8e18",
        "colab": {
          "base_uri": "https://localhost:8080/",
          "height": 102
        }
      },
      "source": [
        "# Look at example bounding boxes\n",
        "example = 38920\n",
        "print('bounding boxes for image', example, 'are:')\n",
        "print(bounding_boxes[example])\n",
        "print('relative distance from origin are: ', distance[example])"
      ],
      "execution_count": 26,
      "outputs": [
        {
          "output_type": "stream",
          "text": [
            "bounding boxes for image 38920 are:\n",
            "[[ 5.   1.  44.   9.  15.   7. ]\n",
            " [ 0.   0.   0.   0.   0.   0. ]\n",
            " [ 4.   0.6 24.  21.  11.   9. ]]\n",
            "relative distance from origin are:  [52.99528281 90.50966799 38.99358922]\n"
          ],
          "name": "stdout"
        }
      ]
    },
    {
      "cell_type": "markdown",
      "metadata": {
        "id": "Q5sN3eYlGS7r",
        "colab_type": "text"
      },
      "source": [
        "As we said if we look at the three objects in the figure taken as an example, one have a Pc confidence under 0.4, the other two have a sufficient color gradation, they were detected with a Pc equal to 1. and 0.6."
      ]
    },
    {
      "cell_type": "markdown",
      "metadata": {
        "id": "E3ryrpA1_Wum",
        "colab_type": "text"
      },
      "source": [
        "##Preprocessing\n",
        "###Bounding boxes sorting"
      ]
    },
    {
      "cell_type": "markdown",
      "metadata": {
        "id": "3ZmynTypGD2p",
        "colab_type": "text"
      },
      "source": [
        "\n",
        "We reordered every bounding boxes of an image based on the correspondent object distance from the origin of axes. As we found in another experiment ([find it here on github](https://github.com/MarcoFosci/Shape_Detection/blob/master/Shape_Detection_1.4_.ipynb)), this greatly simplifies the computational work of our neural network."
      ]
    },
    {
      "cell_type": "code",
      "metadata": {
        "id": "smYofMTaa6Qq",
        "colab_type": "code",
        "colab": {}
      },
      "source": [
        "# bounding boxes sorting based on distance from the origin\n",
        "def order_bb(bounding_boxes, distance):   \n",
        "    '''\n",
        "    Arguments:\n",
        "    bounding_boxes -- np.array(N_imgs, N_bb, 6), bounding boxes for each image\n",
        "    distance -- np.array(N_imgs, N_bb), distance from origin for each Bounding box\n",
        "    Returns:\n",
        "    bboxes -- np.array(N_imgs, N_bb, 5), bounding boxes ordered\n",
        "    '''\n",
        "\n",
        "    n_imgs = bounding_boxes.shape[0]\n",
        "    n_bb = bounding_boxes.shape[1]\n",
        "\n",
        "    order = np.zeros((n_imgs, n_bb), dtype=int)\n",
        "    bboxes = np.zeros(bounding_boxes.shape)\n",
        "\n",
        "    for i in range(n_imgs):\n",
        "        order[i] = np.argsort(distance[i])\n",
        "        for j in range(n_bb):\n",
        "            bboxes[i, j] = (bounding_boxes[i, order[i, j]])\n",
        "\n",
        "    return bboxes"
      ],
      "execution_count": 0,
      "outputs": []
    },
    {
      "cell_type": "code",
      "metadata": {
        "id": "RIAhC2WPbOAB",
        "colab_type": "code",
        "colab": {}
      },
      "source": [
        "bb_ordered = order_bb(bounding_boxes, distance) \n",
        "\n",
        "# del some variables to save memory\n",
        "del bounding_boxes, distance"
      ],
      "execution_count": 0,
      "outputs": []
    },
    {
      "cell_type": "code",
      "metadata": {
        "id": "54eA76ZkMymV",
        "colab_type": "code",
        "outputId": "f44be796-9ca3-4fbe-bd58-00a3d6cb5644",
        "colab": {
          "base_uri": "https://localhost:8080/",
          "height": 85
        }
      },
      "source": [
        "# Look again at example bounding boxes\n",
        "print('bounding boxes for image', example, 'are:')\n",
        "print(bb_ordered[example])"
      ],
      "execution_count": 29,
      "outputs": [
        {
          "output_type": "stream",
          "text": [
            "bounding boxes for image 38920 are:\n",
            "[[ 4.   0.6 24.  21.  11.   9. ]\n",
            " [ 5.   1.  44.   9.  15.   7. ]\n",
            " [ 0.   0.   0.   0.   0.   0. ]]\n"
          ],
          "name": "stdout"
        }
      ]
    },
    {
      "cell_type": "markdown",
      "metadata": {
        "id": "DQK0XYp8_kzm",
        "colab_type": "text"
      },
      "source": [
        "###Some more visualization\n"
      ]
    },
    {
      "cell_type": "code",
      "metadata": {
        "id": "b-TWFlHbi9YU",
        "colab_type": "code",
        "outputId": "d8022a73-a3cc-423c-ac77-b138bc41213a",
        "colab": {
          "base_uri": "https://localhost:8080/",
          "height": 34
        }
      },
      "source": [
        "# now we consider classes and confidances of ours objects\n",
        "obj_classes = bb_ordered[:,:,0]\n",
        "obj_confidances = bb_ordered[:,:,1]\n",
        "\n",
        "obj_classes.shape, obj_confidances.shape"
      ],
      "execution_count": 30,
      "outputs": [
        {
          "output_type": "execute_result",
          "data": {
            "text/plain": [
              "((40000, 3), (40000, 3))"
            ]
          },
          "metadata": {
            "tags": []
          },
          "execution_count": 30
        }
      ]
    },
    {
      "cell_type": "code",
      "metadata": {
        "id": "cnZlAJQy2WME",
        "colab_type": "code",
        "outputId": "2be66534-5d92-455c-d4b1-6a3fef245019",
        "colab": {
          "base_uri": "https://localhost:8080/",
          "height": 34
        }
      },
      "source": [
        "# to summarize our classes\n",
        "list(classes.values())"
      ],
      "execution_count": 31,
      "outputs": [
        {
          "output_type": "execute_result",
          "data": {
            "text/plain": [
              "['--', '+r', '+g', '+b', '#r', '#g', '#b', 'or', 'og', 'ob']"
            ]
          },
          "metadata": {
            "tags": []
          },
          "execution_count": 31
        }
      ]
    },
    {
      "cell_type": "markdown",
      "metadata": {
        "id": "n9t5OFaCHaYn",
        "colab_type": "text"
      },
      "source": [
        "Just to get a clearer idea of our dataset let's take a further look at the distribution of the classes. \n",
        "\n",
        "As we see the classes are equally distributed, except for the class zero ('0') where we have grouped the objects not created (because they overlapped wiht other) and the objects with a level of confidence equal to zero (because they got confused with the background color). \n",
        "After sorting, they mostly ended up in the third and second bounding boxes."
      ]
    },
    {
      "cell_type": "code",
      "metadata": {
        "id": "VzmevAYsN_ED",
        "colab_type": "code",
        "outputId": "b0eb10a1-81d4-41d0-f986-39344c6f82f1",
        "colab": {
          "base_uri": "https://localhost:8080/",
          "height": 390
        }
      },
      "source": [
        "# Plot Histogram obj classes distribution\n",
        "bins = np.arange(0, 11, 1)\n",
        "fig = plt.figure(figsize=(12,6))\n",
        "plt.hist(obj_classes, bins=bins-0.5)\n",
        "plt.gca().set(title='obj classes distribution', ylabel='num examples')\n",
        "plt.xticks(ticks=bins, labels=list(classes.values()))\n",
        "plt.legend(['first bboxes in img','second','third'])\n",
        "plt.show()"
      ],
      "execution_count": 32,
      "outputs": [
        {
          "output_type": "display_data",
          "data": {
            "image/png": "[encoded data removed]",
            "text/plain": [
              "<Figure size 864x432 with 1 Axes>"
            ]
          },
          "metadata": {
            "tags": []
          }
        }
      ]
    },
    {
      "cell_type": "code",
      "metadata": {
        "id": "M-Ygu7GrQNrd",
        "colab_type": "code",
        "colab": {}
      },
      "source": [
        "obj_classes = obj_classes.reshape(-1)"
      ],
      "execution_count": 0,
      "outputs": []
    },
    {
      "cell_type": "code",
      "metadata": {
        "id": "vwNr1RfERTbQ",
        "colab_type": "code",
        "outputId": "153cd08b-0021-4355-a145-78585ee05c87",
        "colab": {
          "base_uri": "https://localhost:8080/",
          "height": 51
        }
      },
      "source": [
        "zero = np.count_nonzero(obj_classes == 0) / (n_bb*n_imgs)\n",
        "other = np.count_nonzero(obj_classes > 0) / (9*n_bb*n_imgs)\n",
        "print('Weighted class zero elements out of the total:', zero)\n",
        "print('other classes weighted', other)"
      ],
      "execution_count": 34,
      "outputs": [
        {
          "output_type": "stream",
          "text": [
            "Weighted class zero elements out of the total: 0.29455\n",
            "other classes weighted 0.07838333333333333\n"
          ],
          "name": "stdout"
        }
      ]
    },
    {
      "cell_type": "markdown",
      "metadata": {
        "id": "HljVxCTqBmL_",
        "colab_type": "text"
      },
      "source": [
        "Let's also take a look at the confidence level distribution of our examples. As above we have a large number of examples with cf = 0 (these are exactly the same highlighted by the previous histogram). We also see that a good number of examples have a high level of confidence."
      ]
    },
    {
      "cell_type": "code",
      "metadata": {
        "id": "HsV3SeeTOtDk",
        "colab_type": "code",
        "outputId": "d987e9e8-fe5e-4ad4-fb00-30b0284b9246",
        "colab": {
          "base_uri": "https://localhost:8080/",
          "height": 390
        }
      },
      "source": [
        "# Plot Histogram with obj confidance distribution\n",
        "bins = np.arange(0, 12, 1)\n",
        "\n",
        "fig = plt.figure(figsize=(12,6))\n",
        "plt.hist(obj_confidances, bins=bins/10-0.05)\n",
        "plt.gca().set(title='obj confidance distribution', ylabel='num examples')\n",
        "plt.xticks(ticks=bins/10)\n",
        "plt.legend(['first bboxes in img','second','third'])\n",
        "plt.show()"
      ],
      "execution_count": 35,
      "outputs": [
        {
          "output_type": "display_data",
          "data": {
            "image/png": "[encoded data removed]",
            "text/plain": [
              "<Figure size 864x432 with 1 Axes>"
            ]
          },
          "metadata": {
            "tags": []
          }
        }
      ]
    },
    {
      "cell_type": "code",
      "metadata": {
        "id": "sZ5PPiTZRmcS",
        "colab_type": "code",
        "colab": {}
      },
      "source": [
        "confidances = obj_confidances.reshape(-1)"
      ],
      "execution_count": 0,
      "outputs": []
    },
    {
      "cell_type": "code",
      "metadata": {
        "id": "zidinShNXmBa",
        "colab_type": "code",
        "outputId": "2c1208f7-afe0-42f4-832f-70cc044f6d0a",
        "colab": {
          "base_uri": "https://localhost:8080/",
          "height": 51
        }
      },
      "source": [
        "# just a check - confidance zero is the same of classes '0' elements\n",
        "cf_zero = np.count_nonzero(obj_confidances == 0) / (n_bb*n_imgs)\n",
        "cf_one = np.count_nonzero(obj_confidances == 1) / (n_bb*n_imgs)\n",
        "print('Weighted obj with 0 confidance out of the total:', cf_zero)\n",
        "print('Weighted obj with 1 confidance out of the total:', cf_one)"
      ],
      "execution_count": 37,
      "outputs": [
        {
          "output_type": "stream",
          "text": [
            "Weighted obj with 0 confidance out of the total: 0.29455\n",
            "Weighted obj with 1 confidance out of the total: 0.4327916666666667\n"
          ],
          "name": "stdout"
        }
      ]
    },
    {
      "cell_type": "markdown",
      "metadata": {
        "id": "KHr2uPtiEMaw",
        "colab_type": "text"
      },
      "source": [
        "##Machine Learning Dataset preparation"
      ]
    },
    {
      "cell_type": "markdown",
      "metadata": {
        "id": "QL98atpRdqIW",
        "colab_type": "text"
      },
      "source": [
        "Let's start thinking in terms of Machine Learning.\n",
        "So we normalize our images by centering them on the origin and dividing them by the standard deviation.\n",
        "\n",
        "\n",
        "\n",
        "\n",
        "\n",
        "\n",
        "\n"
      ]
    },
    {
      "cell_type": "code",
      "metadata": {
        "id": "gOeH43VBZ4pH",
        "colab_type": "code",
        "colab": {}
      },
      "source": [
        "# we compute images mean and image standar deviation\n",
        "imgs_mean = np.mean(imgs)\n",
        "imgs_std = np.std(imgs)"
      ],
      "execution_count": 0,
      "outputs": []
    },
    {
      "cell_type": "code",
      "metadata": {
        "id": "2ESm7mpmdsJO",
        "colab_type": "code",
        "outputId": "92009a3e-ceac-4067-d5ff-7812c134ca30",
        "colab": {
          "base_uri": "https://localhost:8080/",
          "height": 54
        }
      },
      "source": [
        "# We normalize our images \n",
        "X = imgs - imgs_mean  # centering\n",
        "X /= imgs_std         # scaling\n",
        "print('X shape: ',X.shape, '---- Average value: ', imgs_mean, '---- Standard deviation:', np.std(imgs))"
      ],
      "execution_count": 39,
      "outputs": [
        {
          "output_type": "stream",
          "text": [
            "X shape:  (40000, 64, 64, 3) ---- Average value:  196.2563520222982 ---- Standard deviation: 18.43078216703757\n"
          ],
          "name": "stdout"
        }
      ]
    },
    {
      "cell_type": "code",
      "metadata": {
        "id": "osNg-kgvC4yh",
        "colab_type": "code",
        "colab": {}
      },
      "source": [
        "# del some variables to save memory\n",
        "del imgs"
      ],
      "execution_count": 0,
      "outputs": []
    },
    {
      "cell_type": "code",
      "metadata": {
        "id": "SecQnCNjdvWx",
        "colab_type": "code",
        "outputId": "18ec68f7-1eed-4e80-8359-049765446498",
        "colab": {
          "base_uri": "https://localhost:8080/",
          "height": 34
        }
      },
      "source": [
        "# ...and we reshape target value\n",
        "Y = bb_ordered.reshape(n_imgs, -1) \n",
        "print('Y shape: ',Y.shape)"
      ],
      "execution_count": 41,
      "outputs": [
        {
          "output_type": "stream",
          "text": [
            "Y shape:  (40000, 18)\n"
          ],
          "name": "stdout"
        }
      ]
    },
    {
      "cell_type": "code",
      "metadata": {
        "id": "VcVesyllfTSZ",
        "colab_type": "code",
        "colab": {}
      },
      "source": [
        "# del some variables to save memory\n",
        "del bb_ordered"
      ],
      "execution_count": 0,
      "outputs": []
    },
    {
      "cell_type": "markdown",
      "metadata": {
        "id": "R_PFOWDmd2JI",
        "colab_type": "text"
      },
      "source": [
        "Below we see the shape of our X values and we observe one of our Y target values."
      ]
    },
    {
      "cell_type": "code",
      "metadata": {
        "id": "P2PjqsQVdy7T",
        "colab_type": "code",
        "outputId": "fdf0bc62-3310-42fb-abdf-c3894c1ed158",
        "colab": {
          "base_uri": "https://localhost:8080/",
          "height": 119
        }
      },
      "source": [
        "print('Images example', i, 'has shape:\\n', X[example].shape, '\\n')\n",
        "print('...and the target values Y are:\\n', Y[example])\n"
      ],
      "execution_count": 43,
      "outputs": [
        {
          "output_type": "stream",
          "text": [
            "Images example 5 has shape:\n",
            " (64, 64, 3) \n",
            "\n",
            "...and the target values Y are:\n",
            " [ 4.   0.6 24.  21.  11.   9.   5.   1.  44.   9.  15.   7.   0.   0.\n",
            "  0.   0.   0.   0. ]\n"
          ],
          "name": "stdout"
        }
      ]
    },
    {
      "cell_type": "markdown",
      "metadata": {
        "id": "e6_dRFBzkKPC",
        "colab_type": "text"
      },
      "source": [
        "We have a homogeneous dataset of the N_imgs elements that we now share in Training set and Test set in relation 90% and 10%."
      ]
    },
    {
      "cell_type": "code",
      "metadata": {
        "id": "ydcrgoIIkLlw",
        "colab_type": "code",
        "outputId": "dd558a5d-6222-4d6b-97bb-b0658e3094fd",
        "colab": {
          "base_uri": "https://localhost:8080/",
          "height": 68
        }
      },
      "source": [
        "i = int(0.85 * n_imgs)\n",
        "\n",
        "X_train = X[:i]\n",
        "Y_train = Y[:i]\n",
        "\n",
        "X_test = X[i:]\n",
        "Y_test = Y[i:]\n",
        "\n",
        "print('Below the dimensions of X and Y for Training set and Test set respectively\\n')\n",
        "print(X_train.shape, Y_train.shape, X_test.shape, Y_test.shape)"
      ],
      "execution_count": 45,
      "outputs": [
        {
          "output_type": "stream",
          "text": [
            "Below the dimensions of X and Y for Training set and Test set respectively\n",
            "\n",
            "(34000, 64, 64, 3) (34000, 18) (6000, 64, 64, 3) (6000, 18)\n"
          ],
          "name": "stdout"
        }
      ]
    },
    {
      "cell_type": "markdown",
      "metadata": {
        "id": "TgdMyOAganjo",
        "colab_type": "text"
      },
      "source": [
        "As a last step of this part of the project we save our examples in an h5 file. In Part II we will start training and perform network tuning."
      ]
    },
    {
      "cell_type": "code",
      "metadata": {
        "id": "ciiX20vsdjBb",
        "colab_type": "code",
        "colab": {}
      },
      "source": [
        "# save h5 file to store X_Y_trainingset\n",
        "xy_h5f = h5py.File(path + data_path + trainingset_name, 'w')"
      ],
      "execution_count": 0,
      "outputs": []
    },
    {
      "cell_type": "code",
      "metadata": {
        "id": "zabfW9JZbEYP",
        "colab_type": "code",
        "colab": {}
      },
      "source": [
        "xy_h5f.create_dataset('X_train', data=X_train)\n",
        "xy_h5f.create_dataset('Y_train', data=Y_train)\n",
        "xy_h5f.create_dataset('imgs_mean', data = imgs_mean)\n",
        "xy_h5f.create_dataset('imgs_std', data = imgs_std)\n",
        "\n",
        "xy_h5f.close()"
      ],
      "execution_count": 0,
      "outputs": []
    },
    {
      "cell_type": "code",
      "metadata": {
        "id": "BTaEXVsBeBMm",
        "colab_type": "code",
        "colab": {}
      },
      "source": [
        "# save h5 file to store X_Y_testsets\n",
        "testset_h5f = h5py.File(path + data_path + testset_name, 'w')"
      ],
      "execution_count": 0,
      "outputs": []
    },
    {
      "cell_type": "code",
      "metadata": {
        "id": "NHf-VfV1cFwo",
        "colab_type": "code",
        "colab": {}
      },
      "source": [
        "testset_h5f.create_dataset('X_test', data=X_test)\n",
        "testset_h5f.create_dataset('Y_test', data=Y_test)\n",
        "testset_h5f.create_dataset('imgs_mean', data = imgs_mean)\n",
        "testset_h5f.create_dataset('imgs_std', data = imgs_std)\n",
        "\n",
        "testset_h5f.close()"
      ],
      "execution_count": 0,
      "outputs": []
    },
    {
      "cell_type": "code",
      "metadata": {
        "id": "aAGBneRygFyY",
        "colab_type": "code",
        "colab": {}
      },
      "source": [
        ""
      ],
      "execution_count": 0,
      "outputs": []
    },
    {
      "cell_type": "code",
      "metadata": {
        "id": "VfFlKrL8XuZV",
        "colab_type": "code",
        "colab": {}
      },
      "source": [
        "quit()"
      ],
      "execution_count": 0,
      "outputs": []
    },
    {
      "cell_type": "code",
      "metadata": {
        "id": "RodsouI4eRjF",
        "colab_type": "code",
        "colab": {}
      },
      "source": [
        ""
      ],
      "execution_count": 0,
      "outputs": []
    }
  ]
}