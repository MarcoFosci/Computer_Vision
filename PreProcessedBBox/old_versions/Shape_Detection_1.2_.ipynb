{
  "nbformat": 4,
  "nbformat_minor": 0,
  "metadata": {
    "colab": {
      "name": "01_Shape_Detection.ipynb",
      "version": "0.3.2",
      "provenance": [],
      "collapsed_sections": [],
      "toc_visible": true
    },
    "kernelspec": {
      "name": "python3",
      "display_name": "Python 3"
    },
    "accelerator": "GPU"
  },
  "cells": [
    {
      "metadata": {
        "id": "icfuQEalue0a",
        "colab_type": "text"
      },
      "cell_type": "markdown",
      "source": [
        "### Note\n",
        "I use the same premise of work as the previous experiment and the same steps.  as before I have implemented some functions with the purpose of inserting them (in the future) into an external file and recalling them via 'import'. I immediately define them to lighten the reading of the session. Among them there is also the new loss function, an Euclidean Distance Loss. Compared to the last experiment, I changed the dimensions of the dataset to 12,500 examples to speed up the training operations and evaluate the loss function."
      ]
    },
    {
      "metadata": {
        "id": "sSG18eheqP1f",
        "colab_type": "code",
        "colab": {}
      },
      "cell_type": "code",
      "source": [
        "import numpy as np\n",
        "import matplotlib.pyplot as plt\n",
        "import keras.backend as K \n",
        "\n",
        "\n",
        "def euc_loss(y_true, y_pred):\n",
        "  '''  \n",
        "  Arguments:\n",
        "  y_true -- tensor with expected Y\n",
        "  y_pred -- tensor with predicted Y\n",
        "  \n",
        "  Returns:\n",
        "  euc_dist -- scalar\n",
        "  '''\n",
        "  euc_dist = K.sqrt(K.sum(K.square(y_pred - y_true), axis=-1))\n",
        "  return euc_dist\n",
        "  \n",
        "# We define one of the reference metrics to analyze our results\n",
        "# the Intersection over Union that measures the correspondence \n",
        "# of our predictions with the actual bounding boxes\n",
        "\n",
        "def IoU(box1, box2):\n",
        "  '''  \n",
        "  Arguments:\n",
        "  box1 -- first box, with coordinates (x, y, w, h)\n",
        "  box2 -- second box, with coordinates (x2, y2, w2, h2)\n",
        "  \n",
        "  Returns:\n",
        "  iou -- scalar\n",
        "  '''    \n",
        "  [x, y, w, h] = box1\n",
        "  [x2, y2, w2, h2] = box2\n",
        "    \n",
        "  # Intesection area \n",
        "  xi1 = np.maximum(x, x2)\n",
        "  yi1 = np.maximum(y, y2)\n",
        "  xi2 = np.minimum(x+w, x2+w2)\n",
        "  yi2 = np.minimum(y+h, y2+h2)\n",
        "  xi = np.maximum(0., xi2-xi1)\n",
        "  yi = np.maximum(0., yi2-yi1)\n",
        "  \n",
        "  inter_area = np.multiply(xi,yi)\n",
        "\n",
        "  # Union area\n",
        "  box1_area = (w*h)\n",
        "  box2_area = (w2*h2)\n",
        "  union_area = box1_area+box2_area-inter_area\n",
        "  \n",
        "  # Calculation of IoU\n",
        "  iou = inter_area/union_area\n",
        "\n",
        "  return iou\n",
        "\n",
        "# The average IoU of the a whole dataset \n",
        "def mean_IoU(expe_bboxes, pred_bboxes):\n",
        "  '''  \n",
        "  Arguments:\n",
        "  expe_bboxes -- np.array(dim_test, N_bb, 5), expected bounding boxes \n",
        "  pred_bboxes -- np.array(dim_test, N_bb, 5), predicted bounding boxes \n",
        "  \n",
        "  Returns:\n",
        "  iou -- scalar, value of Intersection over Union of the whole dataset\n",
        "  '''    \n",
        "  [n_examples, N_bb] = expe_bboxes.shape[:2] \n",
        "  IoU_test = np.zeros((n_examples, N_bb)) \n",
        "  iou_global = 0\n",
        "\n",
        "  for i in range(dim_test):\n",
        "    for j in range(N_bb):\n",
        "\n",
        "      [x , y, w, h] = pred_bboxes[i, j, 1:] \n",
        "      [x2, y2, w2, h2] = expe_bboxes[i, j, 1:] \n",
        "\n",
        "      IoU_test[i,j] = IoU([x,y,w,h], [x2,y2,w2,h2])\n",
        "\n",
        "  iou_global = np.mean(IoU_test)\n",
        "  return iou_global\n",
        "\n",
        "def visual_example(imgTest, side_dim, N_bb, pred_bboxes, expe_bboxes):  \n",
        "  '''  \n",
        "  Arguments:\n",
        "  imgTest -- np.array(32,32,3), an image\n",
        "  N_bb -- scalar, number of bounding bboxes for each example\n",
        "  expe_bboxes -- np.array(5), expected bounding boxes  \n",
        "  pred_bboxes -- np.array(5), predicted bounding boxes \n",
        "  \n",
        "  Returns:\n",
        "  None\n",
        "  ''' \n",
        "  \n",
        "  N_bb = expe_bboxes.shape[0]\n",
        "\n",
        "  # We look at the objects contained in it...\n",
        "  fig, ax = plt.subplots(1)\n",
        "  ax.imshow(imgTest, origin = 'upper', interpolation = 'quadric', extent=[0, side_dim, side_dim, 0])\n",
        "\n",
        "  # ...and the bounding boxes predicted by the algorithm\n",
        "  for i in range (N_bb):\n",
        "    [x , y, w, h] = pred_bboxes[i, 1:] \n",
        "    [x2, y2, w2, h2] = expe_bboxes[i, 1:] \n",
        "    \n",
        "    rect = patches.Rectangle((x, y) , w, h, ec='r', lw='1.4', fc='none')\n",
        "\n",
        "    dida = 'IoU: ' + '{:0.3f}'.format(IoU([x,y,w,h], [x2,y2,w2,h2]))\n",
        "    plt.annotate(dida, (x + w , y - 0.8), color='r')\n",
        "\n",
        "    print('Object: ', i+1)\n",
        "    print('B-box confidence:', Pc)\n",
        "    print('B-box coordinates:', '[{:0.2f}'.format(x), '{:0.2f}'.format(y), '{:0.2f}'.format(w), '{:0.2f}]'.format(h))\n",
        "    print('Object coordinates:', '[{:0.2f}'.format(x2), '{:0.2f}'.format(y2), '{:0.2f}'.format(w2), '{:0.2f}]'.format(h2))\n",
        "\n",
        "    ax.add_patch(rect)\n",
        "\n",
        "  plt.show()\n",
        "\n",
        "\n",
        "def visual_metric(train_ex, m_iou, N_ep, Batchs, history, metric):\n",
        "  print('----> Datatset IoU:', m_iou)\n",
        "  print('      Dim. train:', train_ex, 'examples')\n",
        "  print('      Epochs:', N_ep, '- mini-batches:', Batchs)\n",
        "\n",
        "  # Plot training & validation accuracy values\n",
        "  plt.plot(history[metric])\n",
        "  plt.plot(history['val_' + metric])\n",
        "  plt.title('Model ' + metric)\n",
        "  plt.ylabel(metric)\n",
        "  plt.xlabel('Epoch')\n",
        "  plt.legend(['Train', 'Validation'], loc='upper left')\n",
        "  plt.show()"
      ],
      "execution_count": 0,
      "outputs": []
    },
    {
      "metadata": {
        "id": "GY3pca1LzhpH",
        "colab_type": "code",
        "colab": {}
      },
      "cell_type": "code",
      "source": [
        "def iou(y_true, y_pred, label: int):\n",
        "    \"\"\"\n",
        "    Return the Intersection over Union (IoU) for a given label.\n",
        " \n",
        "    Args:\n",
        "        y_true: the expected y values as a one-hot\n",
        "        y_pred: the predicted y values as a one-hot or softmax output\n",
        "        c: the label to return the IoU for\n",
        " \n",
        "    Returns:\n",
        "        the IoU for the given label\n",
        " \n",
        "    \"\"\"\n",
        "    # extract the label values using the argmax operator then\n",
        "    # calculate equality of the predictions and truths to the label\n",
        "    y_true = K.cast(K.equal(K.argmax(y_true), label), K.floatx())\n",
        "    y_pred = K.cast(K.equal(K.argmax(y_pred), label), K.floatx())\n",
        "    # calculate the |intersection| (AND) of the labels\n",
        "    intersection = K.sum(y_true * y_pred)\n",
        "    # calculate the |union| (OR) of the labels\n",
        "    union = K.sum(y_true) + K.sum(y_pred) - intersection\n",
        "    # avoid divide by zero - if the union is zero, return 1\n",
        "    # otherwise, return the intersection over union\n",
        "    return K.switch(K.equal(union, 0), 1.0, intersection / union)\n",
        " \n",
        " \n",
        "def build_iou_for(label: int, name: str=None):\n",
        "    \"\"\"\n",
        "    Build an Intersection over Union (IoU) metric for a label.\n",
        " \n",
        "    Args:\n",
        "        label: the label to build the IoU metric for\n",
        "        name: an optional name for debugging the built method\n",
        " \n",
        "    Returns:\n",
        "        a keras metric to evaluate IoU for the given label\n",
        "         \n",
        "    Note:\n",
        "        label and name support list inputs for multiple labels\n",
        " \n",
        "    \"\"\"\n",
        "    # handle recursive inputs (e.g. a list of labels and names)\n",
        "    if isinstance(label, list):\n",
        "        if isinstance(name, list):\n",
        "            return [build_iou_for(l, n) for (l, n) in zip(label, name)]\n",
        "        return [build_iou_for(l) for l in label]\n",
        " \n",
        "    # build the method for returning the IoU of the given label\n",
        "    def label_iou(y_true, y_pred):\n",
        "        \"\"\"\n",
        "        Return the Intersection over Union (IoU) score for {0}.\n",
        " \n",
        "        Args:\n",
        "            y_true: the expected y values as a one-hot\n",
        "            y_pred: the predicted y values as a one-hot or softmax output\n",
        " \n",
        "        Returns:\n",
        "            the scalar IoU value for the given label ({0})\n",
        " \n",
        "        \"\"\".format(label)\n",
        "        return iou(y_true, y_pred, label)\n",
        " \n",
        "    # if no name is provided, us the label\n",
        "    if name is None:\n",
        "        name = label\n",
        "    # change the name of the method for debugging\n",
        "    label_iou.__name__ = 'iou({})'.format(name)\n",
        " \n",
        "    return label_iou\n",
        " \n",
        "def mean_iou(y_true, y_pred):\n",
        "    \"\"\"\n",
        "    Return the Intersection over Union (IoU) score.\n",
        " \n",
        "    Args:\n",
        "        y_true: the expected y values as a one-hot\n",
        "        y_pred: the predicted y values as a one-hot or softmax output\n",
        " \n",
        "    Returns:\n",
        "        the scalar IoU value (mean over all labels)\n",
        " \n",
        "    \"\"\"\n",
        "    # get number of labels to calculate IoU for\n",
        "    num_labels = 4\n",
        "    # initialize a variable to store total IoU in\n",
        "    total_iou = K.variable(0)\n",
        "    # iterate over labels to calculate IoU for\n",
        "    for label in range(num_labels):\n",
        "        total_iou = total_iou + iou(y_true, y_pred, label)\n",
        "    # divide total IoU by number of labels to get mean IoU\n",
        "    return total_iou / num_labels"
      ],
      "execution_count": 0,
      "outputs": []
    },
    {
      "metadata": {
        "id": "Qncfh05ySrQf",
        "colab_type": "text"
      },
      "cell_type": "markdown",
      "source": [
        "# Object detection in images - Model 1\n",
        "\n",
        "(tags: CNN, Object detection)\n",
        "\n",
        "<small>This work was inspired by [Johannes Rieke article on Medium](https://towardsdatascience.com/object-detection-with-neural-networks-a4e2c46b4491) and by [Andrew Ng's Specialization Course on Deep Learning](https://www.coursera.org/specializations/deep-learning).</small>\n",
        "\n",
        "Rieke's work is interesting for the simplicity with which he creates a trainingset for our purpose - that is, developing bounding boxes that identify particular objects in an image. I dedicate myself in particular to the identification of several objects in the same image.\n",
        "\n",
        "Rieke highlights a big risk: in the identification of N objects, the neural network ends up with not specializing and instead it develops 'average' bounding boxes - more or less equal - useless for our purpose. To solve this problem he proposes an algorithm for swapping the example's targets label between one epoch and another. A mechanism that did not convince me for two reasons:\n",
        "\n",
        "- it considerably weighs the algorithm on a computational level (at the end of epoch the predictions of the network with the target values are compared).\n",
        "- in the tests I did I could not get out of a sort of perpetual oscillation and at every epoch the percentage of swaps remained almost unchanged.\n",
        "\n",
        "Conceptually starting from the work of Rieke I propose a solution that makes clear the importance of a preprocessing of our dataset. In fact, I create an order in the target values of our trainingset. I take as reference point the distance from one of the edges of the image (the origin in a coordinate system). \n",
        "\n",
        "As you can see it is an elegant solution that solves the problem upstream. Later I dedicate myself to improving the efficiency of the neural network.\n",
        "\n"
      ]
    },
    {
      "metadata": {
        "id": "uLnCJvC2Sis8",
        "colab_type": "code",
        "colab": {}
      },
      "cell_type": "code",
      "source": [
        "import numpy as np\n",
        "import matplotlib.pyplot as plt\n",
        "import matplotlib.patches as patches\n",
        "import cv2\n",
        "import tensorflow as tf\n",
        "from keras.models import Sequential\n",
        "from keras.layers import Conv2D, MaxPooling2D, Dense, Dropout, Flatten, Input\n",
        "from keras import optimizers\n",
        "import pickle\n",
        "\n",
        "%matplotlib inline"
      ],
      "execution_count": 0,
      "outputs": []
    },
    {
      "metadata": {
        "id": "9FyhER8HdAUz",
        "colab_type": "text"
      },
      "cell_type": "markdown",
      "source": [
        "We create a simple image dataset. Each image will have a maximum size of 32x32 and will contain up to a maximum of N_bb objects (rectangles) with different shades of color. Their size will vary between a minimum of 1x1 and a maximum of 8x8. [To implement : If the color gradation (0-255) is less than or greater than a certain threshold (in our case <64), the object must not be detected.]\n",
        "\n",
        "At the same time we define our bounding boxes. We will use 5 coordinates: a 'Pc', which indicates the percentage of confidence in the presence of an object; 'x' and 'y', for the spatial position of the top-left vertex and 'w' and 'h' for the extension (width and height)."
      ]
    },
    {
      "metadata": {
        "id": "LEhGGX-QS4SO",
        "colab_type": "code",
        "colab": {}
      },
      "cell_type": "code",
      "source": [
        "N_imgs = 12500\n",
        "\n",
        "# imagines side dimension\n",
        "side_dim = 32 \n",
        "\n",
        "# objects min/max side dimensions\n",
        "obj_min_dim = 2\n",
        "obj_max_dim = 8 \n",
        "\n",
        "# number of objects\n",
        "N_bb = 4 \n",
        "\n",
        "# color thresholds\n",
        "min_threshold = 0\n",
        "max_threshold = 124\n",
        "\n",
        "# confidence threshold\n",
        "Pc_th = .0\n",
        "\n",
        "# inizialization of images with a light gray color (just for aesthetic reasons)\n",
        "imgs = np.ones((N_imgs, side_dim, side_dim,3)) * .9 \n",
        "\n",
        "# inizialization of bounding boxes\n",
        "bounding_boxes = np.zeros((N_imgs, N_bb, 5))\n"
      ],
      "execution_count": 0,
      "outputs": []
    },
    {
      "metadata": {
        "id": "oXOZHTdDt3hN",
        "colab_type": "code",
        "colab": {}
      },
      "cell_type": "code",
      "source": [
        "# inizialization of origin distance array\n",
        "distance = np.zeros((N_imgs, N_bb))\n",
        "\n",
        "# creation of objects in images and relative bounding boxes\n",
        "\n",
        "for N_img in range(N_imgs):\n",
        "    for i_ogg in range(N_bb):\n",
        "        w = np.random.randint(obj_min_dim, obj_max_dim)\n",
        "        h = np.random.randint(obj_min_dim, obj_max_dim)\n",
        "        x = np.random.randint(0, side_dim - w)\n",
        "        y = np.random.randint(0, side_dim - h)\n",
        "          \n",
        "        R = (np.random.randint(min_threshold, max_threshold)) / 255\n",
        "        G = (np.random.randint(min_threshold, max_threshold)) / 255\n",
        "        B = (np.random.randint(min_threshold, max_threshold)) / 255\n",
        "        \n",
        "        imgs[N_img, y:y+h, x:x+w, 0] = R \n",
        "        imgs[N_img, y:y+h, x:x+w, 1] = G \n",
        "        imgs[N_img, y:y+h, x:x+w, 2] = B \n",
        "        \n",
        "\n",
        "        Pc = 1. # for the moment we use for all target value Pc = 1\n",
        "        bounding_boxes[N_img, i_ogg] = [Pc, x, y, w, h]   \n",
        "        \n",
        "        # we calculate the distance from the origin for each Bounding Box\n",
        "        distance[N_img, i_ogg] = np.sqrt(np.square(x+(w/2))+ np.square(y+(h/2)))\n"
      ],
      "execution_count": 0,
      "outputs": []
    },
    {
      "metadata": {
        "id": "TGK4cCnHlJ2G",
        "colab_type": "text"
      },
      "cell_type": "markdown",
      "source": [
        "## Observation and pre-processing\n",
        "First we analyze our datasets and start preprocessing them"
      ]
    },
    {
      "metadata": {
        "id": "jUY7g8MIlfpG",
        "colab_type": "code",
        "outputId": "26165cfc-3869-44e0-d23f-21eff60e0345",
        "colab": {
          "base_uri": "https://localhost:8080/",
          "height": 68
        }
      },
      "cell_type": "code",
      "source": [
        "# Let's look at the size of the Numpy arrays for images and bboxes \n",
        "print('Dimension of images array:', imgs.shape)\n",
        "print('Dimension of BBoxes array:', bounding_boxes.shape)\n",
        "print('Dimension of distance array:', distance.shape)"
      ],
      "execution_count": 5,
      "outputs": [
        {
          "output_type": "stream",
          "text": [
            "Dimension of images array: (12500, 32, 32, 3)\n",
            "Dimension of BBoxes array: (12500, 4, 5)\n",
            "Dimension of distance array: (12500, 4)\n"
          ],
          "name": "stdout"
        }
      ]
    },
    {
      "metadata": {
        "id": "fPeK79wgVDXu",
        "colab_type": "code",
        "outputId": "7aee4457-6358-4b69-df13-75a7e0b81101",
        "colab": {
          "base_uri": "https://localhost:8080/",
          "height": 286
        }
      },
      "cell_type": "code",
      "source": [
        "# We take a random image of our training set\n",
        "im = np.random.randint(N_imgs)\n",
        "print('Imagine n.', im)\n",
        "\n",
        "# Let's look the objects contained in it...\n",
        "fig, ax = plt.subplots(1)\n",
        "ax.imshow(imgs[im], origin = 'upper', interpolation = 'quadric', extent=[0, side_dim, side_dim, 0])\n",
        "\n",
        "# ...and the corresponding bounding boxes\n",
        "for i in range (N_bb):\n",
        "  [Pc, x, y, w, h] = bounding_boxes[im, i]\n",
        "\n",
        "# we consider only a percentage of confidence above the Pc_th\n",
        "# (in our datasets we have Pc with values 0 or 1) but later\n",
        "# Pc will assume probabilistic values between 0 and 1\n",
        "  if Pc >= Pc_th:\n",
        "    rect = patches.Rectangle((x, y) , w, h, ec='r', lw='1.6', fc='none')\n",
        "    ax.add_patch(rect)\n",
        "\n",
        "plt.show()"
      ],
      "execution_count": 6,
      "outputs": [
        {
          "output_type": "stream",
          "text": [
            "Imagine n. 2460\n"
          ],
          "name": "stdout"
        },
        {
          "output_type": "display_data",
          "data": {
            "image/png": "[encoded data removed]",
            "text/plain": [
              "<matplotlib.figure.Figure at 0x7fa3f8fdcba8>"
            ]
          },
          "metadata": {
            "tags": []
          }
        }
      ]
    },
    {
      "metadata": {
        "id": "b0idcZGhsjXG",
        "colab_type": "code",
        "outputId": "7f1c80ab-1d09-41bf-82db-369cd693ec61",
        "colab": {
          "base_uri": "https://localhost:8080/",
          "height": 269
        }
      },
      "cell_type": "code",
      "source": [
        "# We look at the image again, this time highlighting the distance of the objects from the origin ...\n",
        "fig, ax = plt.subplots(1)\n",
        "\n",
        "ax.imshow(imgs[im], origin = 'upper', interpolation = 'hanning', extent=[0, side_dim, side_dim, 0])\n",
        "\n",
        "for i in range (N_bb):\n",
        "  [Pc, x, y, w, h] = bounding_boxes[im, i]\n",
        "\n",
        "  if Pc >= Pc_th:\n",
        "    line = patches.Arrow(0, 0, x+(w/2), y+(h/2), .2, ec='r') \n",
        "    ax.add_patch(line)\n",
        "    dida = 'dist: ' + '{:0.1f}'.format(distance[im,i])\n",
        "    plt.annotate(dida, (x + w + 0.8 , y - 0.8), color='r')\n",
        "\n",
        "plt.show()"
      ],
      "execution_count": 7,
      "outputs": [
        {
          "output_type": "display_data",
          "data": {
            "image/png": "[encoded data removed]",
            "text/plain": [
              "<matplotlib.figure.Figure at 0x7fa3f672e8d0>"
            ]
          },
          "metadata": {
            "tags": []
          }
        }
      ]
    },
    {
      "metadata": {
        "id": "3ZmynTypGD2p",
        "colab_type": "text"
      },
      "cell_type": "markdown",
      "source": [
        "We rearrange the bounding boxes based on the distance from the origin of the objects"
      ]
    },
    {
      "metadata": {
        "id": "5gBRsop_d6t1",
        "colab_type": "code",
        "colab": {}
      },
      "cell_type": "code",
      "source": [
        "order = np.zeros((N_imgs, N_bb), dtype=int)\n",
        "bboxes = np.zeros(bounding_boxes.shape)\n",
        "\n",
        "for i in range(N_imgs):\n",
        "  order[i] = np.argsort(distance[i]) \n",
        "  for j in range(N_bb):\n",
        "    bboxes[i,j] = (bounding_boxes[i, order[i,j]])"
      ],
      "execution_count": 0,
      "outputs": []
    },
    {
      "metadata": {
        "id": "lVAiaQ6juTx9",
        "colab_type": "text"
      },
      "cell_type": "markdown",
      "source": [
        "### Save Datasets\n",
        "Now we save our datasets for future uses"
      ]
    },
    {
      "metadata": {
        "id": "9k7b0ioyuTIL",
        "colab_type": "code",
        "colab": {}
      },
      "cell_type": "code",
      "source": [
        "dataset_name = str(int(N_imgs/1000))"
      ],
      "execution_count": 0,
      "outputs": []
    },
    {
      "metadata": {
        "id": "ckAZRrgHugh9",
        "colab_type": "code",
        "colab": {
          "base_uri": "https://localhost:8080/",
          "height": 54
        },
        "outputId": "59e122bf-f279-49a5-ebf3-2a85d19e6f34"
      },
      "cell_type": "code",
      "source": [
        "\n",
        "# To save datasets\n",
        "np.save('181112_Images_' + dataset_name, imgs)\n",
        "np.save('181112_Bboxes_' + dataset_name, bboxes)\n",
        "\n",
        "# To load datasets\n",
        "'''\n",
        "imgs = np.load('Images_' + dataset_name + '.npy')\n",
        "bboxes = np.load('Bboxes_' + dataset_name + '.npy')\n",
        "print(imgs.shape, bboxes.shape)\n",
        "'''"
      ],
      "execution_count": 10,
      "outputs": [
        {
          "output_type": "execute_result",
          "data": {
            "text/plain": [
              "\"\\nimgs = np.load('Images_' + dataset_name + '.npy')\\nbboxes = np.load('Bboxes_' + dataset_name + '.npy')\\nprint(imgs.shape, bboxes.shape)\\n\""
            ]
          },
          "metadata": {
            "tags": []
          },
          "execution_count": 10
        }
      ]
    },
    {
      "metadata": {
        "id": "FVTByunkgLCA",
        "colab_type": "text"
      },
      "cell_type": "markdown",
      "source": [
        "Let's start thinking in terms of Machine Learning. \n",
        "So we normalize the pixel values contained in our images to have values between -1 and 1 and transfer them to the input X values.\n"
      ]
    },
    {
      "metadata": {
        "id": "YSkMI1oUc0A-",
        "colab_type": "code",
        "outputId": "a701d615-9835-4676-d4fc-162d452636d8",
        "colab": {
          "base_uri": "https://localhost:8080/",
          "height": 51
        }
      },
      "cell_type": "code",
      "source": [
        "X = (imgs - np.mean(imgs)) / np.std(imgs)\n",
        "print(X.shape, np.mean(imgs), np.std(imgs))\n",
        "\n",
        "Y = bboxes.reshape(N_imgs, -1) \n",
        "print(Y.shape)"
      ],
      "execution_count": 11,
      "outputs": [
        {
          "output_type": "stream",
          "text": [
            "(12500, 32, 32, 3) 0.8497362672079277 0.1791630750977642\n",
            "(12500, 20)\n"
          ],
          "name": "stdout"
        }
      ]
    },
    {
      "metadata": {
        "id": "TZQ-YIJYHDGr",
        "colab_type": "text"
      },
      "cell_type": "markdown",
      "source": [
        "Below we see our X values shape"
      ]
    },
    {
      "metadata": {
        "id": "fkQt2zrRp1Hz",
        "colab_type": "code",
        "colab": {
          "base_uri": "https://localhost:8080/",
          "height": 68
        },
        "outputId": "78c864aa-9977-446f-b869-e1de1c2e0859"
      },
      "cell_type": "code",
      "source": [
        "print('Images example', im, 'has shape:\\n', X[im].shape, '\\n')"
      ],
      "execution_count": 12,
      "outputs": [
        {
          "output_type": "stream",
          "text": [
            "Images example 2460 has shape:\n",
            " (32, 32, 3) \n",
            "\n"
          ],
          "name": "stdout"
        }
      ]
    },
    {
      "metadata": {
        "id": "NMDsjFW6HGpP",
        "colab_type": "text"
      },
      "cell_type": "markdown",
      "source": [
        "And then we observe one of our Y target values"
      ]
    },
    {
      "metadata": {
        "id": "aH2NUIkQHGbS",
        "colab_type": "code",
        "outputId": "f7834e40-7ae3-48a8-fec7-ba252783385b",
        "colab": {
          "base_uri": "https://localhost:8080/",
          "height": 68
        }
      },
      "cell_type": "code",
      "source": [
        "print('...and the target values Y are:\\n', Y[im])"
      ],
      "execution_count": 13,
      "outputs": [
        {
          "output_type": "stream",
          "text": [
            "...and the target values Y are:\n",
            " [ 1.  5. 16.  2.  3.  1. 18.  6.  5.  3.  1.  2. 21.  4.  7.  1. 20. 12.\n",
            "  2.  3.]\n"
          ],
          "name": "stdout"
        }
      ]
    },
    {
      "metadata": {
        "id": "4CDu5pmrnQ8h",
        "colab_type": "text"
      },
      "cell_type": "markdown",
      "source": [
        "We have a homogeneous dataset of the N_imgs elements that we now share in Training set, Validation set, and Test set in relation 80%, 10%, 10%."
      ]
    },
    {
      "metadata": {
        "id": "Z9_AAOlaXGsU",
        "colab_type": "code",
        "outputId": "7e9998d0-cded-4119-a5e1-012471b6344e",
        "colab": {
          "base_uri": "https://localhost:8080/",
          "height": 68
        }
      },
      "cell_type": "code",
      "source": [
        "i = int(0.8 * N_imgs)\n",
        "j = int(0.1 * N_imgs)\n",
        "\n",
        "X_train = X[:i]\n",
        "Y_train = Y[:i]\n",
        "train_ex = X_train.shape[0]\n",
        "\n",
        "X_val = X[i:i+j]\n",
        "Y_val = Y[i:i+j]\n",
        "val_ex = X_val.shape[0]\n",
        "\n",
        "X_test = X[i+j:]\n",
        "Y_test = Y[i+j:]\n",
        "test_ex = X_test.shape[0]\n",
        "\n",
        "dim_test = j # useful for the future \n",
        "\n",
        "print('Below the dimensions of X and Y for Training set, Validation set, and Test set respectively\\n')\n",
        "print(X_train.shape, Y_train.shape, X_val.shape, Y_val.shape, X_test.shape, Y_test.shape)"
      ],
      "execution_count": 14,
      "outputs": [
        {
          "output_type": "stream",
          "text": [
            "Below the dimensions of X and Y for Training set, Validation set, and Test set respectively\n",
            "\n",
            "(10000, 32, 32, 3) (10000, 20) (1250, 32, 32, 3) (1250, 20) (1250, 32, 32, 3) (1250, 20)\n"
          ],
          "name": "stdout"
        }
      ]
    },
    {
      "metadata": {
        "id": "afFXlxcAaOwx",
        "colab_type": "text"
      },
      "cell_type": "markdown",
      "source": [
        "## The Neural Network\n",
        "Following our DNN model, is inspired by AlexNet algorithms and uses three pairs of CNN-MaxPooling layers followed by two fully connected layers, for a total of about 460 thousand parameters."
      ]
    },
    {
      "metadata": {
        "id": "qij_SpFYmFXt",
        "colab_type": "code",
        "outputId": "dd41638a-70e1-4715-d467-d2b407dd60be",
        "colab": {
          "base_uri": "https://localhost:8080/",
          "height": 510
        }
      },
      "cell_type": "code",
      "source": [
        "\n",
        "model = Sequential()\n",
        "model.add(Conv2D(48, kernel_size=(8, 8), strides=2, padding='same', activation='relu', input_shape=(side_dim,side_dim,3), data_format='channels_last'))\n",
        "model.add(MaxPooling2D(pool_size=(2, 2), strides=2, padding='valid'))\n",
        "model.add(Conv2D(96, kernel_size=(4, 4), strides=1, padding='same', activation='relu'))\n",
        "model.add(MaxPooling2D(pool_size=(2, 2), strides=2, padding='valid'))\n",
        "model.add(Conv2D(192, kernel_size=(2, 2), strides=1, padding='same', activation='relu'))\n",
        "model.add(MaxPooling2D(pool_size=(2, 2), strides=2, padding='valid'))\n",
        "model.add(Flatten())\n",
        "model.add(Dropout(.4))\n",
        "model.add(Dense(384, activation='relu'))\n",
        "model.add(Dropout(.4))\n",
        "model.add(Dense(Y.shape[-1]))\n",
        "\n",
        "summ = model.summary()"
      ],
      "execution_count": 15,
      "outputs": [
        {
          "output_type": "stream",
          "text": [
            "_________________________________________________________________\n",
            "Layer (type)                 Output Shape              Param #   \n",
            "=================================================================\n",
            "conv2d_1 (Conv2D)            (None, 16, 16, 48)        9264      \n",
            "_________________________________________________________________\n",
            "max_pooling2d_1 (MaxPooling2 (None, 8, 8, 48)          0         \n",
            "_________________________________________________________________\n",
            "conv2d_2 (Conv2D)            (None, 8, 8, 96)          73824     \n",
            "_________________________________________________________________\n",
            "max_pooling2d_2 (MaxPooling2 (None, 4, 4, 96)          0         \n",
            "_________________________________________________________________\n",
            "conv2d_3 (Conv2D)            (None, 4, 4, 192)         73920     \n",
            "_________________________________________________________________\n",
            "max_pooling2d_3 (MaxPooling2 (None, 2, 2, 192)         0         \n",
            "_________________________________________________________________\n",
            "flatten_1 (Flatten)          (None, 768)               0         \n",
            "_________________________________________________________________\n",
            "dropout_1 (Dropout)          (None, 768)               0         \n",
            "_________________________________________________________________\n",
            "dense_1 (Dense)              (None, 384)               295296    \n",
            "_________________________________________________________________\n",
            "dropout_2 (Dropout)          (None, 384)               0         \n",
            "_________________________________________________________________\n",
            "dense_2 (Dense)              (None, 20)                7700      \n",
            "=================================================================\n",
            "Total params: 460,004\n",
            "Trainable params: 460,004\n",
            "Non-trainable params: 0\n",
            "_________________________________________________________________\n"
          ],
          "name": "stdout"
        }
      ]
    },
    {
      "metadata": {
        "id": "I4zi2KLXaagW",
        "colab_type": "text"
      },
      "cell_type": "markdown",
      "source": [
        "At least for the moment we do not worry too much about the efficiency of the loss function and the optimization algorithm. We use the Mean Squared Error for the first and Adadelta for the second."
      ]
    },
    {
      "metadata": {
        "id": "pWxRPbcUbsiX",
        "colab_type": "text"
      },
      "cell_type": "markdown",
      "source": [
        "Let's start with a cycle of 50 epochs:"
      ]
    },
    {
      "metadata": {
        "id": "1wUMfhBIvUY6",
        "colab_type": "code",
        "colab": {}
      },
      "cell_type": "code",
      "source": [
        "N_ep = 25\n",
        "init_ep = 0 \n",
        "Batchs = 16\n",
        "optimizer = 'adadelta'\n",
        "loss = euc_loss\n",
        "# metrics = [IoU_metric]"
      ],
      "execution_count": 0,
      "outputs": []
    },
    {
      "metadata": {
        "id": "KMEHDcWubW4q",
        "colab_type": "text"
      },
      "cell_type": "markdown",
      "source": [
        ""
      ]
    },
    {
      "metadata": {
        "id": "BTg--dQ7643f",
        "colab_type": "code",
        "outputId": "7a857470-89f9-41b4-f4ac-ed6e0fba1956",
        "colab": {
          "base_uri": "https://localhost:8080/",
          "height": 884
        }
      },
      "cell_type": "code",
      "source": [
        "model.compile(optimizer, loss)\n",
        "history = model.fit(X_train, Y_train, epochs=N_ep, validation_data=(X_val, Y_val), batch_size=Batchs, initial_epoch = init_ep, verbose=1)"
      ],
      "execution_count": 35,
      "outputs": [
        {
          "output_type": "stream",
          "text": [
            "Train on 10000 samples, validate on 1250 samples\n",
            "Epoch 1/25\n",
            "10000/10000 [==============================] - 8s 840us/step - loss: 18.7007 - val_loss: 14.0223\n",
            "Epoch 2/25\n",
            "10000/10000 [==============================] - 6s 646us/step - loss: 14.1978 - val_loss: 12.1410\n",
            "Epoch 3/25\n",
            "10000/10000 [==============================] - 7s 651us/step - loss: 13.2251 - val_loss: 12.3995\n",
            "Epoch 4/25\n",
            "10000/10000 [==============================] - 6s 647us/step - loss: 12.5516 - val_loss: 11.5616\n",
            "Epoch 5/25\n",
            "10000/10000 [==============================] - 7s 652us/step - loss: 12.0995 - val_loss: 10.5115\n",
            "Epoch 6/25\n",
            "10000/10000 [==============================] - 6s 649us/step - loss: 11.7396 - val_loss: 10.6623\n",
            "Epoch 7/25\n",
            "10000/10000 [==============================] - 6s 648us/step - loss: 11.4425 - val_loss: 10.6181\n",
            "Epoch 8/25\n",
            "10000/10000 [==============================] - 6s 647us/step - loss: 11.1687 - val_loss: 9.7938\n",
            "Epoch 9/25\n",
            "10000/10000 [==============================] - 6s 648us/step - loss: 10.9120 - val_loss: 10.5967\n",
            "Epoch 10/25\n",
            "10000/10000 [==============================] - 6s 649us/step - loss: 10.6896 - val_loss: 9.9197\n",
            "Epoch 11/25\n",
            "10000/10000 [==============================] - 6s 649us/step - loss: 10.5646 - val_loss: 9.9699\n",
            "Epoch 12/25\n",
            "10000/10000 [==============================] - 6s 649us/step - loss: 10.4018 - val_loss: 9.5104\n",
            "Epoch 13/25\n",
            "10000/10000 [==============================] - 6s 647us/step - loss: 10.2292 - val_loss: 9.2810\n",
            "Epoch 14/25\n",
            "10000/10000 [==============================] - 6s 646us/step - loss: 10.1377 - val_loss: 9.2408\n",
            "Epoch 15/25\n",
            "10000/10000 [==============================] - 6s 646us/step - loss: 9.9506 - val_loss: 9.2220\n",
            "Epoch 16/25\n",
            "10000/10000 [==============================] - 6s 645us/step - loss: 9.8402 - val_loss: 9.1504\n",
            "Epoch 17/25\n",
            "10000/10000 [==============================] - 6s 648us/step - loss: 9.7227 - val_loss: 9.0669\n",
            "Epoch 18/25\n",
            "10000/10000 [==============================] - 6s 646us/step - loss: 9.6380 - val_loss: 9.1323\n",
            "Epoch 19/25\n",
            "10000/10000 [==============================] - 6s 647us/step - loss: 9.4964 - val_loss: 9.2153\n",
            "Epoch 20/25\n",
            "10000/10000 [==============================] - 6s 647us/step - loss: 9.4013 - val_loss: 9.1013\n",
            "Epoch 21/25\n",
            "10000/10000 [==============================] - 7s 651us/step - loss: 9.3637 - val_loss: 9.1761\n",
            "Epoch 22/25\n",
            "10000/10000 [==============================] - 7s 666us/step - loss: 9.2749 - val_loss: 9.1511\n",
            "Epoch 23/25\n",
            "10000/10000 [==============================] - 7s 651us/step - loss: 9.2073 - val_loss: 8.9508\n",
            "Epoch 24/25\n",
            "10000/10000 [==============================] - 6s 650us/step - loss: 9.1540 - val_loss: 9.0423\n",
            "Epoch 25/25\n",
            "10000/10000 [==============================] - 6s 649us/step - loss: 9.0678 - val_loss: 8.9136\n"
          ],
          "name": "stdout"
        }
      ]
    },
    {
      "metadata": {
        "id": "_jSVmX1xvjmC",
        "colab_type": "text"
      },
      "cell_type": "markdown",
      "source": [
        "We save our model structure, weight and training history for future evaluetions. We will have three file: a json for the model, an h5 for weights and _hist to memorize our training history."
      ]
    },
    {
      "metadata": {
        "id": "hJu7TEPpvlkQ",
        "colab_type": "code",
        "colab": {}
      },
      "cell_type": "code",
      "source": [
        "# Name will contains name of the model (181112), number of training examples in thousands (100), \n",
        "# mini-batches (16), final epoch (75)\n",
        "\n",
        "name = '181112_' + 'tr' + str(int(train_ex/1000)) + '_mb' + str(Batchs) + '_e' + str(N_ep)\n",
        "model_name = name + '.json' \n",
        "weight_name = name + '.h5'\n",
        "train_history = name + '_hist'"
      ],
      "execution_count": 0,
      "outputs": []
    },
    {
      "metadata": {
        "id": "328OWKGavoQs",
        "colab_type": "code",
        "colab": {}
      },
      "cell_type": "code",
      "source": [
        "# serialize model to JSON\n",
        "model_json = model.to_json()\n",
        "with open(model_name, 'w') as json_file:\n",
        "    json_file.write(model_json)"
      ],
      "execution_count": 0,
      "outputs": []
    },
    {
      "metadata": {
        "id": "LERhnWpvvreM",
        "colab_type": "code",
        "colab": {
          "base_uri": "https://localhost:8080/",
          "height": 34
        },
        "outputId": "4154380d-fb38-4ead-b1ca-ce75d1a6046f"
      },
      "cell_type": "code",
      "source": [
        "# serialize weights to HDF5\n",
        "model.save_weights(weight_name)\n",
        "print('Saved model to disk')\n",
        "\n",
        "# save just history\n",
        "with open(train_history, 'wb') as hist:\n",
        "  pickle.dump(history, hist)"
      ],
      "execution_count": 38,
      "outputs": [
        {
          "output_type": "stream",
          "text": [
            "Saved model to disk\n"
          ],
          "name": "stdout"
        }
      ]
    },
    {
      "metadata": {
        "id": "r71LbMBzcEi2",
        "colab_type": "text"
      },
      "cell_type": "markdown",
      "source": [
        "##Observation of results\n",
        "We evaluate the results obtained. We use the Test Set for predictions and define a metric, the IoU (Intersection over Union) that supports those we already have for the training phase - that is, loss error and accuracy.\n",
        "\n",
        "The Intersection over Union is an incredibly effective measure to understand how much our forecasts approach the correct bounding boxes of the objects in the images. It has values that oscillate between 0 and 1 and the closer they are to 1, the more the area of our predictions approaches that of the correct bounding boxes.\n"
      ]
    },
    {
      "metadata": {
        "id": "Xqbho47ZwJA9",
        "colab_type": "text"
      },
      "cell_type": "markdown",
      "source": [
        "But first let's take a look at our predictions."
      ]
    },
    {
      "metadata": {
        "id": "p0VX1wHk_fXb",
        "colab_type": "code",
        "colab": {}
      },
      "cell_type": "code",
      "source": [
        "# The predictions of the neural network using our Test set as input\n",
        "pred_bboxes = model.predict(X_test)\n",
        "pred_bboxes = pred_bboxes.reshape(len(pred_bboxes), N_bb, -1)"
      ],
      "execution_count": 0,
      "outputs": []
    },
    {
      "metadata": {
        "id": "M8u6Gv2Lv_O2",
        "colab_type": "code",
        "colab": {
          "base_uri": "https://localhost:8080/",
          "height": 34
        },
        "outputId": "b29cecf3-0b30-43fc-b7d2-02c4f7ee84fb"
      },
      "cell_type": "code",
      "source": [
        "# And the expected bboxes of our Test set\n",
        "expe_bboxes = np.float32(Y_test.reshape(dim_test, N_bb, -1))\n",
        "\n",
        "# Their dimension\n",
        "pred_bboxes.shape, expe_bboxes.shape"
      ],
      "execution_count": 40,
      "outputs": [
        {
          "output_type": "execute_result",
          "data": {
            "text/plain": [
              "((1250, 4, 5), (1250, 4, 5))"
            ]
          },
          "metadata": {
            "tags": []
          },
          "execution_count": 40
        }
      ]
    },
    {
      "metadata": {
        "id": "qkrHhPsK_pJu",
        "colab_type": "code",
        "outputId": "782d0f63-9187-48a3-ae98-0d338afd6a48",
        "colab": {
          "base_uri": "https://localhost:8080/",
          "height": 558
        }
      },
      "cell_type": "code",
      "source": [
        "imgTest = (np.reshape(X_test, (dim_test, side_dim, side_dim, 3)) * np.std(imgs)) + np.mean(imgs)\n",
        "\n",
        "# Consider a random image of our Test set\n",
        "im = np.random.randint(dim_test)\n",
        "\n",
        "# We look at the objects contained in it and the bounding boxes predicted by the algorithm\n",
        "print('Test images:', im)\n",
        "visual_example(imgTest[im], side_dim, N_bb, pred_bboxes[im], expe_bboxes[im])"
      ],
      "execution_count": 41,
      "outputs": [
        {
          "output_type": "stream",
          "text": [
            "Test images: 901\n",
            "Object:  1\n",
            "B-box confidence: 1.0\n",
            "B-box coordinates: [5.72 3.13 5.16 5.47]\n",
            "Object coordinates: [5.00 1.00 3.00 7.00]\n",
            "Object:  2\n",
            "B-box confidence: 1.0\n",
            "B-box coordinates: [2.85 14.68 5.07 5.42]\n",
            "Object coordinates: [2.00 17.00 6.00 4.00]\n",
            "Object:  3\n",
            "B-box confidence: 1.0\n",
            "B-box coordinates: [12.13 19.57 5.41 4.60]\n",
            "Object coordinates: [13.00 18.00 7.00 7.00]\n",
            "Object:  4\n",
            "B-box confidence: 1.0\n",
            "B-box coordinates: [9.84 29.74 6.39 2.75]\n",
            "Object coordinates: [11.00 29.00 7.00 2.00]\n"
          ],
          "name": "stdout"
        },
        {
          "output_type": "display_data",
          "data": {
            "image/png": "[encoded data removed]",
            "text/plain": [
              "<matplotlib.figure.Figure at 0x7fa3f0417e10>"
            ]
          },
          "metadata": {
            "tags": []
          }
        }
      ]
    },
    {
      "metadata": {
        "id": "PVaTaXkm8wet",
        "colab_type": "text"
      },
      "cell_type": "markdown",
      "source": [
        "### Valutazione dei risultati\n",
        "Now we evaluate the results, first by calculating the average IoU for predictions on our Test set."
      ]
    },
    {
      "metadata": {
        "id": "0Uplatfo8buT",
        "colab_type": "code",
        "outputId": "af469fab-ca70-4d5f-bc21-ab19dc14ce8a",
        "colab": {
          "base_uri": "https://localhost:8080/",
          "height": 345
        }
      },
      "cell_type": "code",
      "source": [
        "m_iou = mean_IoU(expe_bboxes, pred_bboxes)\n",
        "visual_metric(train_ex, m_iou, N_ep, Batchs, history.history, 'loss')"
      ],
      "execution_count": 42,
      "outputs": [
        {
          "output_type": "stream",
          "text": [
            "----> Datatset IoU: 0.23451219200112347\n",
            "      Dim. train: 10000 examples\n",
            "      Epochs: 25 - mini-batches: 16\n"
          ],
          "name": "stdout"
        },
        {
          "output_type": "display_data",
          "data": {
            "image/png": "[encoded data removed]",
            "text/plain": [
              "<matplotlib.figure.Figure at 0x7fa3f03f3470>"
            ]
          },
          "metadata": {
            "tags": []
          }
        }
      ]
    },
    {
      "metadata": {
        "id": "T3xkr1LGCCin",
        "colab_type": "code",
        "colab": {}
      },
      "cell_type": "code",
      "source": [
        "vl = history.history['val_loss']\n",
        "tl = history.history['loss']"
      ],
      "execution_count": 0,
      "outputs": []
    },
    {
      "metadata": {
        "id": "iF5o0_t4CCug",
        "colab_type": "code",
        "colab": {}
      },
      "cell_type": "code",
      "source": [
        "N_ep = 50\n",
        "init_ep = 25 \n",
        "Batchs = 16\n",
        "optimizer = 'adadelta'\n",
        "loss = euc_loss"
      ],
      "execution_count": 0,
      "outputs": []
    },
    {
      "metadata": {
        "id": "CATxIz8KFoqg",
        "colab_type": "code",
        "colab": {
          "base_uri": "https://localhost:8080/",
          "height": 884
        },
        "outputId": "5fe4a74d-3e71-46b5-8e14-440064da37d0"
      },
      "cell_type": "code",
      "source": [
        "model.compile(optimizer, loss)\n",
        "history = model.fit(X_train, Y_train, epochs=N_ep, validation_data=(X_val, Y_val), batch_size=Batchs, initial_epoch = init_ep, verbose=1)"
      ],
      "execution_count": 45,
      "outputs": [
        {
          "output_type": "stream",
          "text": [
            "Train on 10000 samples, validate on 1250 samples\n",
            "Epoch 26/50\n",
            "10000/10000 [==============================] - 7s 687us/step - loss: 9.1872 - val_loss: 8.8998\n",
            "Epoch 27/50\n",
            "10000/10000 [==============================] - 7s 652us/step - loss: 8.9534 - val_loss: 8.9282\n",
            "Epoch 28/50\n",
            "10000/10000 [==============================] - 7s 650us/step - loss: 8.8926 - val_loss: 8.9331\n",
            "Epoch 29/50\n",
            "10000/10000 [==============================] - 7s 651us/step - loss: 8.8185 - val_loss: 9.0146\n",
            "Epoch 30/50\n",
            "10000/10000 [==============================] - 6s 650us/step - loss: 8.7784 - val_loss: 9.0297\n",
            "Epoch 31/50\n",
            "10000/10000 [==============================] - 6s 650us/step - loss: 8.7077 - val_loss: 8.8668\n",
            "Epoch 32/50\n",
            "10000/10000 [==============================] - 7s 652us/step - loss: 8.6704 - val_loss: 9.0801\n",
            "Epoch 33/50\n",
            "10000/10000 [==============================] - 7s 652us/step - loss: 8.6437 - val_loss: 9.0589\n",
            "Epoch 34/50\n",
            "10000/10000 [==============================] - 6s 650us/step - loss: 8.5688 - val_loss: 9.3273\n",
            "Epoch 35/50\n",
            "10000/10000 [==============================] - 6s 648us/step - loss: 8.5356 - val_loss: 8.9415\n",
            "Epoch 36/50\n",
            "10000/10000 [==============================] - 6s 648us/step - loss: 8.5109 - val_loss: 8.8172\n",
            "Epoch 37/50\n",
            "10000/10000 [==============================] - 6s 649us/step - loss: 8.4600 - val_loss: 8.9054\n",
            "Epoch 38/50\n",
            "10000/10000 [==============================] - 6s 648us/step - loss: 8.4205 - val_loss: 8.6854\n",
            "Epoch 39/50\n",
            "10000/10000 [==============================] - 7s 653us/step - loss: 8.3538 - val_loss: 8.8796\n",
            "Epoch 40/50\n",
            "10000/10000 [==============================] - 7s 668us/step - loss: 8.3616 - val_loss: 8.7259\n",
            "Epoch 41/50\n",
            "10000/10000 [==============================] - 7s 657us/step - loss: 8.3112 - val_loss: 8.8834\n",
            "Epoch 42/50\n",
            "10000/10000 [==============================] - 7s 654us/step - loss: 8.2574 - val_loss: 8.7644\n",
            "Epoch 43/50\n",
            "10000/10000 [==============================] - 7s 651us/step - loss: 8.2526 - val_loss: 8.7088\n",
            "Epoch 44/50\n",
            "10000/10000 [==============================] - 6s 649us/step - loss: 8.2304 - val_loss: 8.7541\n",
            "Epoch 45/50\n",
            "10000/10000 [==============================] - 6s 649us/step - loss: 8.2186 - val_loss: 8.7786\n",
            "Epoch 46/50\n",
            "10000/10000 [==============================] - 7s 651us/step - loss: 8.1834 - val_loss: 8.8021\n",
            "Epoch 47/50\n",
            "10000/10000 [==============================] - 6s 648us/step - loss: 8.1317 - val_loss: 8.9467\n",
            "Epoch 48/50\n",
            "10000/10000 [==============================] - 7s 653us/step - loss: 8.1313 - val_loss: 8.5880\n",
            "Epoch 49/50\n",
            "10000/10000 [==============================] - 7s 651us/step - loss: 8.0976 - val_loss: 8.8562\n",
            "Epoch 50/50\n",
            "10000/10000 [==============================] - 6s 646us/step - loss: 8.0592 - val_loss: 8.9795\n"
          ],
          "name": "stdout"
        }
      ]
    },
    {
      "metadata": {
        "id": "2x50OFSpGMlv",
        "colab_type": "code",
        "colab": {}
      },
      "cell_type": "code",
      "source": [
        "# Name will contains name of the model (181112), number of training examples in thousands (100), \n",
        "# mini-batches (16), final epoch (75)\n",
        "\n",
        "name = '181112_' + 'tr' + str(int(train_ex/1000)) + '_mb' + str(Batchs) + '_e' + str(N_ep)\n",
        "model_name = name + '.json' \n",
        "weight_name = name + '.h5'\n",
        "train_history = name + '_hist'"
      ],
      "execution_count": 0,
      "outputs": []
    },
    {
      "metadata": {
        "id": "tgkGQL3hGMj0",
        "colab_type": "code",
        "colab": {
          "base_uri": "https://localhost:8080/",
          "height": 34
        },
        "outputId": "1afbc2d8-ba95-441c-f2f6-d515b38d9eb4"
      },
      "cell_type": "code",
      "source": [
        "# serialize weights to HDF5\n",
        "model.save_weights(weight_name)\n",
        "print('Saved model to disk')\n",
        "\n",
        "# save just history\n",
        "with open(train_history, 'wb') as hist:\n",
        "  pickle.dump(history, hist)"
      ],
      "execution_count": 47,
      "outputs": [
        {
          "output_type": "stream",
          "text": [
            "Saved model to disk\n"
          ],
          "name": "stdout"
        }
      ]
    },
    {
      "metadata": {
        "id": "hEZ5a5nZGMgd",
        "colab_type": "code",
        "colab": {}
      },
      "cell_type": "code",
      "source": [
        "vl += history.history['val_loss']\n",
        "tl += history.history['loss']"
      ],
      "execution_count": 0,
      "outputs": []
    },
    {
      "metadata": {
        "id": "wLzu4UoCGh1N",
        "colab_type": "code",
        "colab": {}
      },
      "cell_type": "code",
      "source": [
        "# The predictions of the neural network using our Test set as input\n",
        "pred_bboxes = model.predict(X_test)\n",
        "pred_bboxes = pred_bboxes.reshape(len(pred_bboxes), N_bb, -1)"
      ],
      "execution_count": 0,
      "outputs": []
    },
    {
      "metadata": {
        "id": "4qxjwEgnGMVv",
        "colab_type": "code",
        "colab": {
          "base_uri": "https://localhost:8080/",
          "height": 345
        },
        "outputId": "bf01c4d1-7b16-407c-9123-08c97fa5c849"
      },
      "cell_type": "code",
      "source": [
        "m_iou = mean_IoU(expe_bboxes, pred_bboxes)\n",
        "visual_metric(train_ex, m_iou, N_ep, Batchs, history.history, 'loss')"
      ],
      "execution_count": 50,
      "outputs": [
        {
          "output_type": "stream",
          "text": [
            "----> Datatset IoU: 0.22968387213051455\n",
            "      Dim. train: 10000 examples\n",
            "      Epochs: 50 - mini-batches: 16\n"
          ],
          "name": "stdout"
        },
        {
          "output_type": "display_data",
          "data": {
            "image/png": "[encoded data removed]",
            "text/plain": [
              "<matplotlib.figure.Figure at 0x7fa3def33b00>"
            ]
          },
          "metadata": {
            "tags": []
          }
        }
      ]
    },
    {
      "metadata": {
        "id": "ZwYyI8vIGjcN",
        "colab_type": "code",
        "colab": {}
      },
      "cell_type": "code",
      "source": [
        "N_ep = 75\n",
        "init_ep = 50 \n",
        "Batchs = 16\n",
        "optimizer = 'adadelta'\n",
        "loss = euc_loss"
      ],
      "execution_count": 0,
      "outputs": []
    },
    {
      "metadata": {
        "id": "WCSpbjogX1YP",
        "colab_type": "code",
        "colab": {
          "base_uri": "https://localhost:8080/",
          "height": 884
        },
        "outputId": "30e911cd-0254-459d-d510-199accfa21f1"
      },
      "cell_type": "code",
      "source": [
        "model.compile(optimizer, loss)\n",
        "history = model.fit(X_train, Y_train, epochs=N_ep, validation_data=(X_val, Y_val), batch_size=Batchs, initial_epoch = init_ep, verbose=1)"
      ],
      "execution_count": 52,
      "outputs": [
        {
          "output_type": "stream",
          "text": [
            "Train on 10000 samples, validate on 1250 samples\n",
            "Epoch 51/75\n",
            "10000/10000 [==============================] - 7s 695us/step - loss: 8.2044 - val_loss: 8.6589\n",
            "Epoch 52/75\n",
            "10000/10000 [==============================] - 7s 651us/step - loss: 8.0425 - val_loss: 8.7340\n",
            "Epoch 53/75\n",
            "10000/10000 [==============================] - 6s 649us/step - loss: 7.9928 - val_loss: 8.8224\n",
            "Epoch 54/75\n",
            "10000/10000 [==============================] - 7s 653us/step - loss: 7.9563 - val_loss: 8.6485\n",
            "Epoch 55/75\n",
            "10000/10000 [==============================] - 7s 651us/step - loss: 7.9360 - val_loss: 8.7907\n",
            "Epoch 56/75\n",
            "10000/10000 [==============================] - 6s 647us/step - loss: 7.8865 - val_loss: 8.5514\n",
            "Epoch 57/75\n",
            "10000/10000 [==============================] - 6s 650us/step - loss: 7.8715 - val_loss: 8.8382\n",
            "Epoch 58/75\n",
            "10000/10000 [==============================] - 7s 651us/step - loss: 7.8957 - val_loss: 8.5831\n",
            "Epoch 59/75\n",
            "10000/10000 [==============================] - 7s 650us/step - loss: 7.8348 - val_loss: 8.8441\n",
            "Epoch 60/75\n",
            "10000/10000 [==============================] - 7s 653us/step - loss: 7.8367 - val_loss: 8.7598\n",
            "Epoch 61/75\n",
            "10000/10000 [==============================] - 7s 651us/step - loss: 7.7983 - val_loss: 8.7147\n",
            "Epoch 62/75\n",
            "10000/10000 [==============================] - 6s 648us/step - loss: 7.7901 - val_loss: 8.5684\n",
            "Epoch 63/75\n",
            "10000/10000 [==============================] - 7s 656us/step - loss: 7.7804 - val_loss: 8.5528\n",
            "Epoch 64/75\n",
            "10000/10000 [==============================] - 6s 650us/step - loss: 7.7621 - val_loss: 8.7614\n",
            "Epoch 65/75\n",
            "10000/10000 [==============================] - 6s 647us/step - loss: 7.7104 - val_loss: 8.4403\n",
            "Epoch 66/75\n",
            "10000/10000 [==============================] - 6s 645us/step - loss: 7.6926 - val_loss: 8.7239\n",
            "Epoch 67/75\n",
            "10000/10000 [==============================] - 7s 651us/step - loss: 7.6811 - val_loss: 8.6999\n",
            "Epoch 68/75\n",
            "10000/10000 [==============================] - 6s 645us/step - loss: 7.6659 - val_loss: 8.7534\n",
            "Epoch 69/75\n",
            "10000/10000 [==============================] - 6s 644us/step - loss: 7.6388 - val_loss: 8.6288\n",
            "Epoch 70/75\n",
            "10000/10000 [==============================] - 7s 665us/step - loss: 7.6601 - val_loss: 8.8558\n",
            "Epoch 71/75\n",
            "10000/10000 [==============================] - 7s 660us/step - loss: 7.5797 - val_loss: 8.5102\n",
            "Epoch 72/75\n",
            "10000/10000 [==============================] - 6s 647us/step - loss: 7.5781 - val_loss: 8.5808\n",
            "Epoch 73/75\n",
            "10000/10000 [==============================] - 6s 646us/step - loss: 7.6094 - val_loss: 8.7939\n",
            "Epoch 74/75\n",
            "10000/10000 [==============================] - 6s 650us/step - loss: 7.5516 - val_loss: 8.7040\n",
            "Epoch 75/75\n",
            "10000/10000 [==============================] - 6s 649us/step - loss: 7.5568 - val_loss: 8.5650\n"
          ],
          "name": "stdout"
        }
      ]
    },
    {
      "metadata": {
        "id": "6nupwtrJGjaA",
        "colab_type": "code",
        "colab": {}
      },
      "cell_type": "code",
      "source": [
        "# Name will contains name of the model (181112), number of training examples in thousands (100), \n",
        "# mini-batches (16), final epoch (75)\n",
        "\n",
        "name = '181112_' + 'tr' + str(int(train_ex/1000)) + '_mb' + str(Batchs) + '_e' + str(N_ep)\n",
        "model_name = name + '.json' \n",
        "weight_name = name + '.h5'\n",
        "train_history = name + '_hist'"
      ],
      "execution_count": 0,
      "outputs": []
    },
    {
      "metadata": {
        "id": "Qs7HSD74GjV7",
        "colab_type": "code",
        "colab": {
          "base_uri": "https://localhost:8080/",
          "height": 34
        },
        "outputId": "a89e85a4-f254-4190-d1c3-9fa26b20c6b5"
      },
      "cell_type": "code",
      "source": [
        "# serialize weights to HDF5\n",
        "model.save_weights(weight_name)\n",
        "print('Saved model to disk')\n",
        "\n",
        "# save just history\n",
        "with open(train_history, 'wb') as hist:\n",
        "  pickle.dump(history, hist)"
      ],
      "execution_count": 54,
      "outputs": [
        {
          "output_type": "stream",
          "text": [
            "Saved model to disk\n"
          ],
          "name": "stdout"
        }
      ]
    },
    {
      "metadata": {
        "id": "F7Uo_6L3GjSV",
        "colab_type": "code",
        "colab": {}
      },
      "cell_type": "code",
      "source": [
        "vl += history.history['val_loss']\n",
        "tl += history.history['loss']"
      ],
      "execution_count": 0,
      "outputs": []
    },
    {
      "metadata": {
        "id": "1JDFZuiNGvn6",
        "colab_type": "code",
        "colab": {}
      },
      "cell_type": "code",
      "source": [
        "# The predictions of the neural network using our Test set as input\n",
        "pred_bboxes = model.predict(X_test)\n",
        "pred_bboxes = pred_bboxes.reshape(len(pred_bboxes), N_bb, -1)"
      ],
      "execution_count": 0,
      "outputs": []
    },
    {
      "metadata": {
        "id": "zvPo6dUSGvjl",
        "colab_type": "code",
        "colab": {
          "base_uri": "https://localhost:8080/",
          "height": 345
        },
        "outputId": "1e2dc7b9-09e9-4bd9-e409-297ea9df39f6"
      },
      "cell_type": "code",
      "source": [
        "m_iou = mean_IoU(expe_bboxes, pred_bboxes)\n",
        "visual_metric(train_ex, m_iou, N_ep, Batchs, history.history, 'loss')"
      ],
      "execution_count": 57,
      "outputs": [
        {
          "output_type": "stream",
          "text": [
            "----> Datatset IoU: 0.2627067544551271\n",
            "      Dim. train: 10000 examples\n",
            "      Epochs: 75 - mini-batches: 16\n"
          ],
          "name": "stdout"
        },
        {
          "output_type": "display_data",
          "data": {
            "image/png": "[encoded data removed]",
            "text/plain": [
              "<matplotlib.figure.Figure at 0x7fa3de9f8518>"
            ]
          },
          "metadata": {
            "tags": []
          }
        }
      ]
    },
    {
      "metadata": {
        "id": "eR5wdC8LGve1",
        "colab_type": "code",
        "colab": {}
      },
      "cell_type": "code",
      "source": [
        "N_ep = 100\n",
        "init_ep = 75 \n",
        "Batchs = 16\n",
        "optimizer = 'adadelta'\n",
        "loss = euc_loss"
      ],
      "execution_count": 0,
      "outputs": []
    },
    {
      "metadata": {
        "id": "iRC0h5rRXoQd",
        "colab_type": "code",
        "colab": {
          "base_uri": "https://localhost:8080/",
          "height": 884
        },
        "outputId": "a515ef36-660c-4c2f-8dd4-d8ffe6826cc4"
      },
      "cell_type": "code",
      "source": [
        "model.compile(optimizer, loss)\n",
        "history = model.fit(X_train, Y_train, epochs=N_ep, validation_data=(X_val, Y_val), batch_size=Batchs, initial_epoch = init_ep, verbose=1)"
      ],
      "execution_count": 59,
      "outputs": [
        {
          "output_type": "stream",
          "text": [
            "Train on 10000 samples, validate on 1250 samples\n",
            "Epoch 76/100\n",
            "10000/10000 [==============================] - 7s 703us/step - loss: 7.6574 - val_loss: 8.5162\n",
            "Epoch 77/100\n",
            "10000/10000 [==============================] - 7s 657us/step - loss: 7.5459 - val_loss: 8.6674\n",
            "Epoch 78/100\n",
            "10000/10000 [==============================] - 7s 655us/step - loss: 7.5224 - val_loss: 8.5607\n",
            "Epoch 79/100\n",
            "10000/10000 [==============================] - 7s 652us/step - loss: 7.5193 - val_loss: 8.6440\n",
            "Epoch 80/100\n",
            "10000/10000 [==============================] - 7s 656us/step - loss: 7.4772 - val_loss: 8.5782\n",
            "Epoch 81/100\n",
            "10000/10000 [==============================] - 7s 654us/step - loss: 7.4592 - val_loss: 8.7854\n",
            "Epoch 82/100\n",
            "10000/10000 [==============================] - 7s 654us/step - loss: 7.4447 - val_loss: 8.4776\n",
            "Epoch 83/100\n",
            "10000/10000 [==============================] - 7s 650us/step - loss: 7.4183 - val_loss: 8.6964\n",
            "Epoch 84/100\n",
            "10000/10000 [==============================] - 7s 659us/step - loss: 7.4240 - val_loss: 8.7496\n",
            "Epoch 85/100\n",
            "10000/10000 [==============================] - 7s 655us/step - loss: 7.4027 - val_loss: 8.5066\n",
            "Epoch 86/100\n",
            "10000/10000 [==============================] - 6s 649us/step - loss: 7.3852 - val_loss: 8.7312\n",
            "Epoch 87/100\n",
            "10000/10000 [==============================] - 6s 649us/step - loss: 7.3987 - val_loss: 8.5526\n",
            "Epoch 88/100\n",
            "10000/10000 [==============================] - 7s 675us/step - loss: 7.3799 - val_loss: 8.5109\n",
            "Epoch 89/100\n",
            "10000/10000 [==============================] - 7s 653us/step - loss: 7.3517 - val_loss: 8.7191\n",
            "Epoch 90/100\n",
            "10000/10000 [==============================] - 7s 653us/step - loss: 7.3379 - val_loss: 8.6468\n",
            "Epoch 91/100\n",
            "10000/10000 [==============================] - 7s 654us/step - loss: 7.3448 - val_loss: 8.7404\n",
            "Epoch 92/100\n",
            "10000/10000 [==============================] - 7s 658us/step - loss: 7.3260 - val_loss: 8.5462\n",
            "Epoch 93/100\n",
            "10000/10000 [==============================] - 7s 651us/step - loss: 7.3106 - val_loss: 8.5259\n",
            "Epoch 94/100\n",
            "10000/10000 [==============================] - 7s 655us/step - loss: 7.2724 - val_loss: 8.6003\n",
            "Epoch 95/100\n",
            "10000/10000 [==============================] - 7s 652us/step - loss: 7.2650 - val_loss: 8.8247\n",
            "Epoch 96/100\n",
            "10000/10000 [==============================] - 7s 657us/step - loss: 7.2403 - val_loss: 8.6717\n",
            "Epoch 97/100\n",
            "10000/10000 [==============================] - 7s 653us/step - loss: 7.2297 - val_loss: 8.5440\n",
            "Epoch 98/100\n",
            "10000/10000 [==============================] - 6s 649us/step - loss: 7.2559 - val_loss: 8.6618\n",
            "Epoch 99/100\n",
            "10000/10000 [==============================] - 7s 651us/step - loss: 7.2195 - val_loss: 8.5907\n",
            "Epoch 100/100\n",
            "10000/10000 [==============================] - 7s 652us/step - loss: 7.2229 - val_loss: 8.6243\n"
          ],
          "name": "stdout"
        }
      ]
    },
    {
      "metadata": {
        "id": "0QEiMTaNbm7K",
        "colab_type": "code",
        "colab": {}
      },
      "cell_type": "code",
      "source": [
        "# Name will contains name of the model (181112), number of training examples in thousands (100), \n",
        "# mini-batches (16), final epoch (100)\n",
        "\n",
        "name = '181112_' + 'tr' + str(int(train_ex/1000)) + '_mb' + str(Batchs) + '_e' + str(N_ep)\n",
        "model_name = name + '.json' \n",
        "weight_name = name + '.h5'\n",
        "train_history = name + '_hist'"
      ],
      "execution_count": 0,
      "outputs": []
    },
    {
      "metadata": {
        "id": "upo0gbAGbm2s",
        "colab_type": "code",
        "colab": {
          "base_uri": "https://localhost:8080/",
          "height": 34
        },
        "outputId": "f2d9d8bb-7b15-4cea-8061-87eaf418b67f"
      },
      "cell_type": "code",
      "source": [
        "# serialize weights to HDF5\n",
        "model.save_weights(weight_name)\n",
        "print('Saved model to disk')\n",
        "\n",
        "# save just history\n",
        "with open(train_history, 'wb') as hist:\n",
        "  pickle.dump(history, hist)"
      ],
      "execution_count": 61,
      "outputs": [
        {
          "output_type": "stream",
          "text": [
            "Saved model to disk\n"
          ],
          "name": "stdout"
        }
      ]
    },
    {
      "metadata": {
        "id": "AhmK_VC4bmom",
        "colab_type": "code",
        "colab": {}
      },
      "cell_type": "code",
      "source": [
        "vl += history.history['val_loss']\n",
        "tl += history.history['loss']"
      ],
      "execution_count": 0,
      "outputs": []
    },
    {
      "metadata": {
        "id": "_OFCNYMDbtuX",
        "colab_type": "code",
        "colab": {}
      },
      "cell_type": "code",
      "source": [
        "# The predictions of the neural network using our Test set as input\n",
        "pred_bboxes = model.predict(X_test)\n",
        "pred_bboxes = pred_bboxes.reshape(len(pred_bboxes), N_bb, -1)"
      ],
      "execution_count": 0,
      "outputs": []
    },
    {
      "metadata": {
        "id": "m36odYInbtrn",
        "colab_type": "code",
        "colab": {
          "base_uri": "https://localhost:8080/",
          "height": 345
        },
        "outputId": "5c96ca3c-0c36-4c6a-ea6d-b94e94581461"
      },
      "cell_type": "code",
      "source": [
        "m_iou = mean_IoU(expe_bboxes, pred_bboxes)\n",
        "visual_metric(train_ex, m_iou, N_ep, Batchs, history.history, 'loss')"
      ],
      "execution_count": 64,
      "outputs": [
        {
          "output_type": "stream",
          "text": [
            "----> Datatset IoU: 0.2651591579740376\n",
            "      Dim. train: 10000 examples\n",
            "      Epochs: 100 - mini-batches: 16\n"
          ],
          "name": "stdout"
        },
        {
          "output_type": "display_data",
          "data": {
            "image/png": "[encoded data removed]",
            "text/plain": [
              "<matplotlib.figure.Figure at 0x7fa3de4c3898>"
            ]
          },
          "metadata": {
            "tags": []
          }
        }
      ]
    },
    {
      "metadata": {
        "id": "APopOIr1Xny9",
        "colab_type": "code",
        "colab": {
          "base_uri": "https://localhost:8080/",
          "height": 345
        },
        "outputId": "d74142cf-22f9-4cf6-8ec3-7d532304a984"
      },
      "cell_type": "code",
      "source": [
        "hist = {'val_loss': vl, 'loss': tl}\n",
        "visual_metric(train_ex, m_iou, N_ep, Batchs, hist, 'loss')"
      ],
      "execution_count": 65,
      "outputs": [
        {
          "output_type": "stream",
          "text": [
            "----> Datatset IoU: 0.2651591579740376\n",
            "      Dim. train: 10000 examples\n",
            "      Epochs: 100 - mini-batches: 16\n"
          ],
          "name": "stdout"
        },
        {
          "output_type": "display_data",
          "data": {
            "image/png": "[encoded data removed]",
            "text/plain": [
              "<matplotlib.figure.Figure at 0x7fa3de4afeb8>"
            ]
          },
          "metadata": {
            "tags": []
          }
        }
      ]
    },
    {
      "metadata": {
        "id": "joXegm1EfWIL",
        "colab_type": "code",
        "colab": {
          "base_uri": "https://localhost:8080/",
          "height": 558
        },
        "outputId": "40382932-6aa6-4dc9-f72e-21732a95411f"
      },
      "cell_type": "code",
      "source": [
        "# Consider a random image of our Test set\n",
        "im = np.random.randint(dim_test)\n",
        "\n",
        "# We look at the objects contained in it and the bounding boxes predicted by the algorithm\n",
        "print('Test images:', im)\n",
        "visual_example(imgTest[im], side_dim, N_bb, pred_bboxes[im], expe_bboxes[im])"
      ],
      "execution_count": 67,
      "outputs": [
        {
          "output_type": "stream",
          "text": [
            "Test images: 65\n",
            "Object:  1\n",
            "B-box confidence: 1.0\n",
            "B-box coordinates: [3.59 2.44 3.66 3.95]\n",
            "Object coordinates: [1.00 5.00 3.00 3.00]\n",
            "Object:  2\n",
            "B-box confidence: 1.0\n",
            "B-box coordinates: [6.70 3.21 3.73 4.45]\n",
            "Object coordinates: [7.00 3.00 3.00 3.00]\n",
            "Object:  3\n",
            "B-box confidence: 1.0\n",
            "B-box coordinates: [5.26 8.09 4.81 4.57]\n",
            "Object coordinates: [6.00 7.00 5.00 7.00]\n",
            "Object:  4\n",
            "B-box confidence: 1.0\n",
            "B-box coordinates: [21.55 3.81 3.31 3.37]\n",
            "Object coordinates: [24.00 6.00 3.00 2.00]\n"
          ],
          "name": "stdout"
        },
        {
          "output_type": "display_data",
          "data": {
            "image/png": "[encoded data removed]",
            "text/plain": [
              "<matplotlib.figure.Figure at 0x7fa3de42bd30>"
            ]
          },
          "metadata": {
            "tags": []
          }
        }
      ]
    },
    {
      "metadata": {
        "id": "ALuAFEEMfV5s",
        "colab_type": "code",
        "colab": {}
      },
      "cell_type": "code",
      "source": [
        ""
      ],
      "execution_count": 0,
      "outputs": []
    }
  ]
}