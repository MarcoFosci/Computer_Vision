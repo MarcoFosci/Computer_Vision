{
  "nbformat": 4,
  "nbformat_minor": 0,
  "metadata": {
    "colab": {
      "name": "01_Shape_Detection.ipynb",
      "version": "0.3.2",
      "provenance": [],
      "collapsed_sections": [],
      "toc_visible": true,
      "include_colab_link": true
    },
    "kernelspec": {
      "name": "python3",
      "display_name": "Python 3"
    },
    "accelerator": "GPU"
  },
  "cells": [
    {
      "cell_type": "markdown",
      "metadata": {
        "id": "view-in-github",
        "colab_type": "text"
      },
      "source": [
        "<a href=\"https://colab.research.google.com/github/MarcoFosci/Shape_Detection/blob/master/Shape_Detection_1.1_.ipynb\" target=\"_parent\"><img src=\"https://colab.research.google.com/assets/colab-badge.svg\" alt=\"Open In Colab\"/></a>"
      ]
    },
    {
      "metadata": {
        "id": "icfuQEalue0a",
        "colab_type": "text"
      },
      "cell_type": "markdown",
      "source": [
        "### Note\n",
        "I use the same premise of work as the previous experiment and the same steps.  but I have implemented some functions with the purpose of inserting them (in the future) into an external file and recalling them via 'import'. I immediately define them to lighten the reading of the session."
      ]
    },
    {
      "metadata": {
        "id": "sSG18eheqP1f",
        "colab_type": "code",
        "colab": {}
      },
      "cell_type": "code",
      "source": [
        "import numpy as np\n",
        "import matplotlib.pyplot as plt\n",
        "\n",
        "# We define one of the reference metrics to analyze our results\n",
        "# the Intersection over Union that measures the correspondence \n",
        "# of our predictions with the actual bounding boxes\n",
        "\n",
        "def IoU(box1, box2):\n",
        "  '''  \n",
        "  Arguments:\n",
        "  box1 -- first box, with coordinates (x, y, w, h)\n",
        "  box2 -- second box, with coordinates (x2, y2, w2, h2)\n",
        "  \n",
        "  Returns:\n",
        "  iou -- scalar\n",
        "  '''    \n",
        "  [x, y, w, h] = box1\n",
        "  [x2, y2, w2, h2] = box2\n",
        "    \n",
        "  # Intesection area \n",
        "  xi1 = np.maximum(x, x2)\n",
        "  yi1 = np.maximum(y, y2)\n",
        "  xi2 = np.minimum(x+w, x2+w2)\n",
        "  yi2 = np.minimum(y+h, y2+h2)\n",
        "  xi = np.maximum(0., xi2-xi1)\n",
        "  yi = np.maximum(0., yi2-yi1)\n",
        "  \n",
        "  inter_area = np.multiply(xi,yi)\n",
        "\n",
        "  # Union area\n",
        "  box1_area = (w*h)\n",
        "  box2_area = (w2*h2)\n",
        "  union_area = box1_area+box2_area-inter_area\n",
        "  \n",
        "  # Calculation of IoU\n",
        "  iou = inter_area/union_area\n",
        "\n",
        "  return iou\n",
        "\n",
        "# The average IoU of the a whole dataset \n",
        "def mean_IoU(expe_bboxes, pred_bboxes):\n",
        "  '''  \n",
        "  Arguments:\n",
        "  expe_bboxes -- np.array(dim_test, N_bb, 5), expected bounding boxes \n",
        "  pred_bboxes -- np.array(dim_test, N_bb, 5), predicted bounding boxes \n",
        "  \n",
        "  Returns:\n",
        "  iou -- scalar, value of Intersection over Union of the whole dataset\n",
        "  '''    \n",
        "  [n_examples, N_bb] = expe_bboxes.shape[:2] \n",
        "  IoU_test = np.zeros((n_examples, N_bb)) \n",
        "  iou_global = 0\n",
        "\n",
        "  for i in range(dim_test):\n",
        "    for j in range(N_bb):\n",
        "\n",
        "      [x , y, w, h] = pred_bboxes[i, j, 1:] \n",
        "      [x2, y2, w2, h2] = expe_bboxes[i, j, 1:] \n",
        "\n",
        "      IoU_test[i,j] = IoU([x,y,w,h], [x2,y2,w2,h2])\n",
        "\n",
        "  iou_global = np.mean(IoU_test)\n",
        "  return iou_global\n",
        "\n",
        "def visual_example(imgTest, side_dim, N_bb, pred_bboxes, expe_bboxes):  \n",
        "  '''  \n",
        "  Arguments:\n",
        "  imgTest -- np.array(32,32,3), an image\n",
        "  N_bb -- scalar, number of bounding bboxes for each example\n",
        "  expe_bboxes -- np.array(5), expected bounding boxes  \n",
        "  pred_bboxes -- np.array(5), predicted bounding boxes \n",
        "  \n",
        "  Returns:\n",
        "  None\n",
        "  ''' \n",
        "  \n",
        "  N_bb = expe_bboxes.shape[0]\n",
        "\n",
        "  # We look at the objects contained in it...\n",
        "  fig, ax = plt.subplots(1)\n",
        "  ax.imshow(imgTest, origin = 'upper', interpolation = 'quadric', extent=[0, side_dim, side_dim, 0])\n",
        "\n",
        "  # ...and the bounding boxes predicted by the algorithm\n",
        "  for i in range (N_bb):\n",
        "    [x , y, w, h] = pred_bboxes[i, 1:] \n",
        "    [x2, y2, w2, h2] = expe_bboxes[i, 1:] \n",
        "    \n",
        "    rect = patches.Rectangle((x, y) , w, h, ec='r', lw='1.4', fc='none')\n",
        "\n",
        "    dida = 'IoU: ' + '{:0.3f}'.format(IoU([x,y,w,h], [x2,y2,w2,h2]))\n",
        "    plt.annotate(dida, (x + w , y - 0.8), color='r')\n",
        "\n",
        "    print('Object: ', i+1)\n",
        "    print('B-box confidence:', Pc)\n",
        "    print('B-box coordinates:', '[{:0.2f}'.format(x), '{:0.2f}'.format(y), '{:0.2f}'.format(w), '{:0.2f}]'.format(h))\n",
        "    print('Object coordinates:', '[{:0.2f}'.format(x2), '{:0.2f}'.format(y2), '{:0.2f}'.format(w2), '{:0.2f}]'.format(h2))\n",
        "\n",
        "    ax.add_patch(rect)\n",
        "\n",
        "  plt.show()\n",
        "\n",
        "\n",
        "def visual_metric(train_ex, m_iou, N_ep, Batchs, history, metric):\n",
        "  print('----> Datatset IoU:', m_iou)\n",
        "  print('      Dim. train:', train_ex, 'examples')\n",
        "  print('      Epochs:', N_ep, '- mini-batches:', Batchs)\n",
        "\n",
        "  # Plot training & validation accuracy values\n",
        "  plt.plot(history[metric])\n",
        "  plt.plot(history['val_' + metric])\n",
        "  plt.title('Model ' + metric)\n",
        "  plt.ylabel(metric)\n",
        "  plt.xlabel('Epoch')\n",
        "  plt.legend(['Train', 'Validation'], loc='upper left')\n",
        "  plt.show()"
      ],
      "execution_count": 0,
      "outputs": []
    },
    {
      "metadata": {
        "id": "Qncfh05ySrQf",
        "colab_type": "text"
      },
      "cell_type": "markdown",
      "source": [
        "# Object detection in images - Model 1\n",
        "\n",
        "(tags: CNN, Object detection)\n",
        "\n",
        "<small>This work was inspired by [Johannes Rieke article on Medium](https://towardsdatascience.com/object-detection-with-neural-networks-a4e2c46b4491) and by [Andrew Ng's Specialization Course on Deep Learning](https://www.coursera.org/specializations/deep-learning).</small>\n",
        "\n",
        "Rieke's work is interesting for the simplicity with which he creates a trainingset for our purpose - that is, developing bounding boxes that identify particular objects in an image. I dedicate myself in particular to the identification of several objects in the same image.\n",
        "\n",
        "Rieke highlights a big risk: in the identification of N objects, the neural network ends up with not specializing and instead it develops 'average' bounding boxes - more or less equal - useless for our purpose. To solve this problem he proposes an algorithm for swapping the example's targets label between one epoch and another. A mechanism that did not convince me for two reasons:\n",
        "\n",
        "- it considerably weighs the algorithm on a computational level (at the end of epoch the predictions of the network with the target values are compared).\n",
        "- in the tests I did I could not get out of a sort of perpetual oscillation and at every epoch the percentage of swaps remained almost unchanged.\n",
        "\n",
        "Conceptually starting from the work of Rieke I propose a solution that makes clear the importance of a preprocessing of our dataset. In fact, I create an order in the target values of our trainingset. I take as reference point the distance from one of the edges of the image (the origin in a coordinate system). \n",
        "\n",
        "As you can see it is an elegant solution that solves the problem upstream. Later I dedicate myself to improving the efficiency of the neural network.\n",
        "\n"
      ]
    },
    {
      "metadata": {
        "id": "uLnCJvC2Sis8",
        "colab_type": "code",
        "colab": {
          "base_uri": "https://localhost:8080/",
          "height": 34
        },
        "outputId": "6be7f97c-7634-49c8-fdd5-518d3cf8f5ad"
      },
      "cell_type": "code",
      "source": [
        "import numpy as np\n",
        "import matplotlib.pyplot as plt\n",
        "import matplotlib.patches as patches\n",
        "import cv2\n",
        "import tensorflow as tf\n",
        "from keras.models import Sequential\n",
        "from keras.layers import Conv2D, MaxPooling2D, Dense, Dropout, Flatten, Input\n",
        "from keras import optimizers\n",
        "import pickle\n",
        "\n",
        "%matplotlib inline"
      ],
      "execution_count": 2,
      "outputs": [
        {
          "output_type": "stream",
          "text": [
            "Using TensorFlow backend.\n"
          ],
          "name": "stderr"
        }
      ]
    },
    {
      "metadata": {
        "id": "9FyhER8HdAUz",
        "colab_type": "text"
      },
      "cell_type": "markdown",
      "source": [
        "We create a simple image dataset. Each image will have a maximum size of 32x32 and will contain up to a maximum of N_bb objects (rectangles) with different shades of color. Their size will vary between a minimum of 1x1 and a maximum of 8x8. [To implement : If the color gradation (0-255) is less than or greater than a certain threshold (in our case <64), the object must not be detected.]\n",
        "\n",
        "At the same time we define our bounding boxes. We will use 5 coordinates: a 'Pc', which indicates the percentage of confidence in the presence of an object; 'x' and 'y', for the spatial position of the top-left vertex and 'w' and 'h' for the extension (width and height)."
      ]
    },
    {
      "metadata": {
        "id": "LEhGGX-QS4SO",
        "colab_type": "code",
        "colab": {}
      },
      "cell_type": "code",
      "source": [
        "N_imgs = 125000\n",
        "\n",
        "# imagines side dimension\n",
        "side_dim = 32 \n",
        "\n",
        "# objects min/max side dimensions\n",
        "obj_min_dim = 2\n",
        "obj_max_dim = 8 \n",
        "\n",
        "# number of objects\n",
        "N_bb = 4 \n",
        "\n",
        "# color thresholds\n",
        "min_threshold = 0\n",
        "max_threshold = 124\n",
        "\n",
        "# confidence threshold\n",
        "Pc_th = .0\n",
        "\n",
        "# inizialization of images with a light gray color (just for aesthetic reasons)\n",
        "imgs = np.ones((N_imgs, side_dim, side_dim,3)) * .9 \n",
        "\n",
        "# inizialization of bounding boxes\n",
        "bounding_boxes = np.zeros((N_imgs, N_bb, 5))\n"
      ],
      "execution_count": 0,
      "outputs": []
    },
    {
      "metadata": {
        "id": "oXOZHTdDt3hN",
        "colab_type": "code",
        "colab": {}
      },
      "cell_type": "code",
      "source": [
        "# inizialization of origin distance array\n",
        "distance = np.zeros((N_imgs, N_bb))\n",
        "\n",
        "# creation of objects in images and relative bounding boxes\n",
        "\n",
        "for N_img in range(N_imgs):\n",
        "    for i_ogg in range(N_bb):\n",
        "        w = np.random.randint(obj_min_dim, obj_max_dim)\n",
        "        h = np.random.randint(obj_min_dim, obj_max_dim)\n",
        "        x = np.random.randint(0, side_dim - w)\n",
        "        y = np.random.randint(0, side_dim - h)\n",
        "          \n",
        "        R = (np.random.randint(min_threshold, max_threshold)) / 255\n",
        "        G = (np.random.randint(min_threshold, max_threshold)) / 255\n",
        "        B = (np.random.randint(min_threshold, max_threshold)) / 255\n",
        "        \n",
        "        imgs[N_img, y:y+h, x:x+w, 0] = R \n",
        "        imgs[N_img, y:y+h, x:x+w, 1] = G \n",
        "        imgs[N_img, y:y+h, x:x+w, 2] = B \n",
        "        \n",
        "\n",
        "        Pc = 1. # for the moment we use for all target value Pc = 1\n",
        "        bounding_boxes[N_img, i_ogg] = [Pc, x, y, w, h]   \n",
        "        \n",
        "        # we calculate the distance from the origin for each Bounding Box\n",
        "        distance[N_img, i_ogg] = np.sqrt(np.square(x+(w/2))+ np.square(y+(h/2)))\n"
      ],
      "execution_count": 0,
      "outputs": []
    },
    {
      "metadata": {
        "id": "TGK4cCnHlJ2G",
        "colab_type": "text"
      },
      "cell_type": "markdown",
      "source": [
        "## Observation and pre-processing\n",
        "First we analyze our datasets and start preprocessing them"
      ]
    },
    {
      "metadata": {
        "id": "jUY7g8MIlfpG",
        "colab_type": "code",
        "outputId": "637492a9-56a3-42e7-84e8-3d48975eb794",
        "colab": {
          "base_uri": "https://localhost:8080/",
          "height": 68
        }
      },
      "cell_type": "code",
      "source": [
        "# Let's look at the size of the Numpy arrays for images and bboxes \n",
        "print('Dimension of images array:', imgs.shape)\n",
        "print('Dimension of BBoxes array:', bounding_boxes.shape)\n",
        "print('Dimension of distance array:', distance.shape)"
      ],
      "execution_count": 5,
      "outputs": [
        {
          "output_type": "stream",
          "text": [
            "Dimension of images array: (125000, 32, 32, 3)\n",
            "Dimension of BBoxes array: (125000, 4, 5)\n",
            "Dimension of distance array: (125000, 4)\n"
          ],
          "name": "stdout"
        }
      ]
    },
    {
      "metadata": {
        "id": "fPeK79wgVDXu",
        "colab_type": "code",
        "outputId": "e62ea26f-e6df-4b7d-8251-15e65ec2475c",
        "colab": {
          "base_uri": "https://localhost:8080/",
          "height": 286
        }
      },
      "cell_type": "code",
      "source": [
        "# We take a random image of our training set\n",
        "im = np.random.randint(N_imgs)\n",
        "print('Imagine n.', im)\n",
        "\n",
        "# Let's look the objects contained in it...\n",
        "fig, ax = plt.subplots(1)\n",
        "ax.imshow(imgs[im], origin = 'upper', interpolation = 'quadric', extent=[0, side_dim, side_dim, 0])\n",
        "\n",
        "# ...and the corresponding bounding boxes\n",
        "for i in range (N_bb):\n",
        "  [Pc, x, y, w, h] = bounding_boxes[im, i]\n",
        "\n",
        "# we consider only a percentage of confidence above the Pc_th\n",
        "# (in our datasets we have Pc with values 0 or 1) but later\n",
        "# Pc will assume probabilistic values between 0 and 1\n",
        "  if Pc >= Pc_th:\n",
        "    rect = patches.Rectangle((x, y) , w, h, ec='r', lw='1.6', fc='none')\n",
        "    ax.add_patch(rect)\n",
        "\n",
        "plt.show()"
      ],
      "execution_count": 6,
      "outputs": [
        {
          "output_type": "stream",
          "text": [
            "Imagine n. 102668\n"
          ],
          "name": "stdout"
        },
        {
          "output_type": "display_data",
          "data": {
            "image/png": "[encoded data removed]",
            "text/plain": [
              "<matplotlib.figure.Figure at 0x7f7d513e6ac8>"
            ]
          },
          "metadata": {
            "tags": []
          }
        }
      ]
    },
    {
      "metadata": {
        "id": "b0idcZGhsjXG",
        "colab_type": "code",
        "outputId": "aebb4065-31c8-4f81-dc0c-5e80dff1e9db",
        "colab": {
          "base_uri": "https://localhost:8080/",
          "height": 269
        }
      },
      "cell_type": "code",
      "source": [
        "# We look at the image again, this time highlighting the distance of the objects from the origin ...\n",
        "fig, ax = plt.subplots(1)\n",
        "\n",
        "ax.imshow(imgs[im], origin = 'upper', interpolation = 'hanning', extent=[0, side_dim, side_dim, 0])\n",
        "\n",
        "for i in range (N_bb):\n",
        "  [Pc, x, y, w, h] = bounding_boxes[im, i]\n",
        "\n",
        "  if Pc >= Pc_th:\n",
        "    line = patches.Arrow(0, 0, x+(w/2), y+(h/2), .2, ec='r') \n",
        "    ax.add_patch(line)\n",
        "    dida = 'dist: ' + '{:0.1f}'.format(distance[im,i])\n",
        "    plt.annotate(dida, (x + w + 0.8 , y - 0.8), color='r')\n",
        "\n",
        "plt.show()"
      ],
      "execution_count": 7,
      "outputs": [
        {
          "output_type": "display_data",
          "data": {
            "image/png": "[encoded data removed]",
            "text/plain": [
              "<matplotlib.figure.Figure at 0x7f7d5133b588>"
            ]
          },
          "metadata": {
            "tags": []
          }
        }
      ]
    },
    {
      "metadata": {
        "id": "3ZmynTypGD2p",
        "colab_type": "text"
      },
      "cell_type": "markdown",
      "source": [
        "We rearrange the bounding boxes based on the distance from the origin of the objects"
      ]
    },
    {
      "metadata": {
        "id": "5gBRsop_d6t1",
        "colab_type": "code",
        "colab": {}
      },
      "cell_type": "code",
      "source": [
        "order = np.zeros((N_imgs, N_bb), dtype=int)\n",
        "bboxes = np.zeros(bounding_boxes.shape)\n",
        "\n",
        "for i in range(N_imgs):\n",
        "  order[i] = np.argsort(distance[i]) \n",
        "  for j in range(N_bb):\n",
        "    bboxes[i,j] = (bounding_boxes[i, order[i,j]])"
      ],
      "execution_count": 0,
      "outputs": []
    },
    {
      "metadata": {
        "id": "lVAiaQ6juTx9",
        "colab_type": "text"
      },
      "cell_type": "markdown",
      "source": [
        "### Save Datasets\n",
        "Now we save our datasets for future uses"
      ]
    },
    {
      "metadata": {
        "id": "9k7b0ioyuTIL",
        "colab_type": "code",
        "colab": {}
      },
      "cell_type": "code",
      "source": [
        "dataset_name = str(int(N_imgs/1000))"
      ],
      "execution_count": 0,
      "outputs": []
    },
    {
      "metadata": {
        "id": "ckAZRrgHugh9",
        "colab_type": "code",
        "colab": {
          "base_uri": "https://localhost:8080/",
          "height": 54
        },
        "outputId": "c927bbc8-cb7d-41e0-ec63-f9c08955dd7a"
      },
      "cell_type": "code",
      "source": [
        "\n",
        "# To save datasets\n",
        "np.save('181112_Images_' + dataset_name, imgs)\n",
        "np.save('181112_Bboxes_' + dataset_name, bboxes)\n",
        "\n",
        "# To load datasets\n",
        "'''\n",
        "imgs = np.load('Images_' + dataset_name + '.npy')\n",
        "bboxes = np.load('Bboxes_' + dataset_name + '.npy')\n",
        "print(imgs.shape, bboxes.shape)\n",
        "'''"
      ],
      "execution_count": 10,
      "outputs": [
        {
          "output_type": "execute_result",
          "data": {
            "text/plain": [
              "\"\\nimgs = np.load('Images_' + dataset_name + '.npy')\\nbboxes = np.load('Bboxes_' + dataset_name + '.npy')\\nprint(imgs.shape, bboxes.shape)\\n\""
            ]
          },
          "metadata": {
            "tags": []
          },
          "execution_count": 10
        }
      ]
    },
    {
      "metadata": {
        "id": "FVTByunkgLCA",
        "colab_type": "text"
      },
      "cell_type": "markdown",
      "source": [
        "Let's start thinking in terms of Machine Learning. \n",
        "So we normalize the pixel values contained in our images to have values between -1 and 1 and transfer them to the input X values.\n"
      ]
    },
    {
      "metadata": {
        "id": "YSkMI1oUc0A-",
        "colab_type": "code",
        "outputId": "332cc1bd-7eb6-4c63-8cab-5889426f94bf",
        "colab": {
          "base_uri": "https://localhost:8080/",
          "height": 51
        }
      },
      "cell_type": "code",
      "source": [
        "X = (imgs - np.mean(imgs)) / np.std(imgs)\n",
        "print(X.shape, np.mean(imgs), np.std(imgs))\n",
        "\n",
        "Y = bboxes.reshape(N_imgs, -1) \n",
        "print(Y.shape)"
      ],
      "execution_count": 11,
      "outputs": [
        {
          "output_type": "stream",
          "text": [
            "(125000, 32, 32, 3) 0.8497025621323576 0.17920699514929642\n",
            "(125000, 20)\n"
          ],
          "name": "stdout"
        }
      ]
    },
    {
      "metadata": {
        "id": "TZQ-YIJYHDGr",
        "colab_type": "text"
      },
      "cell_type": "markdown",
      "source": [
        "Below we see our X values shape"
      ]
    },
    {
      "metadata": {
        "id": "fkQt2zrRp1Hz",
        "colab_type": "code",
        "colab": {
          "base_uri": "https://localhost:8080/",
          "height": 68
        },
        "outputId": "aceb39a2-adec-4690-cdf3-a19f7e9ba481"
      },
      "cell_type": "code",
      "source": [
        "print('Images example', im, 'has shape:\\n', X[im].shape, '\\n')"
      ],
      "execution_count": 12,
      "outputs": [
        {
          "output_type": "stream",
          "text": [
            "Images example 102668 has shape:\n",
            " (32, 32, 3) \n",
            "\n"
          ],
          "name": "stdout"
        }
      ]
    },
    {
      "metadata": {
        "id": "NMDsjFW6HGpP",
        "colab_type": "text"
      },
      "cell_type": "markdown",
      "source": [
        "And then we observe one of our Y target values"
      ]
    },
    {
      "metadata": {
        "id": "aH2NUIkQHGbS",
        "colab_type": "code",
        "outputId": "69870c2a-5f91-44e7-e682-973650b64df8",
        "colab": {
          "base_uri": "https://localhost:8080/",
          "height": 68
        }
      },
      "cell_type": "code",
      "source": [
        "print('...and the target values Y are:\\n', Y[im])"
      ],
      "execution_count": 13,
      "outputs": [
        {
          "output_type": "stream",
          "text": [
            "...and the target values Y are:\n",
            " [ 1. 14.  4.  7.  7.  1.  2. 22.  5.  6.  1. 23.  9.  3.  5.  1. 25. 21.\n",
            "  4.  3.]\n"
          ],
          "name": "stdout"
        }
      ]
    },
    {
      "metadata": {
        "id": "4CDu5pmrnQ8h",
        "colab_type": "text"
      },
      "cell_type": "markdown",
      "source": [
        "We have a homogeneous dataset of the N_imgs elements that we now share in Training set, Validation set, and Test set in relation 80%, 10%, 10%."
      ]
    },
    {
      "metadata": {
        "id": "Z9_AAOlaXGsU",
        "colab_type": "code",
        "outputId": "7d23d631-e9b4-4367-aa32-691edd106214",
        "colab": {
          "base_uri": "https://localhost:8080/",
          "height": 68
        }
      },
      "cell_type": "code",
      "source": [
        "i = int(0.8 * N_imgs)\n",
        "j = int(0.1 * N_imgs)\n",
        "\n",
        "X_train = X[:i]\n",
        "Y_train = Y[:i]\n",
        "train_ex = X_train.shape[0]\n",
        "\n",
        "X_val = X[i:i+j]\n",
        "Y_val = Y[i:i+j]\n",
        "val_ex = X_val.shape[0]\n",
        "\n",
        "X_test = X[i+j:]\n",
        "Y_test = Y[i+j:]\n",
        "test_ex = X_test.shape[0]\n",
        "\n",
        "dim_test = j # useful for the future \n",
        "\n",
        "print('Below the dimensions of X and Y for Training set, Validation set, and Test set respectively\\n')\n",
        "print(X_train.shape, Y_train.shape, X_val.shape, Y_val.shape, X_test.shape, Y_test.shape)"
      ],
      "execution_count": 14,
      "outputs": [
        {
          "output_type": "stream",
          "text": [
            "Below the dimensions of X and Y for Training set, Validation set, and Test set respectively\n",
            "\n",
            "(100000, 32, 32, 3) (100000, 20) (12500, 32, 32, 3) (12500, 20) (12500, 32, 32, 3) (12500, 20)\n"
          ],
          "name": "stdout"
        }
      ]
    },
    {
      "metadata": {
        "id": "afFXlxcAaOwx",
        "colab_type": "text"
      },
      "cell_type": "markdown",
      "source": [
        "## The Neural Network\n",
        "Following our DNN model, is inspired by AlexNet algorithms and uses three pairs of CNN-MaxPooling layers followed by two fully connected layers, for a total of about 460 thousand parameters."
      ]
    },
    {
      "metadata": {
        "id": "qij_SpFYmFXt",
        "colab_type": "code",
        "outputId": "c490e0b4-3363-4eab-a706-57cde126c59b",
        "colab": {
          "base_uri": "https://localhost:8080/",
          "height": 510
        }
      },
      "cell_type": "code",
      "source": [
        "\n",
        "model = Sequential()\n",
        "model.add(Conv2D(48, kernel_size=(8, 8), strides=2, padding='same', activation='relu', input_shape=(side_dim,side_dim,3), data_format='channels_last'))\n",
        "model.add(MaxPooling2D(pool_size=(2, 2), strides=2, padding='valid'))\n",
        "model.add(Conv2D(96, kernel_size=(4, 4), strides=1, padding='same', activation='relu'))\n",
        "model.add(MaxPooling2D(pool_size=(2, 2), strides=2, padding='valid'))\n",
        "model.add(Conv2D(192, kernel_size=(2, 2), strides=1, padding='same', activation='relu'))\n",
        "model.add(MaxPooling2D(pool_size=(2, 2), strides=2, padding='valid'))\n",
        "model.add(Flatten())\n",
        "model.add(Dropout(.4))\n",
        "model.add(Dense(384, activation='relu'))\n",
        "model.add(Dropout(.4))\n",
        "model.add(Dense(Y.shape[-1]))\n",
        "\n",
        "summ = model.summary()"
      ],
      "execution_count": 15,
      "outputs": [
        {
          "output_type": "stream",
          "text": [
            "_________________________________________________________________\n",
            "Layer (type)                 Output Shape              Param #   \n",
            "=================================================================\n",
            "conv2d_1 (Conv2D)            (None, 16, 16, 48)        9264      \n",
            "_________________________________________________________________\n",
            "max_pooling2d_1 (MaxPooling2 (None, 8, 8, 48)          0         \n",
            "_________________________________________________________________\n",
            "conv2d_2 (Conv2D)            (None, 8, 8, 96)          73824     \n",
            "_________________________________________________________________\n",
            "max_pooling2d_2 (MaxPooling2 (None, 4, 4, 96)          0         \n",
            "_________________________________________________________________\n",
            "conv2d_3 (Conv2D)            (None, 4, 4, 192)         73920     \n",
            "_________________________________________________________________\n",
            "max_pooling2d_3 (MaxPooling2 (None, 2, 2, 192)         0         \n",
            "_________________________________________________________________\n",
            "flatten_1 (Flatten)          (None, 768)               0         \n",
            "_________________________________________________________________\n",
            "dropout_1 (Dropout)          (None, 768)               0         \n",
            "_________________________________________________________________\n",
            "dense_1 (Dense)              (None, 384)               295296    \n",
            "_________________________________________________________________\n",
            "dropout_2 (Dropout)          (None, 384)               0         \n",
            "_________________________________________________________________\n",
            "dense_2 (Dense)              (None, 20)                7700      \n",
            "=================================================================\n",
            "Total params: 460,004\n",
            "Trainable params: 460,004\n",
            "Non-trainable params: 0\n",
            "_________________________________________________________________\n"
          ],
          "name": "stdout"
        }
      ]
    },
    {
      "metadata": {
        "id": "I4zi2KLXaagW",
        "colab_type": "text"
      },
      "cell_type": "markdown",
      "source": [
        "At least for the moment we do not worry too much about the efficiency of the loss function and the optimization algorithm. We use the Mean Squared Error for the first and Adadelta for the second."
      ]
    },
    {
      "metadata": {
        "id": "pWxRPbcUbsiX",
        "colab_type": "text"
      },
      "cell_type": "markdown",
      "source": [
        "Let's start with a cycle of 50 epochs:"
      ]
    },
    {
      "metadata": {
        "id": "1wUMfhBIvUY6",
        "colab_type": "code",
        "colab": {}
      },
      "cell_type": "code",
      "source": [
        "N_ep = 25\n",
        "init_ep = 0 \n",
        "Batchs = 16\n",
        "optimizer = 'adadelta'\n",
        "loss = 'mse'"
      ],
      "execution_count": 0,
      "outputs": []
    },
    {
      "metadata": {
        "id": "KMEHDcWubW4q",
        "colab_type": "text"
      },
      "cell_type": "markdown",
      "source": [
        ""
      ]
    },
    {
      "metadata": {
        "id": "BTg--dQ7643f",
        "colab_type": "code",
        "outputId": "97218c2d-a486-48c9-c891-2d947490a19f",
        "colab": {
          "base_uri": "https://localhost:8080/",
          "height": 884
        }
      },
      "cell_type": "code",
      "source": [
        "model.compile(optimizer, loss)\n",
        "history = model.fit(X_train, Y_train, epochs=N_ep, validation_data=(X_val, Y_val), batch_size=Batchs, initial_epoch = init_ep, verbose=1)"
      ],
      "execution_count": 17,
      "outputs": [
        {
          "output_type": "stream",
          "text": [
            "Train on 100000 samples, validate on 12500 samples\n",
            "Epoch 1/25\n",
            "100000/100000 [==============================] - 113s 1ms/step - loss: 9.9690 - val_loss: 6.3720\n",
            "Epoch 2/25\n",
            "100000/100000 [==============================] - 106s 1ms/step - loss: 6.7513 - val_loss: 4.9764\n",
            "Epoch 3/25\n",
            "100000/100000 [==============================] - 106s 1ms/step - loss: 6.0694 - val_loss: 4.5364\n",
            "Epoch 4/25\n",
            "100000/100000 [==============================] - 106s 1ms/step - loss: 5.6938 - val_loss: 4.2123\n",
            "Epoch 5/25\n",
            "100000/100000 [==============================] - 106s 1ms/step - loss: 5.4925 - val_loss: 4.3577\n",
            "Epoch 6/25\n",
            "100000/100000 [==============================] - 105s 1ms/step - loss: 5.2955 - val_loss: 4.2648\n",
            "Epoch 7/25\n",
            "100000/100000 [==============================] - 106s 1ms/step - loss: 5.1402 - val_loss: 3.9899\n",
            "Epoch 8/25\n",
            "100000/100000 [==============================] - 105s 1ms/step - loss: 5.0248 - val_loss: 3.7883\n",
            "Epoch 9/25\n",
            "100000/100000 [==============================] - 106s 1ms/step - loss: 4.9076 - val_loss: 3.6768\n",
            "Epoch 10/25\n",
            "100000/100000 [==============================] - 106s 1ms/step - loss: 4.8112 - val_loss: 3.7710\n",
            "Epoch 11/25\n",
            "100000/100000 [==============================] - 106s 1ms/step - loss: 4.7385 - val_loss: 3.6306\n",
            "Epoch 12/25\n",
            "100000/100000 [==============================] - 106s 1ms/step - loss: 4.6627 - val_loss: 3.7245\n",
            "Epoch 13/25\n",
            "100000/100000 [==============================] - 106s 1ms/step - loss: 4.5951 - val_loss: 3.6758\n",
            "Epoch 14/25\n",
            "100000/100000 [==============================] - 106s 1ms/step - loss: 4.5183 - val_loss: 3.5595\n",
            "Epoch 15/25\n",
            "100000/100000 [==============================] - 107s 1ms/step - loss: 4.4628 - val_loss: 3.6260\n",
            "Epoch 16/25\n",
            "100000/100000 [==============================] - 107s 1ms/step - loss: 4.4285 - val_loss: 3.5412\n",
            "Epoch 17/25\n",
            "100000/100000 [==============================] - 106s 1ms/step - loss: 4.3888 - val_loss: 3.4187\n",
            "Epoch 18/25\n",
            "100000/100000 [==============================] - 107s 1ms/step - loss: 4.3303 - val_loss: 3.5501\n",
            "Epoch 19/25\n",
            "100000/100000 [==============================] - 106s 1ms/step - loss: 4.2955 - val_loss: 3.4141\n",
            "Epoch 20/25\n",
            "100000/100000 [==============================] - 107s 1ms/step - loss: 4.2690 - val_loss: 3.4568\n",
            "Epoch 21/25\n",
            "100000/100000 [==============================] - 106s 1ms/step - loss: 4.2263 - val_loss: 3.4273\n",
            "Epoch 22/25\n",
            "100000/100000 [==============================] - 106s 1ms/step - loss: 4.2064 - val_loss: 3.3639\n",
            "Epoch 23/25\n",
            "100000/100000 [==============================] - 107s 1ms/step - loss: 4.1727 - val_loss: 3.2868\n",
            "Epoch 24/25\n",
            "100000/100000 [==============================] - 106s 1ms/step - loss: 4.1350 - val_loss: 3.3310\n",
            "Epoch 25/25\n",
            "100000/100000 [==============================] - 107s 1ms/step - loss: 4.1237 - val_loss: 3.4200\n"
          ],
          "name": "stdout"
        }
      ]
    },
    {
      "metadata": {
        "id": "_jSVmX1xvjmC",
        "colab_type": "text"
      },
      "cell_type": "markdown",
      "source": [
        "We save our model structure, weight and training history for future evaluetions. We will have three file: a json for the model, an h5 for weights and _hist to memorize our training history."
      ]
    },
    {
      "metadata": {
        "id": "hJu7TEPpvlkQ",
        "colab_type": "code",
        "colab": {}
      },
      "cell_type": "code",
      "source": [
        "# Name will contains name of the model (181112), number of training examples in thousands (100), \n",
        "# mini-batches (16), final epoch (75)\n",
        "\n",
        "name = '181112_' + 'tr' + str(int(train_ex/1000)) + '_mb' + str(Batchs) + '_e' + str(N_ep)\n",
        "model_name = name + '.json' \n",
        "weight_name = name + '.h5'\n",
        "train_history = name + '_hist'"
      ],
      "execution_count": 0,
      "outputs": []
    },
    {
      "metadata": {
        "id": "328OWKGavoQs",
        "colab_type": "code",
        "colab": {}
      },
      "cell_type": "code",
      "source": [
        "# serialize model to JSON\n",
        "model_json = model.to_json()\n",
        "with open(model_name, 'w') as json_file:\n",
        "    json_file.write(model_json)"
      ],
      "execution_count": 0,
      "outputs": []
    },
    {
      "metadata": {
        "id": "LERhnWpvvreM",
        "colab_type": "code",
        "colab": {
          "base_uri": "https://localhost:8080/",
          "height": 34
        },
        "outputId": "f8f7292f-b76c-400c-8e92-044f6e26fcd9"
      },
      "cell_type": "code",
      "source": [
        "# serialize weights to HDF5\n",
        "model.save_weights(weight_name)\n",
        "print('Saved model to disk')\n",
        "\n",
        "# save just history\n",
        "with open(train_history, 'wb') as hist:\n",
        "  pickle.dump(history, hist)"
      ],
      "execution_count": 20,
      "outputs": [
        {
          "output_type": "stream",
          "text": [
            "Saved model to disk\n"
          ],
          "name": "stdout"
        }
      ]
    },
    {
      "metadata": {
        "id": "r71LbMBzcEi2",
        "colab_type": "text"
      },
      "cell_type": "markdown",
      "source": [
        "##Observation of results\n",
        "We evaluate the results obtained. We use the Test Set for predictions and define a metric, the IoU (Intersection over Union) that supports those we already have for the training phase - that is, loss error and accuracy.\n",
        "\n",
        "The Intersection over Union is an incredibly effective measure to understand how much our forecasts approach the correct bounding boxes of the objects in the images. It has values that oscillate between 0 and 1 and the closer they are to 1, the more the area of our predictions approaches that of the correct bounding boxes.\n"
      ]
    },
    {
      "metadata": {
        "id": "Xqbho47ZwJA9",
        "colab_type": "text"
      },
      "cell_type": "markdown",
      "source": [
        "But first let's take a look at our predictions."
      ]
    },
    {
      "metadata": {
        "id": "p0VX1wHk_fXb",
        "colab_type": "code",
        "colab": {}
      },
      "cell_type": "code",
      "source": [
        "# The predictions of the neural network using our Test set as input\n",
        "pred_bboxes = model.predict(X_test)\n",
        "pred_bboxes = pred_bboxes.reshape(len(pred_bboxes), N_bb, -1)"
      ],
      "execution_count": 0,
      "outputs": []
    },
    {
      "metadata": {
        "id": "M8u6Gv2Lv_O2",
        "colab_type": "code",
        "colab": {
          "base_uri": "https://localhost:8080/",
          "height": 34
        },
        "outputId": "b1c70fce-60bf-45da-8de3-ea292555a81b"
      },
      "cell_type": "code",
      "source": [
        "# And the expected bboxes of our Test set\n",
        "expe_bboxes = np.float32(Y_test.reshape(dim_test, N_bb, -1))\n",
        "\n",
        "# Their dimension\n",
        "pred_bboxes.shape, expe_bboxes.shape"
      ],
      "execution_count": 22,
      "outputs": [
        {
          "output_type": "execute_result",
          "data": {
            "text/plain": [
              "((12500, 4, 5), (12500, 4, 5))"
            ]
          },
          "metadata": {
            "tags": []
          },
          "execution_count": 22
        }
      ]
    },
    {
      "metadata": {
        "id": "qkrHhPsK_pJu",
        "colab_type": "code",
        "outputId": "1e476dcb-1565-40c9-f5ec-ed45204bc711",
        "colab": {
          "base_uri": "https://localhost:8080/",
          "height": 558
        }
      },
      "cell_type": "code",
      "source": [
        "imgTest = (np.reshape(X_test, (dim_test, side_dim, side_dim, 3)) * np.std(imgs)) + np.mean(imgs)\n",
        "\n",
        "# Consider a random image of our Test set\n",
        "im = np.random.randint(dim_test)\n",
        "\n",
        "# We look at the objects contained in it and the bounding boxes predicted by the algorithm\n",
        "print('Test images:', im)\n",
        "visual_example(imgTest[im], side_dim, N_bb, pred_bboxes[im], expe_bboxes[im])"
      ],
      "execution_count": 39,
      "outputs": [
        {
          "output_type": "stream",
          "text": [
            "Test images: 779\n",
            "Object:  1\n",
            "B-box confidence: 1.0\n",
            "B-box coordinates: [4.19 3.77 4.56 5.68]\n",
            "Object coordinates: [5.00 5.00 5.00 7.00]\n",
            "Object:  2\n",
            "B-box confidence: 1.0\n",
            "B-box coordinates: [7.13 7.17 4.37 4.18]\n",
            "Object coordinates: [9.00 7.00 2.00 5.00]\n",
            "Object:  3\n",
            "B-box confidence: 1.0\n",
            "B-box coordinates: [9.17 13.65 3.74 4.46]\n",
            "Object coordinates: [13.00 15.00 4.00 3.00]\n",
            "Object:  4\n",
            "B-box confidence: 1.0\n",
            "B-box coordinates: [2.37 21.67 3.99 3.11]\n",
            "Object coordinates: [1.00 22.00 4.00 4.00]\n"
          ],
          "name": "stdout"
        },
        {
          "output_type": "display_data",
          "data": {
            "image/png": "[encoded data removed]",
            "text/plain": [
              "<matplotlib.figure.Figure at 0x7f7d48331e10>"
            ]
          },
          "metadata": {
            "tags": []
          }
        }
      ]
    },
    {
      "metadata": {
        "id": "PVaTaXkm8wet",
        "colab_type": "text"
      },
      "cell_type": "markdown",
      "source": [
        "### Valutazione dei risultati\n",
        "Now we evaluate the results, first by calculating the average IoU for predictions on our Test set."
      ]
    },
    {
      "metadata": {
        "id": "0Uplatfo8buT",
        "colab_type": "code",
        "outputId": "178eff81-0e35-4cd3-ff9e-3d8725ec9753",
        "colab": {
          "base_uri": "https://localhost:8080/",
          "height": 345
        }
      },
      "cell_type": "code",
      "source": [
        "m_iou = mean_IoU(expe_bboxes, pred_bboxes)\n",
        "visual_metric(train_ex, m_iou, N_ep, Batchs, history.history, 'loss')"
      ],
      "execution_count": 41,
      "outputs": [
        {
          "output_type": "stream",
          "text": [
            "----> Datatset IoU: 0.32324133490398255\n",
            "      Dim. train: 100000 examples\n",
            "      Epochs: 25 - mini-batches: 16\n"
          ],
          "name": "stdout"
        },
        {
          "output_type": "display_data",
          "data": {
            "image/png": "[encoded data removed]",
            "text/plain": [
              "<matplotlib.figure.Figure at 0x7f7d47aebe10>"
            ]
          },
          "metadata": {
            "tags": []
          }
        }
      ]
    },
    {
      "metadata": {
        "id": "T3xkr1LGCCin",
        "colab_type": "code",
        "colab": {}
      },
      "cell_type": "code",
      "source": [
        "vl = history.history['val_loss']\n",
        "tl = history.history['loss']"
      ],
      "execution_count": 0,
      "outputs": []
    },
    {
      "metadata": {
        "id": "iF5o0_t4CCug",
        "colab_type": "code",
        "colab": {}
      },
      "cell_type": "code",
      "source": [
        "N_ep = 50\n",
        "init_ep = 25 \n",
        "Batchs = 16\n",
        "optimizer = 'adadelta'\n",
        "loss = 'mse'"
      ],
      "execution_count": 0,
      "outputs": []
    },
    {
      "metadata": {
        "id": "CATxIz8KFoqg",
        "colab_type": "code",
        "colab": {
          "base_uri": "https://localhost:8080/",
          "height": 884
        },
        "outputId": "96abba1d-d499-4b0e-fdb0-9572ecf0bb4c"
      },
      "cell_type": "code",
      "source": [
        "model.compile(optimizer, loss)\n",
        "history = model.fit(X_train, Y_train, epochs=N_ep, validation_data=(X_val, Y_val), batch_size=Batchs, initial_epoch = init_ep, verbose=1)"
      ],
      "execution_count": 49,
      "outputs": [
        {
          "output_type": "stream",
          "text": [
            "Train on 100000 samples, validate on 12500 samples\n",
            "Epoch 26/50\n",
            "100000/100000 [==============================] - 69s 694us/step - loss: 4.1136 - val_loss: 3.3099\n",
            "Epoch 27/50\n",
            "100000/100000 [==============================] - 69s 690us/step - loss: 4.0847 - val_loss: 3.3157\n",
            "Epoch 28/50\n",
            "100000/100000 [==============================] - 69s 686us/step - loss: 4.0671 - val_loss: 3.2503\n",
            "Epoch 29/50\n",
            "100000/100000 [==============================] - 69s 686us/step - loss: 4.0526 - val_loss: 3.2936\n",
            "Epoch 30/50\n",
            "100000/100000 [==============================] - 69s 686us/step - loss: 4.0304 - val_loss: 3.2754\n",
            "Epoch 31/50\n",
            "100000/100000 [==============================] - 69s 686us/step - loss: 4.0221 - val_loss: 3.3091\n",
            "Epoch 32/50\n",
            "100000/100000 [==============================] - 65s 645us/step - loss: 4.0092 - val_loss: 3.2785\n",
            "Epoch 33/50\n",
            "100000/100000 [==============================] - 64s 643us/step - loss: 3.9801 - val_loss: 3.3136\n",
            "Epoch 34/50\n",
            "100000/100000 [==============================] - 65s 645us/step - loss: 3.9688 - val_loss: 3.2509\n",
            "Epoch 35/50\n",
            "100000/100000 [==============================] - 69s 689us/step - loss: 3.9722 - val_loss: 3.4306\n",
            "Epoch 36/50\n",
            "100000/100000 [==============================] - 69s 691us/step - loss: 3.9522 - val_loss: 3.2666\n",
            "Epoch 37/50\n",
            "100000/100000 [==============================] - 69s 690us/step - loss: 3.9370 - val_loss: 3.3778\n",
            "Epoch 38/50\n",
            "100000/100000 [==============================] - 65s 645us/step - loss: 3.9240 - val_loss: 3.2919\n",
            "Epoch 39/50\n",
            "100000/100000 [==============================] - 64s 642us/step - loss: 3.9170 - val_loss: 3.2645\n",
            "Epoch 40/50\n",
            "100000/100000 [==============================] - 68s 684us/step - loss: 3.8922 - val_loss: 3.2200\n",
            "Epoch 41/50\n",
            "100000/100000 [==============================] - 65s 645us/step - loss: 3.8851 - val_loss: 3.1888\n",
            "Epoch 42/50\n",
            "100000/100000 [==============================] - 63s 633us/step - loss: 3.8953 - val_loss: 3.1373\n",
            "Epoch 43/50\n",
            "100000/100000 [==============================] - 63s 632us/step - loss: 3.8888 - val_loss: 3.2498\n",
            "Epoch 44/50\n",
            "100000/100000 [==============================] - 64s 638us/step - loss: 3.8614 - val_loss: 3.2815\n",
            "Epoch 45/50\n",
            "100000/100000 [==============================] - 69s 686us/step - loss: 3.8710 - val_loss: 3.2016\n",
            "Epoch 46/50\n",
            "100000/100000 [==============================] - 68s 681us/step - loss: 3.8589 - val_loss: 3.3037\n",
            "Epoch 47/50\n",
            "100000/100000 [==============================] - 68s 677us/step - loss: 3.8537 - val_loss: 3.2521\n",
            "Epoch 48/50\n",
            "100000/100000 [==============================] - 68s 675us/step - loss: 3.8487 - val_loss: 3.1787\n",
            "Epoch 49/50\n",
            "100000/100000 [==============================] - 63s 634us/step - loss: 3.8300 - val_loss: 3.1610\n",
            "Epoch 50/50\n",
            "100000/100000 [==============================] - 64s 636us/step - loss: 3.8341 - val_loss: 3.2838\n"
          ],
          "name": "stdout"
        }
      ]
    },
    {
      "metadata": {
        "id": "2x50OFSpGMlv",
        "colab_type": "code",
        "colab": {}
      },
      "cell_type": "code",
      "source": [
        "# Name will contains name of the model (181112), number of training examples in thousands (100), \n",
        "# mini-batches (16), final epoch (75)\n",
        "\n",
        "name = '181112_' + 'tr' + str(int(train_ex/1000)) + '_mb' + str(Batchs) + '_e' + str(N_ep)\n",
        "model_name = name + '.json' \n",
        "weight_name = name + '.h5'\n",
        "train_history = name + '_hist'"
      ],
      "execution_count": 0,
      "outputs": []
    },
    {
      "metadata": {
        "id": "tgkGQL3hGMj0",
        "colab_type": "code",
        "colab": {
          "base_uri": "https://localhost:8080/",
          "height": 34
        },
        "outputId": "7a351118-ebb4-4ce7-cdba-61f7dd26f822"
      },
      "cell_type": "code",
      "source": [
        "# serialize weights to HDF5\n",
        "model.save_weights(weight_name)\n",
        "print('Saved model to disk')\n",
        "\n",
        "# save just history\n",
        "with open(train_history, 'wb') as hist:\n",
        "  pickle.dump(history, hist)"
      ],
      "execution_count": 51,
      "outputs": [
        {
          "output_type": "stream",
          "text": [
            "Saved model to disk\n"
          ],
          "name": "stdout"
        }
      ]
    },
    {
      "metadata": {
        "id": "hEZ5a5nZGMgd",
        "colab_type": "code",
        "colab": {}
      },
      "cell_type": "code",
      "source": [
        "vl += history.history['val_loss']\n",
        "tl += history.history['loss']"
      ],
      "execution_count": 0,
      "outputs": []
    },
    {
      "metadata": {
        "id": "wLzu4UoCGh1N",
        "colab_type": "code",
        "colab": {}
      },
      "cell_type": "code",
      "source": [
        "# The predictions of the neural network using our Test set as input\n",
        "pred_bboxes = model.predict(X_test)\n",
        "pred_bboxes = pred_bboxes.reshape(len(pred_bboxes), N_bb, -1)"
      ],
      "execution_count": 0,
      "outputs": []
    },
    {
      "metadata": {
        "id": "4qxjwEgnGMVv",
        "colab_type": "code",
        "colab": {
          "base_uri": "https://localhost:8080/",
          "height": 345
        },
        "outputId": "ec01da29-4d68-4173-b896-fd16f20b5a7e"
      },
      "cell_type": "code",
      "source": [
        "m_iou = mean_IoU(expe_bboxes, pred_bboxes)\n",
        "visual_metric(train_ex, m_iou, N_ep, Batchs, history.history, 'loss')"
      ],
      "execution_count": 54,
      "outputs": [
        {
          "output_type": "stream",
          "text": [
            "----> Datatset IoU: 0.3359158482119773\n",
            "      Dim. train: 100000 examples\n",
            "      Epochs: 50 - mini-batches: 16\n"
          ],
          "name": "stdout"
        },
        {
          "output_type": "display_data",
          "data": {
            "image/png": "[encoded data removed]",
            "text/plain": [
              "<matplotlib.figure.Figure at 0x7f7d4746dc50>"
            ]
          },
          "metadata": {
            "tags": []
          }
        }
      ]
    },
    {
      "metadata": {
        "id": "ZwYyI8vIGjcN",
        "colab_type": "code",
        "colab": {}
      },
      "cell_type": "code",
      "source": [
        "N_ep = 75\n",
        "init_ep = 50 \n",
        "Batchs = 16\n",
        "optimizer = 'adadelta'\n",
        "loss = 'mse'"
      ],
      "execution_count": 0,
      "outputs": []
    },
    {
      "metadata": {
        "id": "WCSpbjogX1YP",
        "colab_type": "code",
        "colab": {
          "base_uri": "https://localhost:8080/",
          "height": 884
        },
        "outputId": "eec60608-0eaa-4f46-8fab-08cf63bfb160"
      },
      "cell_type": "code",
      "source": [
        "model.compile(optimizer, loss)\n",
        "history = model.fit(X_train, Y_train, epochs=N_ep, validation_data=(X_val, Y_val), batch_size=Batchs, initial_epoch = init_ep, verbose=1)"
      ],
      "execution_count": 74,
      "outputs": [
        {
          "output_type": "stream",
          "text": [
            "Train on 100000 samples, validate on 12500 samples\n",
            "Epoch 51/75\n",
            "100000/100000 [==============================] - 64s 638us/step - loss: 3.8426 - val_loss: 3.2998\n",
            "Epoch 52/75\n",
            "100000/100000 [==============================] - 64s 639us/step - loss: 3.8361 - val_loss: 3.3188\n",
            "Epoch 53/75\n",
            "100000/100000 [==============================] - 63s 634us/step - loss: 3.8124 - val_loss: 3.2374\n",
            "Epoch 54/75\n",
            "100000/100000 [==============================] - 63s 633us/step - loss: 3.8115 - val_loss: 3.2658\n",
            "Epoch 55/75\n",
            "100000/100000 [==============================] - 63s 632us/step - loss: 3.7942 - val_loss: 3.2029\n",
            "Epoch 56/75\n",
            "100000/100000 [==============================] - 64s 635us/step - loss: 3.7938 - val_loss: 3.2534\n",
            "Epoch 57/75\n",
            "100000/100000 [==============================] - 64s 636us/step - loss: 3.7774 - val_loss: 3.2784\n",
            "Epoch 58/75\n",
            "100000/100000 [==============================] - 63s 633us/step - loss: 3.7853 - val_loss: 3.2194\n",
            "Epoch 59/75\n",
            "100000/100000 [==============================] - 63s 631us/step - loss: 3.7819 - val_loss: 3.2134\n",
            "Epoch 60/75\n",
            "100000/100000 [==============================] - 63s 632us/step - loss: 3.7726 - val_loss: 3.1837\n",
            "Epoch 61/75\n",
            "100000/100000 [==============================] - 63s 632us/step - loss: 3.7763 - val_loss: 3.2555\n",
            "Epoch 62/75\n",
            "100000/100000 [==============================] - 63s 634us/step - loss: 3.7691 - val_loss: 3.3328\n",
            "Epoch 63/75\n",
            "100000/100000 [==============================] - 63s 630us/step - loss: 3.7541 - val_loss: 3.2945\n",
            "Epoch 64/75\n",
            "100000/100000 [==============================] - 63s 631us/step - loss: 3.7659 - val_loss: 3.1919\n",
            "Epoch 65/75\n",
            "100000/100000 [==============================] - 63s 629us/step - loss: 3.7655 - val_loss: 3.2814\n",
            "Epoch 66/75\n",
            "100000/100000 [==============================] - 63s 632us/step - loss: 3.7572 - val_loss: 3.2459\n",
            "Epoch 67/75\n",
            "100000/100000 [==============================] - 63s 633us/step - loss: 3.7475 - val_loss: 3.1990\n",
            "Epoch 68/75\n",
            "100000/100000 [==============================] - 63s 630us/step - loss: 3.7283 - val_loss: 3.1518\n",
            "Epoch 69/75\n",
            "100000/100000 [==============================] - 63s 628us/step - loss: 3.7530 - val_loss: 3.1990\n",
            "Epoch 70/75\n",
            "100000/100000 [==============================] - 63s 629us/step - loss: 3.7290 - val_loss: 3.2426\n",
            "Epoch 71/75\n",
            "100000/100000 [==============================] - 63s 630us/step - loss: 3.7188 - val_loss: 3.1836\n",
            "Epoch 72/75\n",
            "100000/100000 [==============================] - 63s 632us/step - loss: 3.7231 - val_loss: 3.2128\n",
            "Epoch 73/75\n",
            "100000/100000 [==============================] - 63s 629us/step - loss: 3.7128 - val_loss: 3.1866\n",
            "Epoch 74/75\n",
            "100000/100000 [==============================] - 63s 629us/step - loss: 3.7161 - val_loss: 3.3041\n",
            "Epoch 75/75\n",
            "100000/100000 [==============================] - 63s 629us/step - loss: 3.7101 - val_loss: 3.2829\n"
          ],
          "name": "stdout"
        }
      ]
    },
    {
      "metadata": {
        "id": "6nupwtrJGjaA",
        "colab_type": "code",
        "colab": {}
      },
      "cell_type": "code",
      "source": [
        "# Name will contains name of the model (181112), number of training examples in thousands (100), \n",
        "# mini-batches (16), final epoch (75)\n",
        "\n",
        "name = '181112_' + 'tr' + str(int(train_ex/1000)) + '_mb' + str(Batchs) + '_e' + str(N_ep)\n",
        "model_name = name + '.json' \n",
        "weight_name = name + '.h5'\n",
        "train_history = name + '_hist'"
      ],
      "execution_count": 0,
      "outputs": []
    },
    {
      "metadata": {
        "id": "Qs7HSD74GjV7",
        "colab_type": "code",
        "colab": {
          "base_uri": "https://localhost:8080/",
          "height": 34
        },
        "outputId": "53875ff3-e551-4558-fb5e-90f8e77922a7"
      },
      "cell_type": "code",
      "source": [
        "# serialize weights to HDF5\n",
        "model.save_weights(weight_name)\n",
        "print('Saved model to disk')\n",
        "\n",
        "# save just history\n",
        "with open(train_history, 'wb') as hist:\n",
        "  pickle.dump(history, hist)"
      ],
      "execution_count": 76,
      "outputs": [
        {
          "output_type": "stream",
          "text": [
            "Saved model to disk\n"
          ],
          "name": "stdout"
        }
      ]
    },
    {
      "metadata": {
        "id": "F7Uo_6L3GjSV",
        "colab_type": "code",
        "colab": {}
      },
      "cell_type": "code",
      "source": [
        "vl += history.history['val_loss']\n",
        "tl += history.history['loss']"
      ],
      "execution_count": 0,
      "outputs": []
    },
    {
      "metadata": {
        "id": "1JDFZuiNGvn6",
        "colab_type": "code",
        "colab": {}
      },
      "cell_type": "code",
      "source": [
        "# The predictions of the neural network using our Test set as input\n",
        "pred_bboxes = model.predict(X_test)\n",
        "pred_bboxes = pred_bboxes.reshape(len(pred_bboxes), N_bb, -1)"
      ],
      "execution_count": 0,
      "outputs": []
    },
    {
      "metadata": {
        "id": "zvPo6dUSGvjl",
        "colab_type": "code",
        "colab": {
          "base_uri": "https://localhost:8080/",
          "height": 345
        },
        "outputId": "50a00ed2-6bcf-4adc-c40d-2998af3b24b9"
      },
      "cell_type": "code",
      "source": [
        "m_iou = mean_IoU(expe_bboxes, pred_bboxes)\n",
        "visual_metric(train_ex, m_iou, N_ep, Batchs, history.history, 'loss')"
      ],
      "execution_count": 79,
      "outputs": [
        {
          "output_type": "stream",
          "text": [
            "----> Datatset IoU: 0.3455131877030857\n",
            "      Dim. train: 100000 examples\n",
            "      Epochs: 75 - mini-batches: 16\n"
          ],
          "name": "stdout"
        },
        {
          "output_type": "display_data",
          "data": {
            "image/png": "[encoded data removed]",
            "text/plain": [
              "<matplotlib.figure.Figure at 0x7f7d471f2b70>"
            ]
          },
          "metadata": {
            "tags": []
          }
        }
      ]
    },
    {
      "metadata": {
        "id": "eR5wdC8LGve1",
        "colab_type": "code",
        "colab": {}
      },
      "cell_type": "code",
      "source": [
        "N_ep = 100\n",
        "init_ep = 75 \n",
        "Batchs = 16\n",
        "optimizer = 'adadelta'\n",
        "loss = 'mse'"
      ],
      "execution_count": 0,
      "outputs": []
    },
    {
      "metadata": {
        "id": "iRC0h5rRXoQd",
        "colab_type": "code",
        "colab": {
          "base_uri": "https://localhost:8080/",
          "height": 884
        },
        "outputId": "2fe2a593-d827-44d2-cf4a-163e10a61aa5"
      },
      "cell_type": "code",
      "source": [
        "model.compile(optimizer, loss)\n",
        "history = model.fit(X_train, Y_train, epochs=N_ep, validation_data=(X_val, Y_val), batch_size=Batchs, initial_epoch = init_ep, verbose=1)"
      ],
      "execution_count": 82,
      "outputs": [
        {
          "output_type": "stream",
          "text": [
            "Train on 100000 samples, validate on 12500 samples\n",
            "Epoch 76/100\n",
            "100000/100000 [==============================] - 64s 642us/step - loss: 3.7320 - val_loss: 3.2186\n",
            "Epoch 77/100\n",
            "100000/100000 [==============================] - 63s 634us/step - loss: 3.7210 - val_loss: 3.2786\n",
            "Epoch 78/100\n",
            "100000/100000 [==============================] - 63s 633us/step - loss: 3.7046 - val_loss: 3.3001\n",
            "Epoch 79/100\n",
            "100000/100000 [==============================] - 63s 634us/step - loss: 3.6942 - val_loss: 3.2353\n",
            "Epoch 80/100\n",
            "100000/100000 [==============================] - 64s 635us/step - loss: 3.7030 - val_loss: 3.1842\n",
            "Epoch 81/100\n",
            "100000/100000 [==============================] - 64s 638us/step - loss: 3.6896 - val_loss: 3.1032\n",
            "Epoch 82/100\n",
            "100000/100000 [==============================] - 63s 633us/step - loss: 3.6890 - val_loss: 3.2011\n",
            "Epoch 83/100\n",
            "100000/100000 [==============================] - 63s 631us/step - loss: 3.6861 - val_loss: 3.2184\n",
            "Epoch 84/100\n",
            "100000/100000 [==============================] - 63s 631us/step - loss: 3.6898 - val_loss: 3.1835\n",
            "Epoch 85/100\n",
            "100000/100000 [==============================] - 63s 634us/step - loss: 3.7002 - val_loss: 3.1505\n",
            "Epoch 86/100\n",
            "100000/100000 [==============================] - 64s 636us/step - loss: 3.6802 - val_loss: 3.2302\n",
            "Epoch 87/100\n",
            "100000/100000 [==============================] - 63s 632us/step - loss: 3.6808 - val_loss: 3.2314\n",
            "Epoch 88/100\n",
            "100000/100000 [==============================] - 63s 631us/step - loss: 3.6771 - val_loss: 3.1820\n",
            "Epoch 89/100\n",
            "100000/100000 [==============================] - 63s 634us/step - loss: 3.6703 - val_loss: 3.1260\n",
            "Epoch 90/100\n",
            "100000/100000 [==============================] - 63s 632us/step - loss: 3.6736 - val_loss: 3.2115\n",
            "Epoch 91/100\n",
            "100000/100000 [==============================] - 64s 637us/step - loss: 3.6709 - val_loss: 3.1532\n",
            "Epoch 92/100\n",
            "100000/100000 [==============================] - 63s 633us/step - loss: 3.6813 - val_loss: 3.1826\n",
            "Epoch 93/100\n",
            "100000/100000 [==============================] - 63s 633us/step - loss: 3.6692 - val_loss: 3.3572\n",
            "Epoch 94/100\n",
            "100000/100000 [==============================] - 64s 637us/step - loss: 3.6676 - val_loss: 3.2000\n",
            "Epoch 95/100\n",
            "100000/100000 [==============================] - 63s 634us/step - loss: 3.6687 - val_loss: 3.1594\n",
            "Epoch 96/100\n",
            "100000/100000 [==============================] - 64s 637us/step - loss: 3.6693 - val_loss: 3.1806\n",
            "Epoch 97/100\n",
            "100000/100000 [==============================] - 63s 634us/step - loss: 3.6589 - val_loss: 3.1414\n",
            "Epoch 98/100\n",
            "100000/100000 [==============================] - 63s 634us/step - loss: 3.6682 - val_loss: 3.1666\n",
            "Epoch 99/100\n",
            "100000/100000 [==============================] - 64s 636us/step - loss: 3.6588 - val_loss: 3.1398\n",
            "Epoch 100/100\n",
            "100000/100000 [==============================] - 63s 634us/step - loss: 3.6520 - val_loss: 3.1986\n"
          ],
          "name": "stdout"
        }
      ]
    },
    {
      "metadata": {
        "id": "0QEiMTaNbm7K",
        "colab_type": "code",
        "colab": {}
      },
      "cell_type": "code",
      "source": [
        "# Name will contains name of the model (181112), number of training examples in thousands (100), \n",
        "# mini-batches (16), final epoch (100)\n",
        "\n",
        "name = '181112_' + 'tr' + str(int(train_ex/1000)) + '_mb' + str(Batchs) + '_e' + str(N_ep)\n",
        "model_name = name + '.json' \n",
        "weight_name = name + '.h5'\n",
        "train_history = name + '_hist'"
      ],
      "execution_count": 0,
      "outputs": []
    },
    {
      "metadata": {
        "id": "upo0gbAGbm2s",
        "colab_type": "code",
        "colab": {
          "base_uri": "https://localhost:8080/",
          "height": 34
        },
        "outputId": "7a078cbb-5cdd-4133-c7ad-74b5ca6ae8a6"
      },
      "cell_type": "code",
      "source": [
        "# serialize weights to HDF5\n",
        "model.save_weights(weight_name)\n",
        "print('Saved model to disk')\n",
        "\n",
        "# save just history\n",
        "with open(train_history, 'wb') as hist:\n",
        "  pickle.dump(history, hist)"
      ],
      "execution_count": 84,
      "outputs": [
        {
          "output_type": "stream",
          "text": [
            "Saved model to disk\n"
          ],
          "name": "stdout"
        }
      ]
    },
    {
      "metadata": {
        "id": "AhmK_VC4bmom",
        "colab_type": "code",
        "colab": {}
      },
      "cell_type": "code",
      "source": [
        "vl += history.history['val_loss']\n",
        "tl += history.history['loss']"
      ],
      "execution_count": 0,
      "outputs": []
    },
    {
      "metadata": {
        "id": "_OFCNYMDbtuX",
        "colab_type": "code",
        "colab": {}
      },
      "cell_type": "code",
      "source": [
        "# The predictions of the neural network using our Test set as input\n",
        "pred_bboxes = model.predict(X_test)\n",
        "pred_bboxes = pred_bboxes.reshape(len(pred_bboxes), N_bb, -1)"
      ],
      "execution_count": 0,
      "outputs": []
    },
    {
      "metadata": {
        "id": "m36odYInbtrn",
        "colab_type": "code",
        "colab": {
          "base_uri": "https://localhost:8080/",
          "height": 345
        },
        "outputId": "9b834c50-53e4-4748-d247-5fa8a88ca9fb"
      },
      "cell_type": "code",
      "source": [
        "m_iou = mean_IoU(expe_bboxes, pred_bboxes)\n",
        "visual_metric(train_ex, m_iou, N_ep, Batchs, history.history, 'loss')"
      ],
      "execution_count": 87,
      "outputs": [
        {
          "output_type": "stream",
          "text": [
            "----> Datatset IoU: 0.34695454725192576\n",
            "      Dim. train: 100000 examples\n",
            "      Epochs: 100 - mini-batches: 16\n"
          ],
          "name": "stdout"
        },
        {
          "output_type": "display_data",
          "data": {
            "image/png": "[encoded data removed]",
            "text/plain": [
              "<matplotlib.figure.Figure at 0x7f7d46a87860>"
            ]
          },
          "metadata": {
            "tags": []
          }
        }
      ]
    },
    {
      "metadata": {
        "id": "APopOIr1Xny9",
        "colab_type": "code",
        "colab": {
          "base_uri": "https://localhost:8080/",
          "height": 345
        },
        "outputId": "bb904213-ef2b-4c63-9442-f41f0c4434d0"
      },
      "cell_type": "code",
      "source": [
        "hist = {'val_loss': vl, 'loss': tl}\n",
        "visual_metric(train_ex, m_iou, N_ep, Batchs, hist, 'loss')"
      ],
      "execution_count": 88,
      "outputs": [
        {
          "output_type": "stream",
          "text": [
            "----> Datatset IoU: 0.34695454725192576\n",
            "      Dim. train: 100000 examples\n",
            "      Epochs: 100 - mini-batches: 16\n"
          ],
          "name": "stdout"
        },
        {
          "output_type": "display_data",
          "data": {
            "image/png": "[encoded data removed]",
            "text/plain": [
              "<matplotlib.figure.Figure at 0x7f7d46aab518>"
            ]
          },
          "metadata": {
            "tags": []
          }
        }
      ]
    },
    {
      "metadata": {
        "id": "joXegm1EfWIL",
        "colab_type": "code",
        "colab": {
          "base_uri": "https://localhost:8080/",
          "height": 558
        },
        "outputId": "02938f20-4ab9-427a-f9f4-a49afd54433b"
      },
      "cell_type": "code",
      "source": [
        "# Consider a random image of our Test set\n",
        "im = np.random.randint(dim_test)\n",
        "\n",
        "# We look at the objects contained in it and the bounding boxes predicted by the algorithm\n",
        "print('Test images:', im)\n",
        "visual_example(imgTest[im], side_dim, N_bb, pred_bboxes[im], expe_bboxes[im])"
      ],
      "execution_count": 90,
      "outputs": [
        {
          "output_type": "stream",
          "text": [
            "Test images: 6184\n",
            "Object:  1\n",
            "B-box confidence: 1.0\n",
            "B-box coordinates: [2.87 11.78 5.88 5.64]\n",
            "Object coordinates: [3.00 12.00 5.00 7.00]\n",
            "Object:  2\n",
            "B-box confidence: 1.0\n",
            "B-box coordinates: [5.95 14.00 5.02 5.11]\n",
            "Object coordinates: [7.00 12.00 6.00 6.00]\n",
            "Object:  3\n",
            "B-box confidence: 1.0\n",
            "B-box coordinates: [10.25 17.64 5.45 5.33]\n",
            "Object coordinates: [10.00 18.00 6.00 2.00]\n",
            "Object:  4\n",
            "B-box confidence: 1.0\n",
            "B-box coordinates: [14.25 22.37 5.01 6.08]\n",
            "Object coordinates: [14.00 24.00 5.00 6.00]\n"
          ],
          "name": "stdout"
        },
        {
          "output_type": "display_data",
          "data": {
            "image/png": "[encoded data removed]",
            "text/plain": [
              "<matplotlib.figure.Figure at 0x7f7d4747c240>"
            ]
          },
          "metadata": {
            "tags": []
          }
        }
      ]
    },
    {
      "metadata": {
        "id": "ALuAFEEMfV5s",
        "colab_type": "code",
        "colab": {}
      },
      "cell_type": "code",
      "source": [
        ""
      ],
      "execution_count": 0,
      "outputs": []
    }
  ]
}