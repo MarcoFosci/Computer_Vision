{
  "nbformat": 4,
  "nbformat_minor": 0,
  "metadata": {
    "colab": {
      "name": "Shape_Detection_2.0_.ipynb",
      "version": "0.3.2",
      "provenance": [],
      "collapsed_sections": [],
      "toc_visible": true
    },
    "kernelspec": {
      "name": "python3",
      "display_name": "Python 3"
    },
    "accelerator": "GPU"
  },
  "cells": [
    {
      "metadata": {
        "id": "edUy06_hxC1w",
        "colab_type": "text"
      },
      "cell_type": "markdown",
      "source": [
        "# Shape Detection\n",
        "The following Notebook intends to take a look at the detection of a variable number of bounding boxes that delimit objects in an image dataset. The structure of this experiment is as follows:\n",
        "\n",
        "* Premise\n",
        "* Dataset generation\n",
        "* Dataset Analysis and preprocessing\n",
        "* Modeling Training phase\n",
        "* Prediction analysis\n",
        "* Conclusions"
      ]
    },
    {
      "metadata": {
        "id": "Qncfh05ySrQf",
        "colab_type": "text"
      },
      "cell_type": "markdown",
      "source": [
        "## Premise\n",
        "\n",
        "(tags: CNN, Object detection)\n",
        "\n",
        "This work was inspired by [Johannes Rieke article on Medium](https://towardsdatascience.com/object-detection-with-neural-networks-a4e2c46b4491) and by [Andrew Ng's Specialization Course on Deep Learning](https://www.coursera.org/specializations/deep-learning).\n",
        "\n",
        "Rieke's work is interesting for the simplicity with which he creates a trainingset for our purpose - that is, developing bounding boxes that identify particular objects in an image. I dedicate myself in particular to the identification of several objects in the same image.\n",
        "\n",
        "Rieke highlights a big risk: in the identification of N objects, the neural network ends up with not specializing and instead it develops 'average' bounding boxes - more or less equal - useless for our purpose. To solve this problem he proposes an algorithm for swapping the example's targets label between one epoch and another. A mechanism that did not convince me for two reasons:\n",
        "\n",
        "- it considerably weighs the algorithm on a computational level (at the end of epoch the predictions of the network with the target values are compared).\n",
        "- in the tests I did I could not get out of a sort of perpetual oscillation and at every epoch the percentage of swaps remained almost unchanged.\n",
        "\n",
        "Conceptually starting from the work of Rieke I propose a solution that makes clear the importance of a preprocessing of our dataset. In fact, I create an order in the target values of our trainingset. I take as reference point the distance from one of the edges of the image (the origin in a coordinate system). \n",
        "\n",
        "As you can see it is an elegant solution that solves the problem upstream. Later I dedicate myself to improving the efficiency of the neural network.\n",
        "\n"
      ]
    },
    {
      "metadata": {
        "id": "uLnCJvC2Sis8",
        "colab_type": "code",
        "colab": {}
      },
      "cell_type": "code",
      "source": [
        "import numpy as np\n",
        "import matplotlib.pyplot as plt\n",
        "import matplotlib.patches as patches\n",
        "import cv2\n",
        "import tensorflow as tf\n",
        "from keras.models import Sequential\n",
        "from keras.layers import Conv2D, MaxPooling2D, Dense, Dropout, Flatten, Input, Activation, BatchNormalization\n",
        "from keras import optimizers\n",
        "import pickle\n",
        "from sd_utils.py import * \n",
        "\n",
        "%matplotlib inline"
      ],
      "execution_count": 0,
      "outputs": []
    },
    {
      "metadata": {
        "id": "9FyhER8HdAUz",
        "colab_type": "text"
      },
      "cell_type": "markdown",
      "source": [
        "## Dataset Generation\n",
        "We create a simple image dataset. Each image will have a maximum size of 32x32 and will contain up to a maximum of N_bb objects (rectangles) with different shades of color. Their size will vary between a minimum of 1x1 and a maximum of 8x8. [To implement : If the color gradation (0-255) is less than or greater than a certain threshold (in our case <64), the object must not be detected.]\n",
        "\n",
        "At the same time we define our bounding boxes. We will use 5 coordinates: a 'Pc', which indicates the percentage of confidence in the presence of an object; 'x' and 'y', for the spatial position of the top-left vertex and 'w' and 'h' for the extension (width and height)."
      ]
    },
    {
      "metadata": {
        "id": "Zs2kkBRlv25S",
        "colab_type": "code",
        "colab": {}
      },
      "cell_type": "code",
      "source": [
        "N_imgs = 100000\n",
        "\n",
        "# imagines side dimension\n",
        "side_dim = 32 \n",
        "\n",
        "# objects min/max side dimensions\n",
        "obj_min_dim = 2\n",
        "obj_max_dim = 8 \n",
        "\n",
        "# number of objects\n",
        "N_bb = 4 \n",
        "\n",
        "# color thresholds\n",
        "min_threshold = 0\n",
        "max_threshold = 124\n",
        "\n",
        "# confidence threshold\n",
        "Pc_th = .0\n",
        "\n",
        "# inizialization of images with a light gray color (just for aesthetic reasons)\n",
        "imgs = np.ones((N_imgs, side_dim, side_dim,3)) * .9 \n",
        "\n",
        "# inizialization of bounding boxes\n",
        "bounding_boxes = np.zeros((N_imgs, N_bb, 5))\n",
        "\n",
        "# inizialization of origin distance array\n",
        "distance = np.zeros((N_imgs, N_bb))"
      ],
      "execution_count": 0,
      "outputs": []
    },
    {
      "metadata": {
        "id": "LEhGGX-QS4SO",
        "colab_type": "code",
        "colab": {}
      },
      "cell_type": "code",
      "source": [
        "# creation of images, Bounding Boxes and an origin distance to order BB\n",
        "imgs, bounding_boxes, distance = create_dataset(N_imgs, N_bb, side_dim, obj_min_dim, obj_max_dim, min_threshold, max_threshold)"
      ],
      "execution_count": 0,
      "outputs": []
    },
    {
      "metadata": {
        "id": "TGK4cCnHlJ2G",
        "colab_type": "text"
      },
      "cell_type": "markdown",
      "source": [
        "## Dataset Analysis and Preprocessing\n",
        "First we analyze our datasets and start preprocessing them"
      ]
    },
    {
      "metadata": {
        "id": "jUY7g8MIlfpG",
        "colab_type": "code",
        "outputId": "d9461268-e96a-4c9e-8a7c-bdbeabb4c1bb",
        "colab": {
          "base_uri": "https://localhost:8080/",
          "height": 68
        }
      },
      "cell_type": "code",
      "source": [
        "# Let's look at the size of the Numpy arrays for images and bboxes \n",
        "print('Dimension of images array:', imgs.shape)\n",
        "print('Dimension of BBoxes array:', bounding_boxes.shape)\n",
        "print('Dimension of distance array:', distance.shape)"
      ],
      "execution_count": 6,
      "outputs": [
        {
          "output_type": "stream",
          "text": [
            "Dimension of images array: (100000, 32, 32, 3)\n",
            "Dimension of BBoxes array: (100000, 4, 5)\n",
            "Dimension of distance array: (100000, 4)\n"
          ],
          "name": "stdout"
        }
      ]
    },
    {
      "metadata": {
        "id": "fPeK79wgVDXu",
        "colab_type": "code",
        "outputId": "6101f767-d0db-4657-f634-31f43e32d01e",
        "colab": {
          "base_uri": "https://localhost:8080/",
          "height": 286
        }
      },
      "cell_type": "code",
      "source": [
        "# We take a random image of our training set\n",
        "im = np.random.randint(N_imgs)\n",
        "print('Imagine n.', im)\n",
        "\n",
        "# Let's look the objects contained in it...\n",
        "fig, ax = plt.subplots(1)\n",
        "ax.imshow(imgs[im], origin = 'upper', interpolation = 'quadric', extent=[0, side_dim, side_dim, 0])\n",
        "\n",
        "# ...and the corresponding bounding boxes\n",
        "for i in range (N_bb):\n",
        "  [Pc, x, y, w, h] = bounding_boxes[im, i]\n",
        "\n",
        "# we consider only a percentage of confidence above the Pc_th\n",
        "# (in our datasets we have Pc with values 0 or 1) but later\n",
        "# Pc will assume probabilistic values between 0 and 1\n",
        "  if Pc >= Pc_th:\n",
        "    rect = patches.Rectangle((x, y) , w, h, ec='r', lw='1.6', fc='none')\n",
        "    ax.add_patch(rect)\n",
        "\n",
        "plt.show()"
      ],
      "execution_count": 7,
      "outputs": [
        {
          "output_type": "stream",
          "text": [
            "Imagine n. 23644\n"
          ],
          "name": "stdout"
        },
        {
          "output_type": "display_data",
          "data": {
            "image/png": "[encoded data removed]",
            "text/plain": [
              "<matplotlib.figure.Figure at 0x7f08753cd208>"
            ]
          },
          "metadata": {
            "tags": []
          }
        }
      ]
    },
    {
      "metadata": {
        "id": "b0idcZGhsjXG",
        "colab_type": "code",
        "outputId": "4b26aa94-1537-4740-8f73-2ac6f42ccb7e",
        "colab": {
          "base_uri": "https://localhost:8080/",
          "height": 269
        }
      },
      "cell_type": "code",
      "source": [
        "# We look at the image again, this time highlighting the distance of the objects from the origin ...\n",
        "fig, ax = plt.subplots(1)\n",
        "\n",
        "ax.imshow(imgs[im], origin = 'upper', interpolation = 'hanning', extent=[0, side_dim, side_dim, 0])\n",
        "\n",
        "for i in range (N_bb):\n",
        "  [Pc, x, y, w, h] = bounding_boxes[im, i]\n",
        "\n",
        "  if Pc >= Pc_th:\n",
        "    line = patches.Arrow(0, 0, x+(w/2), y+(h/2), .2, ec='r') \n",
        "    ax.add_patch(line)\n",
        "    dida = 'dist: ' + '{:0.1f}'.format(distance[im,i])\n",
        "    plt.annotate(dida, (x + w + 0.8 , y - 0.8), color='r')\n",
        "\n",
        "plt.show()"
      ],
      "execution_count": 8,
      "outputs": [
        {
          "output_type": "display_data",
          "data": {
            "image/png": "[encoded data removed]",
            "text/plain": [
              "<matplotlib.figure.Figure at 0x7f08753dc470>"
            ]
          },
          "metadata": {
            "tags": []
          }
        }
      ]
    },
    {
      "metadata": {
        "id": "3ZmynTypGD2p",
        "colab_type": "text"
      },
      "cell_type": "markdown",
      "source": [
        "\n",
        "We rearrange the bounding boxes based on the distance from the origin of the objects to avoid the problem highlighted by Rieke's article."
      ]
    },
    {
      "metadata": {
        "id": "5gBRsop_d6t1",
        "colab_type": "code",
        "colab": {}
      },
      "cell_type": "code",
      "source": [
        "bb_ordered = order_bb(bounding_boxes, distance) "
      ],
      "execution_count": 0,
      "outputs": []
    },
    {
      "metadata": {
        "id": "FVTByunkgLCA",
        "colab_type": "text"
      },
      "cell_type": "markdown",
      "source": [
        "Let's start thinking in terms of Machine Learning.  <br/>\n",
        "So we normalize the pixel values contained in our images to have values between -1 and 1 and transfer them to the input X values."
      ]
    },
    {
      "metadata": {
        "id": "YSkMI1oUc0A-",
        "colab_type": "code",
        "outputId": "dd67d28b-0e65-4802-f21c-ab883782c900",
        "colab": {
          "base_uri": "https://localhost:8080/",
          "height": 51
        }
      },
      "cell_type": "code",
      "source": [
        "X = (imgs - np.mean(imgs)) / np.std(imgs)\n",
        "print('X shape: ',X.shape, '---- Average value: ', np.mean(imgs), '---- Standard deviation:', np.std(imgs))\n",
        "\n",
        "Y = bb_ordered.reshape(N_imgs, -1) \n",
        "print('Y shape: ',Y.shape)"
      ],
      "execution_count": 9,
      "outputs": [
        {
          "output_type": "stream",
          "text": [
            "X shape:  (100000, 32, 32, 3) ---- Average value:  0.8498243504774303 ---- Standard deviation: 0.1790191150896044\n",
            "Y shape:  (100000, 20)\n"
          ],
          "name": "stdout"
        }
      ]
    },
    {
      "metadata": {
        "id": "TZQ-YIJYHDGr",
        "colab_type": "text"
      },
      "cell_type": "markdown",
      "source": [
        "Below we see the shape of our X values and we observe one of our Y target values."
      ]
    },
    {
      "metadata": {
        "id": "fkQt2zrRp1Hz",
        "colab_type": "code",
        "colab": {}
      },
      "cell_type": "code",
      "source": [
        "print('Images example', i, 'has shape:\\n', X[im].shape, '\\n')\n",
        "print('...and the target values Y are:\\n', Y[im])"
      ],
      "execution_count": 0,
      "outputs": []
    },
    {
      "metadata": {
        "id": "4CDu5pmrnQ8h",
        "colab_type": "text"
      },
      "cell_type": "markdown",
      "source": [
        "We have a homogeneous dataset of the N_imgs elements that we now share in Training set, Validation set, and Test set in relation 60%, 20%, 20%."
      ]
    },
    {
      "metadata": {
        "id": "Z9_AAOlaXGsU",
        "colab_type": "code",
        "outputId": "ae34ae79-385e-46cb-fec2-1d766d878f79",
        "colab": {
          "base_uri": "https://localhost:8080/",
          "height": 68
        }
      },
      "cell_type": "code",
      "source": [
        "i = int(0.6 * N_imgs)\n",
        "j = int(0.2 * N_imgs)\n",
        "\n",
        "X_train = X[:i]\n",
        "Y_train = Y[:i]\n",
        "train_ex = X_train.shape[0]\n",
        "\n",
        "X_val = X[i:i+j]\n",
        "Y_val = Y[i:i+j]\n",
        "val_ex = X_val.shape[0]\n",
        "\n",
        "X_test = X[i+j:]\n",
        "Y_test = Y[i+j:]\n",
        "test_ex = X_test.shape[0]\n",
        "\n",
        "dim_test = j # useful for the future \n",
        "\n",
        "print('Below the dimensions of X and Y for Training set, Validation set, and Test set respectively\\n')\n",
        "print(X_train.shape, Y_train.shape, X_val.shape, Y_val.shape, X_test.shape, Y_test.shape)"
      ],
      "execution_count": 16,
      "outputs": [
        {
          "output_type": "stream",
          "text": [
            "Below the dimensions of X and Y for Training set, Validation set, and Test set respectively\n",
            "\n",
            "(60000, 32, 32, 3) (60000, 20) (20000, 32, 32, 3) (20000, 20) (20000, 32, 32, 3) (20000, 20)\n"
          ],
          "name": "stdout"
        }
      ]
    },
    {
      "metadata": {
        "id": "DD5di2m3ZkR1",
        "colab_type": "text"
      },
      "cell_type": "markdown",
      "source": [
        "## Modeling Training phase\n",
        "###The Neural Network\n",
        "In previous experiments, we used the network proposed in Rieke's experiment, following the fundamental suggestion of Andrew Ng to implement a model as soon as possible to have a starting point on which to base himself. Now let's start working on network tuning and try to improve its rather poor performance. The model we use is clearly inspired by the [AlexNet](https://en.wikipedia.org/wiki/AlexNet). It uses three pairs of CNN-MaxPooling layers followed, two other  CNN and two fully connected layers, for a total of about 807 thousand parameters."
      ]
    },
    {
      "metadata": {
        "id": "qij_SpFYmFXt",
        "colab_type": "code",
        "outputId": "c00be842-21a3-4982-bdd9-93a0b0e07344",
        "colab": {
          "base_uri": "https://localhost:8080/",
          "height": 748
        }
      },
      "cell_type": "code",
      "source": [
        "model = Sequential()\n",
        "model.add(Conv2D(48, kernel_size=(8, 8), strides=2, padding='same', activation='relu', input_shape=(side_dim,side_dim,3), data_format='channels_last'))\n",
        "model.add(MaxPooling2D(pool_size=(2, 2), strides=2, padding='valid'))\n",
        "model.add(BatchNormalization())\n",
        "model.add(Conv2D(128, kernel_size=(4, 4), strides=1, padding='same', activation='relu'))\n",
        "model.add(MaxPooling2D(pool_size=(2, 2), strides=2, padding='valid'))\n",
        "model.add(BatchNormalization())\n",
        "model.add(Conv2D(192, kernel_size=(2, 2), strides=1, padding='same', activation='relu'))\n",
        "model.add(Conv2D(192, kernel_size=(2, 2), strides=1, padding='same', activation='relu'))\n",
        "model.add(BatchNormalization())\n",
        "model.add(Conv2D(128, kernel_size=(2, 2), strides=1, padding='same', activation='relu'))\n",
        "model.add(MaxPooling2D(pool_size=(2, 2), strides=2, padding='valid'))\n",
        "model.add(Flatten())\n",
        "model.add(Dense(384, activation='relu'))\n",
        "model.add(Dropout(.1))\n",
        "model.add(Dense(384, activation='relu'))\n",
        "model.add(Dropout(.1))\n",
        "model.add(BatchNormalization())\n",
        "model.add(Dense(Y.shape[-1]))\n",
        "\n",
        "summ = model.summary()"
      ],
      "execution_count": 13,
      "outputs": [
        {
          "output_type": "stream",
          "text": [
            "_________________________________________________________________\n",
            "Layer (type)                 Output Shape              Param #   \n",
            "=================================================================\n",
            "conv2d_1 (Conv2D)            (None, 16, 16, 48)        9264      \n",
            "_________________________________________________________________\n",
            "max_pooling2d_1 (MaxPooling2 (None, 8, 8, 48)          0         \n",
            "_________________________________________________________________\n",
            "batch_normalization_1 (Batch (None, 8, 8, 48)          192       \n",
            "_________________________________________________________________\n",
            "conv2d_2 (Conv2D)            (None, 8, 8, 128)         98432     \n",
            "_________________________________________________________________\n",
            "max_pooling2d_2 (MaxPooling2 (None, 4, 4, 128)         0         \n",
            "_________________________________________________________________\n",
            "batch_normalization_2 (Batch (None, 4, 4, 128)         512       \n",
            "_________________________________________________________________\n",
            "conv2d_3 (Conv2D)            (None, 4, 4, 192)         98496     \n",
            "_________________________________________________________________\n",
            "conv2d_4 (Conv2D)            (None, 4, 4, 192)         147648    \n",
            "_________________________________________________________________\n",
            "batch_normalization_3 (Batch (None, 4, 4, 192)         768       \n",
            "_________________________________________________________________\n",
            "conv2d_5 (Conv2D)            (None, 4, 4, 128)         98432     \n",
            "_________________________________________________________________\n",
            "max_pooling2d_3 (MaxPooling2 (None, 2, 2, 128)         0         \n",
            "_________________________________________________________________\n",
            "flatten_1 (Flatten)          (None, 512)               0         \n",
            "_________________________________________________________________\n",
            "dense_1 (Dense)              (None, 384)               196992    \n",
            "_________________________________________________________________\n",
            "dropout_1 (Dropout)          (None, 384)               0         \n",
            "_________________________________________________________________\n",
            "dense_2 (Dense)              (None, 384)               147840    \n",
            "_________________________________________________________________\n",
            "dropout_2 (Dropout)          (None, 384)               0         \n",
            "_________________________________________________________________\n",
            "batch_normalization_4 (Batch (None, 384)               1536      \n",
            "_________________________________________________________________\n",
            "dense_3 (Dense)              (None, 20)                7700      \n",
            "=================================================================\n",
            "Total params: 807,812\n",
            "Trainable params: 806,308\n",
            "Non-trainable params: 1,504\n",
            "_________________________________________________________________\n"
          ],
          "name": "stdout"
        }
      ]
    },
    {
      "metadata": {
        "id": "Nqd8xak8bjZb",
        "colab_type": "text"
      },
      "cell_type": "markdown",
      "source": [
        "As optimization algorithm we use Adadelta, and as loss function we will try Euclidean Distance and Root Mean Squared Error."
      ]
    },
    {
      "metadata": {
        "id": "E8KjSeIjb0TB",
        "colab_type": "text"
      },
      "cell_type": "markdown",
      "source": [
        "Let's start with a cycle of N_ep epochs:"
      ]
    },
    {
      "metadata": {
        "id": "2FuMZH8pwnQ-",
        "colab_type": "code",
        "colab": {}
      },
      "cell_type": "code",
      "source": [
        "N_ep = 50\n",
        "init_ep = 0 \n",
        "Batchs = 128\n",
        "optimizer = 'adadelta'\n",
        "loss = rmse # euc_loss"
      ],
      "execution_count": 0,
      "outputs": []
    },
    {
      "metadata": {
        "id": "BTg--dQ7643f",
        "colab_type": "code",
        "outputId": "57af4b26-1881-4585-ce29-fc8314dba09a",
        "colab": {
          "base_uri": "https://localhost:8080/",
          "height": 1734
        }
      },
      "cell_type": "code",
      "source": [
        "model.compile(optimizer, loss)\n",
        "history = model.fit(X_train, Y_train, epochs=N_ep, validation_data=(X_val, Y_val), batch_size=Batchs, initial_epoch = init_ep, verbose=1)"
      ],
      "execution_count": 17,
      "outputs": [
        {
          "output_type": "stream",
          "text": [
            "Train on 60000 samples, validate on 20000 samples\n",
            "Epoch 1/50\n",
            "60000/60000 [==============================] - 24s 403us/step - loss: 3.2039 - val_loss: 2.0039\n",
            "Epoch 2/50\n",
            "60000/60000 [==============================] - 19s 310us/step - loss: 1.8710 - val_loss: 1.7280\n",
            "Epoch 3/50\n",
            "60000/60000 [==============================] - 19s 310us/step - loss: 1.6502 - val_loss: 1.5756\n",
            "Epoch 4/50\n",
            "60000/60000 [==============================] - 19s 318us/step - loss: 1.5062 - val_loss: 1.4773\n",
            "Epoch 5/50\n",
            "60000/60000 [==============================] - 19s 319us/step - loss: 1.4089 - val_loss: 1.3246\n",
            "Epoch 6/50\n",
            "60000/60000 [==============================] - 19s 319us/step - loss: 1.3245 - val_loss: 1.2511\n",
            "Epoch 7/50\n",
            "60000/60000 [==============================] - 19s 317us/step - loss: 1.2608 - val_loss: 1.2478\n",
            "Epoch 8/50\n",
            "60000/60000 [==============================] - 19s 316us/step - loss: 1.2063 - val_loss: 1.1876\n",
            "Epoch 9/50\n",
            "60000/60000 [==============================] - 19s 315us/step - loss: 1.1654 - val_loss: 1.1389\n",
            "Epoch 10/50\n",
            "60000/60000 [==============================] - 19s 320us/step - loss: 1.1290 - val_loss: 1.1504\n",
            "Epoch 11/50\n",
            "60000/60000 [==============================] - 19s 317us/step - loss: 1.1006 - val_loss: 1.1312\n",
            "Epoch 12/50\n",
            "60000/60000 [==============================] - 19s 319us/step - loss: 1.0732 - val_loss: 1.0688\n",
            "Epoch 13/50\n",
            "60000/60000 [==============================] - 19s 316us/step - loss: 1.0491 - val_loss: 1.0822\n",
            "Epoch 14/50\n",
            "60000/60000 [==============================] - 19s 321us/step - loss: 1.0316 - val_loss: 1.1774\n",
            "Epoch 15/50\n",
            "60000/60000 [==============================] - 19s 318us/step - loss: 1.0170 - val_loss: 1.0352\n",
            "Epoch 16/50\n",
            "60000/60000 [==============================] - 19s 318us/step - loss: 0.9987 - val_loss: 1.0235\n",
            "Epoch 17/50\n",
            "60000/60000 [==============================] - 19s 315us/step - loss: 0.9801 - val_loss: 1.0237\n",
            "Epoch 18/50\n",
            "60000/60000 [==============================] - 19s 317us/step - loss: 0.9630 - val_loss: 1.0201\n",
            "Epoch 19/50\n",
            "60000/60000 [==============================] - 19s 314us/step - loss: 0.9561 - val_loss: 1.0546\n",
            "Epoch 20/50\n",
            "60000/60000 [==============================] - 19s 315us/step - loss: 0.9438 - val_loss: 0.9908\n",
            "Epoch 21/50\n",
            "60000/60000 [==============================] - 19s 316us/step - loss: 0.9297 - val_loss: 0.9856\n",
            "Epoch 22/50\n",
            "60000/60000 [==============================] - 19s 317us/step - loss: 0.9246 - val_loss: 0.9967\n",
            "Epoch 23/50\n",
            "60000/60000 [==============================] - 19s 316us/step - loss: 0.9171 - val_loss: 1.0296\n",
            "Epoch 24/50\n",
            "60000/60000 [==============================] - 19s 318us/step - loss: 0.9102 - val_loss: 0.9660\n",
            "Epoch 25/50\n",
            "60000/60000 [==============================] - 19s 318us/step - loss: 0.9059 - val_loss: 0.9783\n",
            "Epoch 26/50\n",
            "60000/60000 [==============================] - 19s 315us/step - loss: 0.8929 - val_loss: 0.9931\n",
            "Epoch 27/50\n",
            "60000/60000 [==============================] - 19s 315us/step - loss: 0.8897 - val_loss: 0.9927\n",
            "Epoch 28/50\n",
            "60000/60000 [==============================] - 19s 317us/step - loss: 0.8844 - val_loss: 0.9451\n",
            "Epoch 29/50\n",
            "60000/60000 [==============================] - 19s 317us/step - loss: 0.8771 - val_loss: 0.9601\n",
            "Epoch 30/50\n",
            "60000/60000 [==============================] - 19s 320us/step - loss: 0.8713 - val_loss: 0.9772\n",
            "Epoch 31/50\n",
            "60000/60000 [==============================] - 19s 316us/step - loss: 0.8621 - val_loss: 0.9363\n",
            "Epoch 32/50\n",
            "60000/60000 [==============================] - 19s 323us/step - loss: 0.8609 - val_loss: 0.9385\n",
            "Epoch 33/50\n",
            "60000/60000 [==============================] - 19s 316us/step - loss: 0.8556 - val_loss: 0.9186\n",
            "Epoch 34/50\n",
            "60000/60000 [==============================] - 19s 313us/step - loss: 0.8533 - val_loss: 0.9288\n",
            "Epoch 35/50\n",
            "60000/60000 [==============================] - 19s 314us/step - loss: 0.8481 - val_loss: 0.9220\n",
            "Epoch 36/50\n",
            "60000/60000 [==============================] - 19s 315us/step - loss: 0.8426 - val_loss: 0.9342\n",
            "Epoch 37/50\n",
            "60000/60000 [==============================] - 19s 317us/step - loss: 0.8408 - val_loss: 0.9684\n",
            "Epoch 38/50\n",
            "60000/60000 [==============================] - 19s 316us/step - loss: 0.8354 - val_loss: 0.9477\n",
            "Epoch 39/50\n",
            "60000/60000 [==============================] - 19s 314us/step - loss: 0.8311 - val_loss: 0.9043\n",
            "Epoch 40/50\n",
            "60000/60000 [==============================] - 19s 315us/step - loss: 0.8284 - val_loss: 0.9304\n",
            "Epoch 41/50\n",
            "60000/60000 [==============================] - 19s 314us/step - loss: 0.8270 - val_loss: 0.9088\n",
            "Epoch 42/50\n",
            "60000/60000 [==============================] - 19s 314us/step - loss: 0.8211 - val_loss: 0.9127\n",
            "Epoch 43/50\n",
            "60000/60000 [==============================] - 19s 315us/step - loss: 0.8204 - val_loss: 0.9256\n",
            "Epoch 44/50\n",
            "60000/60000 [==============================] - 19s 317us/step - loss: 0.8201 - val_loss: 0.9017\n",
            "Epoch 45/50\n",
            "60000/60000 [==============================] - 19s 310us/step - loss: 0.8157 - val_loss: 0.9176\n",
            "Epoch 46/50\n",
            "60000/60000 [==============================] - 19s 311us/step - loss: 0.8098 - val_loss: 0.9194\n",
            "Epoch 47/50\n",
            "60000/60000 [==============================] - 19s 317us/step - loss: 0.8066 - val_loss: 0.9075\n",
            "Epoch 48/50\n",
            "60000/60000 [==============================] - 19s 312us/step - loss: 0.8068 - val_loss: 0.8965\n",
            "Epoch 49/50\n",
            "60000/60000 [==============================] - 19s 311us/step - loss: 0.8044 - val_loss: 0.9135\n",
            "Epoch 50/50\n",
            "60000/60000 [==============================] - 19s 312us/step - loss: 0.8057 - val_loss: 0.9055\n"
          ],
          "name": "stdout"
        }
      ]
    },
    {
      "metadata": {
        "id": "hwz09-H-dV7F",
        "colab_type": "text"
      },
      "cell_type": "markdown",
      "source": [
        "##Prediction Analysis\n",
        "We evaluate the results obtained. We use the Test Set for predictions and define a metric, the IoU (Intersection over Union) that supports those we already have for the training phase - the loss error.\n",
        "\n",
        "The Intersection over Union is an incredibly effective measure to understand how much our forecasts approach the correct bounding boxes of the objects in the images. It has values that oscillate between 0 and 1 and the closer they are to 1, the more the area of our predictions approaches that of the correct bounding boxes."
      ]
    },
    {
      "metadata": {
        "id": "yi0BxQcTwO6Z",
        "colab_type": "text"
      },
      "cell_type": "markdown",
      "source": [
        "But first let's take a look at our predictions."
      ]
    },
    {
      "metadata": {
        "id": "p0VX1wHk_fXb",
        "colab_type": "code",
        "colab": {}
      },
      "cell_type": "code",
      "source": [
        "# The predictions of the neural network using our Test set as input\n",
        "pred_bboxes = model.predict(X_test)\n",
        "pred_bboxes = pred_bboxes.reshape(len(pred_bboxes), N_bb, -1)"
      ],
      "execution_count": 0,
      "outputs": []
    },
    {
      "metadata": {
        "id": "6i8uBCM6fy4F",
        "colab_type": "code",
        "outputId": "882b115c-e02c-4d84-a803-82ff2408c4cb",
        "colab": {
          "base_uri": "https://localhost:8080/",
          "height": 34
        }
      },
      "cell_type": "code",
      "source": [
        "# And the expected bboxes of our Test set\n",
        "expe_bboxes = np.float32(Y_test.reshape(dim_test, N_bb, -1))\n",
        "\n",
        "# Their dimension\n",
        "pred_bboxes.shape, expe_bboxes.shape"
      ],
      "execution_count": 22,
      "outputs": [
        {
          "output_type": "execute_result",
          "data": {
            "text/plain": [
              "((20000, 4, 5), (20000, 4, 5))"
            ]
          },
          "metadata": {
            "tags": []
          },
          "execution_count": 22
        }
      ]
    },
    {
      "metadata": {
        "id": "qkrHhPsK_pJu",
        "colab_type": "code",
        "outputId": "b87b12ac-7804-4ef7-f447-0144c89002f8",
        "colab": {
          "base_uri": "https://localhost:8080/",
          "height": 558
        }
      },
      "cell_type": "code",
      "source": [
        "imgTest = (np.reshape(X_test, (dim_test, side_dim, side_dim, 3)) * np.std(imgs)) + np.mean(imgs)\n",
        "\n",
        "# Consider a random image of our Test set\n",
        "im = np.random.randint(dim_test)\n",
        "\n",
        "# We look at the objects contained in it and the bounding boxes predicted by the algorithm\n",
        "print('Test images:', im)\n",
        "visual_example(imgTest[im], side_dim, N_bb, pred_bboxes[im], expe_bboxes[im])"
      ],
      "execution_count": 23,
      "outputs": [
        {
          "output_type": "stream",
          "text": [
            "Test images: 5973\n",
            "Object 1 confidence: 1.0148603\n",
            "----------> B-box IoU: 35.6% <----------\n",
            "B-box coordinates: [8.9 15.2 3.4 6.5]\n",
            "Object coordinates: [10.0 14.0 4.0 7.0]\n",
            "Object 2 confidence: 0.9933963\n",
            "----------> B-box IoU: 88.1% <----------\n",
            "B-box coordinates: [17.0 6.9 5.5 7.0]\n",
            "Object coordinates: [17.0 7.0 6.0 7.0]\n",
            "Object 3 confidence: 1.0161597\n",
            "----------> B-box IoU: 67.6% <----------\n",
            "B-box coordinates: [19.9 3.4 5.3 6.4]\n",
            "Object coordinates: [20.0 2.0 5.0 7.0]\n",
            "Object 4 confidence: 1.0168614\n",
            "----------> B-box IoU: 14.1% <----------\n",
            "B-box coordinates: [7.3 29.1 2.3 2.5]\n",
            "Object coordinates: [9.0 29.0 2.0 2.0]\n"
          ],
          "name": "stdout"
        },
        {
          "output_type": "display_data",
          "data": {
            "image/png": "[encoded data removed]",
            "text/plain": [
              "<matplotlib.figure.Figure at 0x7fb745942f60>"
            ]
          },
          "metadata": {
            "tags": []
          }
        }
      ]
    },
    {
      "metadata": {
        "id": "PVaTaXkm8wet",
        "colab_type": "text"
      },
      "cell_type": "markdown",
      "source": [
        "### Evaluation of results\n",
        "Now we evaluate the results, by calculating the average IoU for predictions on our Test set. \n",
        "The graph below shows the learning curve (Euclidean Distance Loss for training and validation sets) for fifty epochs, with a network of 60 thousand examples using 128 mini-batch size."
      ]
    },
    {
      "metadata": {
        "id": "1xV-rr2gVYL-",
        "colab_type": "code",
        "colab": {
          "base_uri": "https://localhost:8080/",
          "height": 345
        },
        "outputId": "e33b529a-33c6-4ef1-d1d3-1697d4cf7ca4"
      },
      "cell_type": "code",
      "source": [
        "m_iou = mean_IoU(expe_bboxes, pred_bboxes)\n",
        "visual_metric(train_ex, m_iou, N_ep, Batchs, history.history, 'loss')"
      ],
      "execution_count": 29,
      "outputs": [
        {
          "output_type": "stream",
          "text": [
            "----> Datatset IoU: 54.894983%\n",
            "      Dim. train: 60000 examples\n",
            "      Epochs: 50 - mini-batches: 128\n"
          ],
          "name": "stdout"
        },
        {
          "output_type": "display_data",
          "data": {
            "image/png": "[encoded data removed]",
            "text/plain": [
              "<matplotlib.figure.Figure at 0x7f085b10aeb8>"
            ]
          },
          "metadata": {
            "tags": []
          }
        }
      ]
    },
    {
      "metadata": {
        "id": "0xfpbW6S-TKF",
        "colab_type": "text"
      },
      "cell_type": "markdown",
      "source": [
        "Below the same network with the same training set, only changing the loss function: we use now Root Mean Square Error (Rmse)."
      ]
    },
    {
      "metadata": {
        "id": "3wOBsyoNa6nI",
        "colab_type": "code",
        "colab": {
          "base_uri": "https://localhost:8080/",
          "height": 345
        },
        "outputId": "effd5b72-66db-47f2-b601-4218e33f2675"
      },
      "cell_type": "code",
      "source": [
        "m_iou = mean_IoU(expe_bboxes, pred_bboxes)\n",
        "visual_metric(train_ex, m_iou, N_ep, Batchs, history.history, 'loss')"
      ],
      "execution_count": 24,
      "outputs": [
        {
          "output_type": "stream",
          "text": [
            "----> Datatset IoU: 55.775815%\n",
            "      Dim. train: 60000 examples\n",
            "      Epochs: 50 - mini-batches: 128\n"
          ],
          "name": "stdout"
        },
        {
          "output_type": "display_data",
          "data": {
            "image/png": "[encoded data removed]",
            "text/plain": [
              "<matplotlib.figure.Figure at 0x7fb7465a1c50>"
            ]
          },
          "metadata": {
            "tags": []
          }
        }
      ]
    },
    {
      "metadata": {
        "id": "YoS086OcO7hN",
        "colab_type": "text"
      },
      "cell_type": "markdown",
      "source": [
        "The new error function provides better results, not only the IoU of the Test set improves by almost one point, but also the trend of our curves shows a smaller deviation between the loss of the training set and the validation set.\n",
        "\n",
        "Let's try to go on with the training for another 25 epochs."
      ]
    },
    {
      "metadata": {
        "id": "iDenAF5Q4Xig",
        "colab_type": "code",
        "colab": {}
      },
      "cell_type": "code",
      "source": [
        "vl = history.history['val_loss']\n",
        "tl = history.history['loss']"
      ],
      "execution_count": 0,
      "outputs": []
    },
    {
      "metadata": {
        "id": "F4wKMW6SKSa_",
        "colab_type": "code",
        "colab": {}
      },
      "cell_type": "code",
      "source": [
        "N_ep = 75\n",
        "init_ep = 50 \n",
        "Batchs = 128\n",
        "optimizer = 'adadelta'\n",
        "loss = rmse # euc_los"
      ],
      "execution_count": 0,
      "outputs": []
    },
    {
      "metadata": {
        "id": "bp28gvx5KYOR",
        "colab_type": "code",
        "colab": {
          "base_uri": "https://localhost:8080/",
          "height": 884
        },
        "outputId": "1517f4a7-af27-4fb8-c6b9-d72dcfcf0241"
      },
      "cell_type": "code",
      "source": [
        "model.compile(optimizer, loss)\n",
        "history = model.fit(X_train, Y_train, epochs=N_ep, validation_data=(X_val, Y_val), batch_size=Batchs, initial_epoch = init_ep, verbose=1)"
      ],
      "execution_count": 27,
      "outputs": [
        {
          "output_type": "stream",
          "text": [
            "Train on 60000 samples, validate on 20000 samples\n",
            "Epoch 51/75\n",
            "60000/60000 [==============================] - 20s 327us/step - loss: 0.8001 - val_loss: 0.8838\n",
            "Epoch 52/75\n",
            "60000/60000 [==============================] - 18s 294us/step - loss: 0.7959 - val_loss: 0.9022\n",
            "Epoch 53/75\n",
            "60000/60000 [==============================] - 18s 299us/step - loss: 0.7985 - val_loss: 0.8997\n",
            "Epoch 54/75\n",
            "60000/60000 [==============================] - 18s 293us/step - loss: 0.7913 - val_loss: 0.9016\n",
            "Epoch 55/75\n",
            "60000/60000 [==============================] - 18s 292us/step - loss: 0.7919 - val_loss: 0.8828\n",
            "Epoch 56/75\n",
            "60000/60000 [==============================] - 17s 289us/step - loss: 0.7934 - val_loss: 0.8993\n",
            "Epoch 57/75\n",
            "60000/60000 [==============================] - 17s 291us/step - loss: 0.7867 - val_loss: 0.9023\n",
            "Epoch 58/75\n",
            "60000/60000 [==============================] - 18s 293us/step - loss: 0.7839 - val_loss: 0.8832\n",
            "Epoch 59/75\n",
            "60000/60000 [==============================] - 18s 293us/step - loss: 0.7852 - val_loss: 0.9117\n",
            "Epoch 60/75\n",
            "60000/60000 [==============================] - 17s 289us/step - loss: 0.7806 - val_loss: 0.9000\n",
            "Epoch 61/75\n",
            "60000/60000 [==============================] - 17s 291us/step - loss: 0.7758 - val_loss: 0.9219\n",
            "Epoch 62/75\n",
            "60000/60000 [==============================] - 17s 288us/step - loss: 0.7809 - val_loss: 0.8797\n",
            "Epoch 63/75\n",
            "60000/60000 [==============================] - 17s 289us/step - loss: 0.7809 - val_loss: 0.9079\n",
            "Epoch 64/75\n",
            "60000/60000 [==============================] - 17s 291us/step - loss: 0.7789 - val_loss: 0.8985\n",
            "Epoch 65/75\n",
            "60000/60000 [==============================] - 17s 289us/step - loss: 0.7789 - val_loss: 0.8924\n",
            "Epoch 66/75\n",
            "60000/60000 [==============================] - 17s 290us/step - loss: 0.7756 - val_loss: 0.8858\n",
            "Epoch 67/75\n",
            "60000/60000 [==============================] - 17s 291us/step - loss: 0.7700 - val_loss: 0.8946\n",
            "Epoch 68/75\n",
            "60000/60000 [==============================] - 18s 293us/step - loss: 0.7732 - val_loss: 0.8984\n",
            "Epoch 69/75\n",
            "60000/60000 [==============================] - 19s 312us/step - loss: 0.7677 - val_loss: 0.8836\n",
            "Epoch 70/75\n",
            "60000/60000 [==============================] - 19s 315us/step - loss: 0.7669 - val_loss: 0.8833\n",
            "Epoch 71/75\n",
            "60000/60000 [==============================] - 19s 318us/step - loss: 0.7737 - val_loss: 0.8771\n",
            "Epoch 72/75\n",
            "60000/60000 [==============================] - 19s 315us/step - loss: 0.7633 - val_loss: 0.8817\n",
            "Epoch 73/75\n",
            "60000/60000 [==============================] - 19s 314us/step - loss: 0.7612 - val_loss: 0.8811\n",
            "Epoch 74/75\n",
            "60000/60000 [==============================] - 19s 317us/step - loss: 0.7616 - val_loss: 0.8802\n",
            "Epoch 75/75\n",
            "60000/60000 [==============================] - 19s 316us/step - loss: 0.7629 - val_loss: 0.8963\n"
          ],
          "name": "stdout"
        }
      ]
    },
    {
      "metadata": {
        "id": "hDq8IdTjKcY1",
        "colab_type": "code",
        "colab": {}
      },
      "cell_type": "code",
      "source": [
        "# The predictions of the neural network using our Test set as input\n",
        "pred_bboxes = model.predict(X_test)\n",
        "pred_bboxes = pred_bboxes.reshape(len(pred_bboxes), N_bb, -1)"
      ],
      "execution_count": 0,
      "outputs": []
    },
    {
      "metadata": {
        "id": "4bEhR6qOKqkz",
        "colab_type": "code",
        "colab": {
          "base_uri": "https://localhost:8080/",
          "height": 345
        },
        "outputId": "1abd510b-4be4-4dc0-f194-5fb104598796"
      },
      "cell_type": "code",
      "source": [
        "vl += history.history['val_loss']\n",
        "tl += history.history['loss']\n",
        "hist = {'val_loss': vl, 'loss': tl}\n",
        "m_iou = mean_IoU(expe_bboxes, pred_bboxes)\n",
        "visual_metric(train_ex, m_iou, N_ep, Batchs, hist, 'loss')"
      ],
      "execution_count": 30,
      "outputs": [
        {
          "output_type": "stream",
          "text": [
            "----> Datatset IoU: 57.535059%\n",
            "      Dim. train: 60000 examples\n",
            "      Epochs: 75 - mini-batches: 128\n"
          ],
          "name": "stdout"
        },
        {
          "output_type": "display_data",
          "data": {
            "image/png": "[encoded data removed]",
            "text/plain": [
              "<matplotlib.figure.Figure at 0x7fb742d70be0>"
            ]
          },
          "metadata": {
            "tags": []
          }
        }
      ]
    },
    {
      "metadata": {
        "id": "s_97lpyPPz8i",
        "colab_type": "text"
      },
      "cell_type": "markdown",
      "source": [
        "The algorithm continues to learn, our overall IoU reaches over 57 points. \n",
        "\n",
        "And even if only slightly, the errors measured by the loss function continue to fall. Let's go on for another 25 times."
      ]
    },
    {
      "metadata": {
        "id": "4zWRaUpgCrOP",
        "colab_type": "code",
        "colab": {}
      },
      "cell_type": "code",
      "source": [
        "N_ep = 100\n",
        "init_ep = 75 \n",
        "Batchs = 128\n",
        "optimizer = 'adadelta'\n",
        "loss = rmse # euc_los"
      ],
      "execution_count": 0,
      "outputs": []
    },
    {
      "metadata": {
        "id": "DoErgUCiCtj2",
        "colab_type": "code",
        "colab": {
          "base_uri": "https://localhost:8080/",
          "height": 884
        },
        "outputId": "e4d6733e-47e9-4880-fea7-48e2b1e138d1"
      },
      "cell_type": "code",
      "source": [
        "model.compile(optimizer, loss)\n",
        "history = model.fit(X_train, Y_train, epochs=N_ep, validation_data=(X_val, Y_val), batch_size=Batchs, initial_epoch = init_ep, verbose=1)"
      ],
      "execution_count": 32,
      "outputs": [
        {
          "output_type": "stream",
          "text": [
            "Train on 60000 samples, validate on 20000 samples\n",
            "Epoch 76/100\n",
            "60000/60000 [==============================] - 20s 328us/step - loss: 0.7580 - val_loss: 0.8769\n",
            "Epoch 77/100\n",
            "60000/60000 [==============================] - 18s 298us/step - loss: 0.7602 - val_loss: 0.8838\n",
            "Epoch 78/100\n",
            "60000/60000 [==============================] - 18s 298us/step - loss: 0.7594 - val_loss: 0.8718\n",
            "Epoch 79/100\n",
            "60000/60000 [==============================] - 18s 295us/step - loss: 0.7578 - val_loss: 0.8763\n",
            "Epoch 80/100\n",
            "60000/60000 [==============================] - 18s 297us/step - loss: 0.7514 - val_loss: 0.8727\n",
            "Epoch 81/100\n",
            "60000/60000 [==============================] - 18s 297us/step - loss: 0.7560 - val_loss: 0.9070\n",
            "Epoch 82/100\n",
            "60000/60000 [==============================] - 18s 296us/step - loss: 0.7544 - val_loss: 0.8796\n",
            "Epoch 83/100\n",
            "60000/60000 [==============================] - 18s 296us/step - loss: 0.7526 - val_loss: 0.8757\n",
            "Epoch 84/100\n",
            "60000/60000 [==============================] - 18s 298us/step - loss: 0.7543 - val_loss: 0.8733\n",
            "Epoch 85/100\n",
            "60000/60000 [==============================] - 16s 274us/step - loss: 0.7499 - val_loss: 0.8841\n",
            "Epoch 86/100\n",
            "60000/60000 [==============================] - 17s 279us/step - loss: 0.7501 - val_loss: 0.8903\n",
            "Epoch 87/100\n",
            "60000/60000 [==============================] - 17s 285us/step - loss: 0.7490 - val_loss: 0.8891\n",
            "Epoch 88/100\n",
            "60000/60000 [==============================] - 18s 292us/step - loss: 0.7456 - val_loss: 0.8791\n",
            "Epoch 89/100\n",
            "60000/60000 [==============================] - 18s 308us/step - loss: 0.7464 - val_loss: 0.8994\n",
            "Epoch 90/100\n",
            "60000/60000 [==============================] - 19s 309us/step - loss: 0.7473 - val_loss: 0.8717\n",
            "Epoch 91/100\n",
            "60000/60000 [==============================] - 18s 303us/step - loss: 0.7411 - val_loss: 0.8864\n",
            "Epoch 92/100\n",
            "60000/60000 [==============================] - 18s 302us/step - loss: 0.7473 - val_loss: 0.8746\n",
            "Epoch 93/100\n",
            "60000/60000 [==============================] - 19s 314us/step - loss: 0.7400 - val_loss: 0.8929\n",
            "Epoch 94/100\n",
            "60000/60000 [==============================] - 19s 316us/step - loss: 0.7457 - val_loss: 0.8851\n",
            "Epoch 95/100\n",
            "60000/60000 [==============================] - 19s 314us/step - loss: 0.7428 - val_loss: 0.8878\n",
            "Epoch 96/100\n",
            "60000/60000 [==============================] - 19s 314us/step - loss: 0.7428 - val_loss: 0.8958\n",
            "Epoch 97/100\n",
            "60000/60000 [==============================] - 19s 316us/step - loss: 0.7424 - val_loss: 0.8826\n",
            "Epoch 98/100\n",
            "60000/60000 [==============================] - 19s 318us/step - loss: 0.7385 - val_loss: 0.9069\n",
            "Epoch 99/100\n",
            "60000/60000 [==============================] - 19s 315us/step - loss: 0.7346 - val_loss: 0.8820\n",
            "Epoch 100/100\n",
            "60000/60000 [==============================] - 19s 316us/step - loss: 0.7396 - val_loss: 0.8804\n"
          ],
          "name": "stdout"
        }
      ]
    },
    {
      "metadata": {
        "id": "xJ3hEVfQCzar",
        "colab_type": "code",
        "colab": {}
      },
      "cell_type": "code",
      "source": [
        "# The predictions of the neural network using our Test set as input\n",
        "pred_bboxes = model.predict(X_test)\n",
        "pred_bboxes = pred_bboxes.reshape(len(pred_bboxes), N_bb, -1)"
      ],
      "execution_count": 0,
      "outputs": []
    },
    {
      "metadata": {
        "id": "GIh_-X-eC1BG",
        "colab_type": "code",
        "colab": {
          "base_uri": "https://localhost:8080/",
          "height": 345
        },
        "outputId": "6f0d4fad-d9b0-4393-8f5c-22f5ea36200c"
      },
      "cell_type": "code",
      "source": [
        "vl += history.history['val_loss']\n",
        "tl += history.history['loss']\n",
        "hist = {'val_loss': vl, 'loss': tl}\n",
        "m_iou = mean_IoU(expe_bboxes, pred_bboxes)\n",
        "visual_metric(train_ex, m_iou, N_ep, Batchs, hist, 'loss')"
      ],
      "execution_count": 34,
      "outputs": [
        {
          "output_type": "stream",
          "text": [
            "----> Datatset IoU: 57.675936%\n",
            "      Dim. train: 60000 examples\n",
            "      Epochs: 100 - mini-batches: 128\n"
          ],
          "name": "stdout"
        },
        {
          "output_type": "display_data",
          "data": {
            "image/png": "[encoded data removed]",
            "text/plain": [
              "<matplotlib.figure.Figure at 0x7fb742d88240>"
            ]
          },
          "metadata": {
            "tags": []
          }
        }
      ]
    },
    {
      "metadata": {
        "id": "FE_7tyifk3-Y",
        "colab_type": "text"
      },
      "cell_type": "markdown",
      "source": [
        "## Some conclusion\n",
        "With some tricks we have greatly improved the performance of our model. First of all, we have increased the depth of the network by taking inspiration from [AlexNet](https://en.wikipedia.org/wiki/AlexNet). Secondly, we tried two different metrics for our loss function (Euclidean distance and Root Mean Squared Error) and finally opted for Rmse. The global set-point IoU has exceeded 57 points after 75 epochs, but has not been shown to improve a lot more further over the next 25 epochs."
      ]
    }
  ]
}
