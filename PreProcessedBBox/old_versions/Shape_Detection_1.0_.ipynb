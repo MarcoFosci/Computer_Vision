{
  "nbformat": 4,
  "nbformat_minor": 0,
  "metadata": {
    "colab": {
      "name": "Shape_Detection_1.0.ipynb",
      "version": "0.3.2",
      "provenance": [],
      "toc_visible": true
    },
    "kernelspec": {
      "name": "python3",
      "display_name": "Python 3"
    },
    "accelerator": "GPU"
  },
  "cells": [
    {
      "metadata": {
        "id": "Qncfh05ySrQf",
        "colab_type": "text"
      },
      "cell_type": "markdown",
      "source": [
        "# Object detection in images \n",
        "\n",
        "(tags: CNN, Object detection)\n",
        "\n",
        "This work was inspired by [Johannes Rieke article on Medium](https://towardsdatascience.com/object-detection-with-neural-networks-a4e2c46b4491) and by [Andrew Ng's Specialization Course on Deep Learning](https://www.coursera.org/specializations/deep-learning).\n",
        "\n",
        "Rieke's work is interesting for the simplicity with which he creates a trainingset for our purpose - that is, developing bounding boxes that identify particular objects in an image. I dedicate myself in particular to the identification of several objects in the same image.\n",
        "\n",
        "Rieke highlights a big risk: in the identification of N objects, the neural network ends up with not specializing and instead it develops 'average' bounding boxes - more or less equal - useless for our purpose. To solve this problem he proposes an algorithm for swapping the example's targets label between one epoch and another. A mechanism that did not convince me for two reasons:\n",
        "\n",
        "- it considerably weighs the algorithm on a computational level (at the end of epoch the predictions of the network with the target values are compared).\n",
        "- in the tests I did I could not get out of a sort of perpetual oscillation and at every epoch the percentage of swaps remained almost unchanged.\n",
        "\n",
        "Conceptually starting from the work of Rieke I propose a solution that makes clear the importance of a preprocessing of our dataset. In fact, I create an order in the target values of our trainingset. I take as reference point the distance from one of the edges of the image (the origin in a coordinate system). \n",
        "\n",
        "As you can see it is an elegant solution that solves the problem upstream. Later I dedicate myself to improving the efficiency of the neural network.\n",
        "\n"
      ]
    },
    {
      "metadata": {
        "id": "uLnCJvC2Sis8",
        "colab_type": "code",
        "colab": {}
      },
      "cell_type": "code",
      "source": [
        "import numpy as np\n",
        "import matplotlib.pyplot as plt\n",
        "import matplotlib.patches as patches\n",
        "import cv2\n",
        "import tensorflow as tf\n",
        "from keras.models import Sequential\n",
        "from keras.layers import Conv2D, MaxPooling2D, Dense, Dropout, Flatten, Input\n",
        "from keras import optimizers\n",
        "\n",
        "%matplotlib inline"
      ],
      "execution_count": 0,
      "outputs": []
    },
    {
      "metadata": {
        "id": "9FyhER8HdAUz",
        "colab_type": "text"
      },
      "cell_type": "markdown",
      "source": [
        "We create a simple image dataset. Each image will have a maximum size of 32x32 and will contain up to a maximum of N_bb objects (rectangles) with different shades of color. Their size will vary between a minimum of 1x1 and a maximum of 8x8. [To implement : If the color gradation (0-255) is less than or greater than a certain threshold (in our case <64), the object must not be detected.]\n",
        "\n",
        "At the same time we define our bounding boxes. We will use 5 coordinates: a 'Pc', which indicates the percentage of confidence in the presence of an object; 'x' and 'y', for the spatial position of the top-left vertex and 'w' and 'h' for the extension (width and height)."
      ]
    },
    {
      "metadata": {
        "id": "LEhGGX-QS4SO",
        "colab_type": "code",
        "colab": {}
      },
      "cell_type": "code",
      "source": [
        "N_imgs = 12500\n",
        "\n",
        "# imagines side dimension\n",
        "side_dim = 32 # 24\n",
        "\n",
        "# objects min/max side dimensions\n",
        "obj_min_dim = 2\n",
        "obj_max_dim = 8 \n",
        "\n",
        "# number of objects\n",
        "N_bb = 4 # 4\n",
        "\n",
        "# color thresholds\n",
        "min_threshold = 0\n",
        "max_threshold = 124\n",
        "\n",
        "# confidence threshold\n",
        "Pc_th = .0\n",
        "\n",
        "# inizialization of images with a light gray color (just for aesthetic reasons)\n",
        "imgs = np.ones((N_imgs, side_dim, side_dim,3)) * .9 \n",
        "\n",
        "# inizialization of bounding boxes\n",
        "bounding_boxes = np.zeros((N_imgs, N_bb, 5))\n"
      ],
      "execution_count": 0,
      "outputs": []
    },
    {
      "metadata": {
        "id": "5Wf9nUblxQuK",
        "colab_type": "code",
        "colab": {}
      },
      "cell_type": "code",
      "source": [
        "# inizialization of origin distance array\n",
        "distance = np.zeros((N_imgs, N_bb))\n",
        "\n",
        "# creation of objects in images and relative bounding boxes\n",
        "\n",
        "for N_img in range(N_imgs):\n",
        "    for i_ogg in range(N_bb):\n",
        "        w = np.random.randint(obj_min_dim, obj_max_dim)\n",
        "        h = np.random.randint(obj_min_dim, obj_max_dim)\n",
        "        x = np.random.randint(0, side_dim - w)\n",
        "        y = np.random.randint(0, side_dim - h)\n",
        "          \n",
        "        R = (np.random.randint(min_threshold, max_threshold)) / 255\n",
        "        G = (np.random.randint(min_threshold, max_threshold)) / 255\n",
        "        B = (np.random.randint(min_threshold, max_threshold)) / 255\n",
        "        \n",
        "        imgs[N_img, y:y+h, x:x+w, 0] = R \n",
        "        imgs[N_img, y:y+h, x:x+w, 1] = G \n",
        "        imgs[N_img, y:y+h, x:x+w, 2] = B \n",
        "        \n",
        "\n",
        "        Pc = 1. # for the moment we use for all target value Pc = 1\n",
        "        bounding_boxes[N_img, i_ogg] = [Pc, x, y, w, h]   \n",
        "        \n",
        "        # we calculate the distance from the origin for each Bounding Box\n",
        "        distance[N_img, i_ogg] = np.sqrt(np.square(x+(w/2))+ np.square(y+(h/2)))\n"
      ],
      "execution_count": 0,
      "outputs": []
    },
    {
      "metadata": {
        "id": "TGK4cCnHlJ2G",
        "colab_type": "text"
      },
      "cell_type": "markdown",
      "source": [
        "## Observation and pre-processing\n",
        "First we analyze our datasets and start preprocessing them"
      ]
    },
    {
      "metadata": {
        "id": "jUY7g8MIlfpG",
        "colab_type": "code",
        "outputId": "5b08a16d-f728-4c77-9a28-fccd8cc73400",
        "colab": {
          "base_uri": "https://localhost:8080/",
          "height": 68
        }
      },
      "cell_type": "code",
      "source": [
        "# Let's look at the size of the Numpy arrays for images and bboxes \n",
        "print('Dimension of images array:', imgs.shape)\n",
        "print('Dimension of BBoxes array:', bounding_boxes.shape)\n",
        "print('Dimension of distance array:', distance.shape)"
      ],
      "execution_count": 4,
      "outputs": [
        {
          "output_type": "stream",
          "text": [
            "Dimension of images array: (12500, 32, 32, 3)\n",
            "Dimension of BBoxes array: (12500, 4, 5)\n",
            "Dimension of distance array: (12500, 4)\n"
          ],
          "name": "stdout"
        }
      ]
    },
    {
      "metadata": {
        "id": "fPeK79wgVDXu",
        "colab_type": "code",
        "outputId": "29c465ff-a29e-4f2e-a2e3-ed630b7dc257",
        "colab": {
          "base_uri": "https://localhost:8080/",
          "height": 286
        }
      },
      "cell_type": "code",
      "source": [
        "# We take a random image of our training set\n",
        "im = np.random.randint(N_imgs)\n",
        "print('Imagine n.', im)\n",
        "\n",
        "# Let's look the objects contained in it...\n",
        "fig, ax = plt.subplots(1)\n",
        "ax.imshow(imgs[im], origin = 'upper', interpolation = 'quadric', extent=[0, side_dim, side_dim, 0])\n",
        "\n",
        "# ...and the corresponding bounding boxes\n",
        "for i in range (N_bb):\n",
        "  [Pc, x, y, w, h] = bounding_boxes[im, i]\n",
        "\n",
        "# we consider only a percentage of confidence above the Pc_th\n",
        "# (in our datasets we have Pc with values 0 or 1) but later\n",
        "# Pc will assume probabilistic values between 0 and 1\n",
        "  if Pc >= Pc_th:\n",
        "    rect = patches.Rectangle((x, y) , w, h, ec='r', lw='1.6', fc='none')\n",
        "    ax.add_patch(rect)\n",
        "\n",
        "plt.show()"
      ],
      "execution_count": 5,
      "outputs": [
        {
          "output_type": "stream",
          "text": [
            "Imagine n. 11312\n"
          ],
          "name": "stdout"
        },
        {
          "output_type": "display_data",
          "data": {
            "image/png": "[encoded data removed]",
            "text/plain": [
              "<matplotlib.figure.Figure at 0x7f421ace7eb8>"
            ]
          },
          "metadata": {
            "tags": []
          }
        }
      ]
    },
    {
      "metadata": {
        "id": "b0idcZGhsjXG",
        "colab_type": "code",
        "outputId": "bb5e9a92-223e-42d0-d494-f9336a039467",
        "colab": {
          "base_uri": "https://localhost:8080/",
          "height": 269
        }
      },
      "cell_type": "code",
      "source": [
        "# We look at the image again, this time highlighting the distance of the objects from the origin ...\n",
        "fig, ax = plt.subplots(1)\n",
        "\n",
        "ax.imshow(imgs[im], origin = 'upper', interpolation = 'hanning', extent=[0, side_dim, side_dim, 0])\n",
        "\n",
        "for i in range (N_bb):\n",
        "  [Pc, x, y, w, h] = bounding_boxes[im, i]\n",
        "\n",
        "  if Pc >= Pc_th:\n",
        "    line = patches.Arrow(0, 0, x+(w/2), y+(h/2), .2, ec='r') \n",
        "    ax.add_patch(line)\n",
        "    dida = 'dist: ' + '{:0.1f}'.format(distance[im,i])\n",
        "    plt.annotate(dida, (x + w + 0.8 , y - 0.8), color='r')\n",
        "\n",
        "plt.show()"
      ],
      "execution_count": 6,
      "outputs": [
        {
          "output_type": "display_data",
          "data": {
            "image/png": "[encoded data removed]",
            "text/plain": [
              "<matplotlib.figure.Figure at 0x7f421ad08860>"
            ]
          },
          "metadata": {
            "tags": []
          }
        }
      ]
    },
    {
      "metadata": {
        "id": "3ZmynTypGD2p",
        "colab_type": "text"
      },
      "cell_type": "markdown",
      "source": [
        "We rearrange the bounding boxes based on the distance from the origin of the objects"
      ]
    },
    {
      "metadata": {
        "id": "5gBRsop_d6t1",
        "colab_type": "code",
        "colab": {}
      },
      "cell_type": "code",
      "source": [
        "order = np.zeros((N_imgs, N_bb), dtype=int)\n",
        "bboxes = np.zeros(bounding_boxes.shape)\n",
        "\n",
        "for i in range(N_imgs):\n",
        "  order[i] = np.argsort(distance[i]) \n",
        "  for j in range(N_bb):\n",
        "    bboxes[i,j] = (bounding_boxes[i, order[i,j]])"
      ],
      "execution_count": 0,
      "outputs": []
    },
    {
      "metadata": {
        "id": "FVTByunkgLCA",
        "colab_type": "text"
      },
      "cell_type": "markdown",
      "source": [
        "Let's start thinking in terms of Machine Learning. \n",
        "So we normalize the pixel values contained in our images to have values between -1 and 1 and transfer them to the input X values."
      ]
    },
    {
      "metadata": {
        "id": "YSkMI1oUc0A-",
        "colab_type": "code",
        "outputId": "f4c246da-3234-4cbb-903c-3b0e77986692",
        "colab": {
          "base_uri": "https://localhost:8080/",
          "height": 51
        }
      },
      "cell_type": "code",
      "source": [
        "X = (imgs - np.mean(imgs)) / np.std(imgs)\n",
        "print(X.shape, np.mean(imgs), np.std(imgs))\n",
        "\n",
        "# We also reshape our target Y \n",
        "Y = bboxes.reshape(N_imgs, -1) \n",
        "print(Y.shape)"
      ],
      "execution_count": 9,
      "outputs": [
        {
          "output_type": "stream",
          "text": [
            "(12500, 32, 32, 3) 0.8497801456290865 0.17905427436049365\n",
            "(12500, 20)\n"
          ],
          "name": "stdout"
        }
      ]
    },
    {
      "metadata": {
        "id": "TZQ-YIJYHDGr",
        "colab_type": "text"
      },
      "cell_type": "markdown",
      "source": [
        "Below we see an example of our X values"
      ]
    },
    {
      "metadata": {
        "id": "fkQt2zrRp1Hz",
        "colab_type": "code",
        "outputId": "d8127ff1-1794-4c14-c0c0-cbd472273058",
        "colab": {
          "base_uri": "https://localhost:8080/",
          "height": 918
        }
      },
      "cell_type": "code",
      "source": [
        "print('Images example', im, 'has shape:\\n', X[im].shape, '\\n')\n",
        "print('And this is its values:\\n', X[im])"
      ],
      "execution_count": 10,
      "outputs": [
        {
          "output_type": "stream",
          "text": [
            "Images example 11312 has shape:\n",
            " (32, 32, 3) \n",
            "\n",
            "And this is its values:\n",
            " [[[0.2804728 0.2804728 0.2804728]\n",
            "  [0.2804728 0.2804728 0.2804728]\n",
            "  [0.2804728 0.2804728 0.2804728]\n",
            "  ...\n",
            "  [0.2804728 0.2804728 0.2804728]\n",
            "  [0.2804728 0.2804728 0.2804728]\n",
            "  [0.2804728 0.2804728 0.2804728]]\n",
            "\n",
            " [[0.2804728 0.2804728 0.2804728]\n",
            "  [0.2804728 0.2804728 0.2804728]\n",
            "  [0.2804728 0.2804728 0.2804728]\n",
            "  ...\n",
            "  [0.2804728 0.2804728 0.2804728]\n",
            "  [0.2804728 0.2804728 0.2804728]\n",
            "  [0.2804728 0.2804728 0.2804728]]\n",
            "\n",
            " [[0.2804728 0.2804728 0.2804728]\n",
            "  [0.2804728 0.2804728 0.2804728]\n",
            "  [0.2804728 0.2804728 0.2804728]\n",
            "  ...\n",
            "  [0.2804728 0.2804728 0.2804728]\n",
            "  [0.2804728 0.2804728 0.2804728]\n",
            "  [0.2804728 0.2804728 0.2804728]]\n",
            "\n",
            " ...\n",
            "\n",
            " [[0.2804728 0.2804728 0.2804728]\n",
            "  [0.2804728 0.2804728 0.2804728]\n",
            "  [0.2804728 0.2804728 0.2804728]\n",
            "  ...\n",
            "  [0.2804728 0.2804728 0.2804728]\n",
            "  [0.2804728 0.2804728 0.2804728]\n",
            "  [0.2804728 0.2804728 0.2804728]]\n",
            "\n",
            " [[0.2804728 0.2804728 0.2804728]\n",
            "  [0.2804728 0.2804728 0.2804728]\n",
            "  [0.2804728 0.2804728 0.2804728]\n",
            "  ...\n",
            "  [0.2804728 0.2804728 0.2804728]\n",
            "  [0.2804728 0.2804728 0.2804728]\n",
            "  [0.2804728 0.2804728 0.2804728]]\n",
            "\n",
            " [[0.2804728 0.2804728 0.2804728]\n",
            "  [0.2804728 0.2804728 0.2804728]\n",
            "  [0.2804728 0.2804728 0.2804728]\n",
            "  ...\n",
            "  [0.2804728 0.2804728 0.2804728]\n",
            "  [0.2804728 0.2804728 0.2804728]\n",
            "  [0.2804728 0.2804728 0.2804728]]]\n"
          ],
          "name": "stdout"
        }
      ]
    },
    {
      "metadata": {
        "id": "NMDsjFW6HGpP",
        "colab_type": "text"
      },
      "cell_type": "markdown",
      "source": [
        "And then we observe one of our Y target values"
      ]
    },
    {
      "metadata": {
        "id": "aH2NUIkQHGbS",
        "colab_type": "code",
        "outputId": "e1d78846-b4d4-45aa-8d22-8ffd632d33b8",
        "colab": {
          "base_uri": "https://localhost:8080/",
          "height": 68
        }
      },
      "cell_type": "code",
      "source": [
        "print('...and the target values Y are:\\n', Y[im])"
      ],
      "execution_count": 11,
      "outputs": [
        {
          "output_type": "stream",
          "text": [
            "...and the target values Y are:\n",
            " [ 1.  1.  9.  6.  4.  1.  4. 16.  2.  3.  1. 10. 19.  4.  2.  1. 23.  9.\n",
            "  4.  2.]\n"
          ],
          "name": "stdout"
        }
      ]
    },
    {
      "metadata": {
        "id": "4CDu5pmrnQ8h",
        "colab_type": "text"
      },
      "cell_type": "markdown",
      "source": [
        "We have a homogeneous dataset of the N_imgs elements that we now share in Training set, Validation set, and Test set in relation 80%, 10%, 10%."
      ]
    },
    {
      "metadata": {
        "id": "Z9_AAOlaXGsU",
        "colab_type": "code",
        "outputId": "4b51c44a-b72f-4188-deca-819cbc76f47c",
        "colab": {
          "base_uri": "https://localhost:8080/",
          "height": 68
        }
      },
      "cell_type": "code",
      "source": [
        "i = int(0.8 * N_imgs)\n",
        "j = int(0.1 * N_imgs)\n",
        "\n",
        "X_train = X[:i]\n",
        "Y_train = Y[:i]\n",
        "train_ex = X_train.shape[0]\n",
        "\n",
        "X_val = X[i:i+j]\n",
        "Y_val = Y[i:i+j]\n",
        "val_ex = X_val.shape[0]\n",
        "\n",
        "X_test = X[i+j:]\n",
        "Y_test = Y[i+j:]\n",
        "test_ex = X_test.shape[0]\n",
        "\n",
        "dim_test = j # useful for the future \n",
        "\n",
        "print('Below the dimensions of X and Y for Training set, Validation set, and Test set respectively\\n')\n",
        "print(X_train.shape, Y_train.shape, X_val.shape, Y_val.shape, X_test.shape, Y_test.shape)"
      ],
      "execution_count": 12,
      "outputs": [
        {
          "output_type": "stream",
          "text": [
            "Below the dimensions of X and Y for Training set, Validation set, and Test set respectively\n",
            "\n",
            "(10000, 32, 32, 3) (10000, 20) (1250, 32, 32, 3) (1250, 20) (1250, 32, 32, 3) (1250, 20)\n"
          ],
          "name": "stdout"
        }
      ]
    },
    {
      "metadata": {
        "id": "DD5di2m3ZkR1",
        "colab_type": "text"
      },
      "cell_type": "markdown",
      "source": [
        "## The Neural Network\n",
        "As always suggested by Andrew Ng, we create a model as quickly as possible to get a benchmark - and then borrow the model used by Rieke. The model, is inspired by other detection algorithms and uses three pairs of CNN-MaxPooling layers followed by two fully connected layers, for a total of about 460 thousand parameters."
      ]
    },
    {
      "metadata": {
        "id": "qij_SpFYmFXt",
        "colab_type": "code",
        "outputId": "fc34e5ef-051f-47b1-a43c-2c1aa78ef157",
        "colab": {
          "base_uri": "https://localhost:8080/",
          "height": 510
        }
      },
      "cell_type": "code",
      "source": [
        "model = Sequential()\n",
        "model.add(Conv2D(48, kernel_size=(8, 8), strides=2, padding='same', activation='relu', input_shape=(side_dim,side_dim,3), data_format='channels_last'))\n",
        "model.add(MaxPooling2D(pool_size=(2, 2), strides=2, padding='valid'))\n",
        "model.add(Conv2D(96, kernel_size=(4, 4), strides=1, padding='same', activation='relu'))\n",
        "model.add(MaxPooling2D(pool_size=(2, 2), strides=2, padding='valid'))\n",
        "model.add(Conv2D(192, kernel_size=(2, 2), strides=1, padding='same', activation='relu'))\n",
        "model.add(MaxPooling2D(pool_size=(2, 2), strides=2, padding='valid'))\n",
        "model.add(Flatten())\n",
        "model.add(Dropout(.4))\n",
        "model.add(Dense(384, activation='relu'))\n",
        "model.add(Dropout(.4))\n",
        "model.add(Dense(Y.shape[-1]))\n",
        "\n",
        "summ = model.summary()"
      ],
      "execution_count": 13,
      "outputs": [
        {
          "output_type": "stream",
          "text": [
            "_________________________________________________________________\n",
            "Layer (type)                 Output Shape              Param #   \n",
            "=================================================================\n",
            "conv2d_1 (Conv2D)            (None, 16, 16, 48)        9264      \n",
            "_________________________________________________________________\n",
            "max_pooling2d_1 (MaxPooling2 (None, 8, 8, 48)          0         \n",
            "_________________________________________________________________\n",
            "conv2d_2 (Conv2D)            (None, 8, 8, 96)          73824     \n",
            "_________________________________________________________________\n",
            "max_pooling2d_2 (MaxPooling2 (None, 4, 4, 96)          0         \n",
            "_________________________________________________________________\n",
            "conv2d_3 (Conv2D)            (None, 4, 4, 192)         73920     \n",
            "_________________________________________________________________\n",
            "max_pooling2d_3 (MaxPooling2 (None, 2, 2, 192)         0         \n",
            "_________________________________________________________________\n",
            "flatten_1 (Flatten)          (None, 768)               0         \n",
            "_________________________________________________________________\n",
            "dropout_1 (Dropout)          (None, 768)               0         \n",
            "_________________________________________________________________\n",
            "dense_1 (Dense)              (None, 384)               295296    \n",
            "_________________________________________________________________\n",
            "dropout_2 (Dropout)          (None, 384)               0         \n",
            "_________________________________________________________________\n",
            "dense_2 (Dense)              (None, 20)                7700      \n",
            "=================================================================\n",
            "Total params: 460,004\n",
            "Trainable params: 460,004\n",
            "Non-trainable params: 0\n",
            "_________________________________________________________________\n"
          ],
          "name": "stdout"
        }
      ]
    },
    {
      "metadata": {
        "id": "Nqd8xak8bjZb",
        "colab_type": "text"
      },
      "cell_type": "markdown",
      "source": [
        "At least for the moment we do not worry too much about the efficiency of the loss function and the optimization algorithm. We use the Mean Squared Error for the first and Adadelta for the second."
      ]
    },
    {
      "metadata": {
        "id": "E8KjSeIjb0TB",
        "colab_type": "text"
      },
      "cell_type": "markdown",
      "source": [
        "Let's start with a cycle of 15 epochs, we will use mini-batch of size 16."
      ]
    },
    {
      "metadata": {
        "id": "eG5l2VySr6Cr",
        "colab_type": "code",
        "colab": {}
      },
      "cell_type": "code",
      "source": [
        "N_ep = 15\n",
        "init_ep = 0\n",
        "Batchs = 16\n",
        "optimizer = 'adadelta'\n",
        "loss = 'mse'"
      ],
      "execution_count": 0,
      "outputs": []
    },
    {
      "metadata": {
        "id": "BTg--dQ7643f",
        "colab_type": "code",
        "outputId": "72c01171-b6d7-4905-9169-02669c02847f",
        "colab": {
          "base_uri": "https://localhost:8080/",
          "height": 544
        }
      },
      "cell_type": "code",
      "source": [
        "model.compile(optimizer, loss)\n",
        "history = model.fit(X_train, Y_train, epochs=N_ep, validation_data=(X_val, Y_val), batch_size=Batchs, initial_epoch = init_ep, verbose=1)"
      ],
      "execution_count": 15,
      "outputs": [
        {
          "output_type": "stream",
          "text": [
            "Train on 10000 samples, validate on 1250 samples\n",
            "Epoch 1/15\n",
            "10000/10000 [==============================] - 8s 780us/step - loss: 18.9215 - val_loss: 11.2849\n",
            "Epoch 2/15\n",
            "10000/10000 [==============================] - 6s 631us/step - loss: 11.7500 - val_loss: 9.7489\n",
            "Epoch 3/15\n",
            "10000/10000 [==============================] - 6s 629us/step - loss: 9.9185 - val_loss: 7.9276\n",
            "Epoch 4/15\n",
            "10000/10000 [==============================] - 6s 634us/step - loss: 9.1613 - val_loss: 8.1567\n",
            "Epoch 5/15\n",
            "10000/10000 [==============================] - 6s 632us/step - loss: 8.4449 - val_loss: 7.0324\n",
            "Epoch 6/15\n",
            "10000/10000 [==============================] - 6s 634us/step - loss: 7.9569 - val_loss: 6.7233\n",
            "Epoch 7/15\n",
            "10000/10000 [==============================] - 6s 635us/step - loss: 7.5654 - val_loss: 6.4889\n",
            "Epoch 8/15\n",
            "10000/10000 [==============================] - 6s 633us/step - loss: 7.1833 - val_loss: 6.9852\n",
            "Epoch 9/15\n",
            "10000/10000 [==============================] - 6s 633us/step - loss: 6.8872 - val_loss: 5.9259\n",
            "Epoch 10/15\n",
            "10000/10000 [==============================] - 6s 630us/step - loss: 6.6349 - val_loss: 5.9009\n",
            "Epoch 11/15\n",
            "10000/10000 [==============================] - 6s 629us/step - loss: 6.3154 - val_loss: 6.1971\n",
            "Epoch 12/15\n",
            "10000/10000 [==============================] - 6s 631us/step - loss: 6.1666 - val_loss: 5.7754\n",
            "Epoch 13/15\n",
            "10000/10000 [==============================] - 6s 628us/step - loss: 5.9879 - val_loss: 5.8874\n",
            "Epoch 14/15\n",
            "10000/10000 [==============================] - 6s 629us/step - loss: 5.7330 - val_loss: 5.5620\n",
            "Epoch 15/15\n",
            "10000/10000 [==============================] - 6s 631us/step - loss: 5.5398 - val_loss: 5.9476\n"
          ],
          "name": "stdout"
        }
      ]
    },
    {
      "metadata": {
        "id": "hwz09-H-dV7F",
        "colab_type": "text"
      },
      "cell_type": "markdown",
      "source": [
        "##Observation of results\n",
        "We evaluate the results obtained. We use the Test Set for predictions and define a metric, the IoU (Intersection over Union) that supports those we already have for the training phase - loss error.\n",
        "\n",
        "The Intersection over Union is an incredibly effective measure to understand how much our forecasts approach the correct bounding boxes of the objects in the images. It has values that oscillate between 0 and 1 and the closer they are to 1, the more the area of our predictions approaches that of the correct bounding boxes."
      ]
    },
    {
      "metadata": {
        "id": "f6DgzkS3ZUAi",
        "colab_type": "code",
        "colab": {}
      },
      "cell_type": "code",
      "source": [
        "# We define one of the reference metrics to analyze our results\n",
        "# the Intersection over Union that measures the correspondence \n",
        "# of our predictions with the actual bounding boxes\n",
        "\n",
        "def IoU(box1, box2):\n",
        "  '''Intersection over Union (IoU) between box1 and box2\n",
        "    \n",
        "  Arguments:\n",
        "  box1 -- first box, with coordinates (x, y, w, h)\n",
        "  box2 -- second box, with coordinates (x2, y2, w2, h2)\n",
        "  \n",
        "  Returns:\n",
        "  iou -- scalar\n",
        "  '''    \n",
        "  [x, y, w, h] = box1\n",
        "  [x2, y2, w2, h2] = box2\n",
        "    \n",
        "  # Intesection area \n",
        "  xi1 = np.maximum(x, x2)\n",
        "  yi1 = np.maximum(y, y2)\n",
        "  xi2 = np.minimum(x+w, x2+w2)\n",
        "  yi2 = np.minimum(y+h, y2+h2)\n",
        "  xi = np.maximum(0., xi2-xi1)\n",
        "  yi = np.maximum(0., yi2-yi1)\n",
        "  \n",
        "  inter_area = np.multiply(xi,yi)\n",
        "\n",
        "  # Union area\n",
        "  box1_area = (w*h)\n",
        "  box2_area = (w2*h2)\n",
        "  union_area = box1_area+box2_area-inter_area\n",
        "  \n",
        "  # Calculation of IoU\n",
        "  iou = inter_area/union_area\n",
        "\n",
        "  return iou\n"
      ],
      "execution_count": 0,
      "outputs": []
    },
    {
      "metadata": {
        "id": "Op1peB21yEeg",
        "colab_type": "text"
      },
      "cell_type": "markdown",
      "source": [
        "\n",
        "But first let's take a look at our predictions."
      ]
    },
    {
      "metadata": {
        "id": "p0VX1wHk_fXb",
        "colab_type": "code",
        "colab": {}
      },
      "cell_type": "code",
      "source": [
        "# The predictions of the neural network using our Test set as input\n",
        "pred_bboxes = model.predict(X_test)\n",
        "pred_bboxes = pred_bboxes.reshape(len(pred_bboxes), N_bb, -1)"
      ],
      "execution_count": 0,
      "outputs": []
    },
    {
      "metadata": {
        "id": "_-imG1b7yJ83",
        "colab_type": "code",
        "outputId": "28d12923-1601-4150-bcab-25dca1028ec8",
        "colab": {
          "base_uri": "https://localhost:8080/",
          "height": 34
        }
      },
      "cell_type": "code",
      "source": [
        "# And the expected bboxes of our Test set\n",
        "expe_bboxes = Y_test.reshape(dim_test, N_bb, -1)\n",
        "\n",
        "# Their dimensions\n",
        "pred_bboxes.shape, expe_bboxes.shape"
      ],
      "execution_count": 19,
      "outputs": [
        {
          "output_type": "execute_result",
          "data": {
            "text/plain": [
              "((1250, 4, 5), (1250, 4, 5))"
            ]
          },
          "metadata": {
            "tags": []
          },
          "execution_count": 19
        }
      ]
    },
    {
      "metadata": {
        "id": "qkrHhPsK_pJu",
        "colab_type": "code",
        "outputId": "f85d0df0-af34-4a34-83ff-7aa7636c85f4",
        "colab": {
          "base_uri": "https://localhost:8080/",
          "height": 612
        }
      },
      "cell_type": "code",
      "source": [
        "imgTest = (np.reshape(X_test, (dim_test, side_dim, side_dim, 3)) * np.std(imgs)) + np.mean(imgs)\n",
        "\n",
        "# Consider a random image of our Test set\n",
        "im = np.random.randint(dim_test)\n",
        "\n",
        "# We look at the objects contained in it...\n",
        "fig, ax = plt.subplots(1)\n",
        "ax.imshow(imgTest[im], origin = 'upper', interpolation = 'quadric', extent=[0, side_dim, side_dim, 0])\n",
        "\n",
        "# ...and the bounding boxes predicted by the algorithm\n",
        "for i in range (N_bb):\n",
        "  [x , y, w, h] = pred_bboxes[im, i, 1:] \n",
        "\n",
        "  [x2, y2, w2, h2] = expe_bboxes[im, i, 1:] \n",
        "    \n",
        "  rect = patches.Rectangle((x, y) , w, h, ec='r', lw='1.4', fc='none')\n",
        "\n",
        "  dida = 'IoU: ' + '{:0.3f}'.format(IoU([x,y,w,h], [x2,y2,w2,h2]))\n",
        "  plt.annotate(dida, (x + w , y - 0.8), color='r')\n",
        "\n",
        "  print('Test images:', im)\n",
        "  print('Object: ', i+1)\n",
        "  print('B-box confidence:', Pc)\n",
        "  print('B-box coordinates:', '[{:0.2f}'.format(x), '{:0.2f}'.format(y), '{:0.2f}'.format(w), '{:0.2f}]'.format(h))\n",
        "  print('Object coordinates:', '[{:0.2f}'.format(x2), '{:0.2f}'.format(y2), '{:0.2f}'.format(w2), '{:0.2f}]'.format(h2))\n",
        "\n",
        "  ax.add_patch(rect)\n",
        "\n",
        "plt.show()"
      ],
      "execution_count": 20,
      "outputs": [
        {
          "output_type": "stream",
          "text": [
            "Test images: 196\n",
            "Object:  1\n",
            "B-box confidence: 1.0\n",
            "B-box coordinates: [0.18 1.01 3.98 3.73]\n",
            "Object coordinates: [1.00 0.00 6.00 5.00]\n",
            "Test images: 196\n",
            "Object:  2\n",
            "B-box confidence: 1.0\n",
            "B-box coordinates: [8.76 2.02 3.94 3.90]\n",
            "Object coordinates: [6.00 1.00 2.00 2.00]\n",
            "Test images: 196\n",
            "Object:  3\n",
            "B-box confidence: 1.0\n",
            "B-box coordinates: [17.50 5.68 4.25 3.99]\n",
            "Object coordinates: [23.00 5.00 2.00 4.00]\n",
            "Test images: 196\n",
            "Object:  4\n",
            "B-box confidence: 1.0\n",
            "B-box coordinates: [9.45 19.44 4.71 4.58]\n",
            "Object coordinates: [9.00 21.00 6.00 7.00]\n"
          ],
          "name": "stdout"
        },
        {
          "output_type": "display_data",
          "data": {
            "image/png": "[encoded data removed]",
            "text/plain": [
              "<matplotlib.figure.Figure at 0x7f42174d89b0>"
            ]
          },
          "metadata": {
            "tags": []
          }
        }
      ]
    },
    {
      "metadata": {
        "id": "PVaTaXkm8wet",
        "colab_type": "text"
      },
      "cell_type": "markdown",
      "source": [
        "### Evaluation of results\n",
        "Now we evaluate the results, first by calculating the average IoU for predictions on our Test set."
      ]
    },
    {
      "metadata": {
        "id": "Sb9Dh2HB3rwr",
        "colab_type": "code",
        "colab": {}
      },
      "cell_type": "code",
      "source": [
        "# We measure the average IoU of the whole test set \n",
        "def mean_IoU(expe_bboxes, pred_bboxes, dim_test, N_bb):\n",
        "\n",
        "  IoU_test = np.zeros((dim_test, N_bb)) \n",
        "  iou_global = 0\n",
        "\n",
        "  for i in range(dim_test):\n",
        "    for j in range(N_bb):\n",
        "\n",
        "      [x , y, w, h] = pred_bboxes[i, j, 1:] \n",
        "      [x2, y2, w2, h2] = expe_bboxes[i, j, 1:] \n",
        "\n",
        "      IoU_test[i,j] = IoU([x,y,w,h], [x2,y2,w2,h2])\n",
        "\n",
        "  iou_global = np.mean(IoU_test)\n",
        "  return iou_global"
      ],
      "execution_count": 0,
      "outputs": []
    },
    {
      "metadata": {
        "id": "bCSmyMg7pR-y",
        "colab_type": "text"
      },
      "cell_type": "markdown",
      "source": [
        "**Mean Intersection over Union of all Test set after 15 epochs:** "
      ]
    },
    {
      "metadata": {
        "id": "0Uplatfo8buT",
        "colab_type": "code",
        "outputId": "16118f3b-d3fe-4462-8739-afbc737173f9",
        "colab": {
          "base_uri": "https://localhost:8080/",
          "height": 34
        }
      },
      "cell_type": "code",
      "source": [
        "print(mean_IoU(expe_bboxes, pred_bboxes, dim_test, N_bb))"
      ],
      "execution_count": 22,
      "outputs": [
        {
          "output_type": "stream",
          "text": [
            "0.18078085648531456\n"
          ],
          "name": "stdout"
        }
      ]
    },
    {
      "metadata": {
        "id": "UUiEb4f76GC6",
        "colab_type": "text"
      },
      "cell_type": "markdown",
      "source": [
        "Let's try to go on with the training phase for another 15 epochs and see what happens. First we save the values of the training / validation loss to observe them later."
      ]
    },
    {
      "metadata": {
        "id": "CGtCQ0lV6MYn",
        "colab_type": "code",
        "colab": {}
      },
      "cell_type": "code",
      "source": [
        "# we save value of training/validation loss  \n",
        "val_loss = []\n",
        "train_loss = []\n",
        "\n",
        "val_loss = history.history['val_loss']\n",
        "train_loss = history.history['loss']"
      ],
      "execution_count": 0,
      "outputs": []
    },
    {
      "metadata": {
        "id": "eUt_F-M6yVJ3",
        "colab_type": "code",
        "colab": {}
      },
      "cell_type": "code",
      "source": [
        "N_ep = 30\n",
        "init_ep = 15\n",
        "Batchs = 16"
      ],
      "execution_count": 0,
      "outputs": []
    },
    {
      "metadata": {
        "id": "VvORHiVomF9A",
        "colab_type": "code",
        "outputId": "bf238db0-2fe7-495a-d775-c5d87d6c0aeb",
        "colab": {
          "base_uri": "https://localhost:8080/",
          "height": 544
        }
      },
      "cell_type": "code",
      "source": [
        "model.compile(optimizer, loss)\n",
        "history = model.fit(X_train, Y_train, epochs=N_ep, validation_data=(X_val, Y_val), batch_size=Batchs, initial_epoch = init_ep, verbose=1)"
      ],
      "execution_count": 25,
      "outputs": [
        {
          "output_type": "stream",
          "text": [
            "Train on 10000 samples, validate on 1250 samples\n",
            "Epoch 16/30\n",
            "10000/10000 [==============================] - 7s 718us/step - loss: 5.6612 - val_loss: 5.6386\n",
            "Epoch 17/30\n",
            "10000/10000 [==============================] - 7s 670us/step - loss: 5.3024 - val_loss: 5.4984\n",
            "Epoch 18/30\n",
            "10000/10000 [==============================] - 7s 669us/step - loss: 5.1518 - val_loss: 5.6012\n",
            "Epoch 19/30\n",
            "10000/10000 [==============================] - 7s 668us/step - loss: 4.9928 - val_loss: 5.3931\n",
            "Epoch 20/30\n",
            "10000/10000 [==============================] - 7s 675us/step - loss: 4.9418 - val_loss: 5.5105\n",
            "Epoch 21/30\n",
            "10000/10000 [==============================] - 7s 674us/step - loss: 4.7711 - val_loss: 5.2539\n",
            "Epoch 22/30\n",
            "10000/10000 [==============================] - 7s 671us/step - loss: 4.7234 - val_loss: 5.3110\n",
            "Epoch 23/30\n",
            "10000/10000 [==============================] - 7s 676us/step - loss: 4.5878 - val_loss: 5.3972\n",
            "Epoch 24/30\n",
            "10000/10000 [==============================] - 7s 665us/step - loss: 4.5639 - val_loss: 5.4685\n",
            "Epoch 25/30\n",
            "10000/10000 [==============================] - 7s 670us/step - loss: 4.5140 - val_loss: 5.2124\n",
            "Epoch 26/30\n",
            "10000/10000 [==============================] - 7s 671us/step - loss: 4.4745 - val_loss: 5.2260\n",
            "Epoch 27/30\n",
            "10000/10000 [==============================] - 7s 662us/step - loss: 4.3570 - val_loss: 5.3301\n",
            "Epoch 28/30\n",
            "10000/10000 [==============================] - 7s 664us/step - loss: 4.2928 - val_loss: 5.1103\n",
            "Epoch 29/30\n",
            "10000/10000 [==============================] - 7s 669us/step - loss: 4.2822 - val_loss: 5.3047\n",
            "Epoch 30/30\n",
            "10000/10000 [==============================] - 7s 667us/step - loss: 4.2013 - val_loss: 5.4308\n"
          ],
          "name": "stdout"
        }
      ]
    },
    {
      "metadata": {
        "id": "MF3kEX2i8-fo",
        "colab_type": "text"
      },
      "cell_type": "markdown",
      "source": [
        "**Mean Intersection over Union of all Test set after 30 epochs:** "
      ]
    },
    {
      "metadata": {
        "id": "WzNezueq9Bbb",
        "colab_type": "code",
        "outputId": "4cc56759-3e5d-4389-8e11-d9822cd2d174",
        "colab": {
          "base_uri": "https://localhost:8080/",
          "height": 34
        }
      },
      "cell_type": "code",
      "source": [
        "# The predictions of the neural network using our Test set as input\n",
        "pred_bboxes = model.predict(X_test)\n",
        "pred_bboxes = pred_bboxes.reshape(len(pred_bboxes), N_bb, -1)\n",
        "\n",
        "# The value of the IoU\n",
        "print(mean_IoU(expe_bboxes, pred_bboxes, dim_test, N_bb))"
      ],
      "execution_count": 26,
      "outputs": [
        {
          "output_type": "stream",
          "text": [
            "0.22111415324143183\n"
          ],
          "name": "stdout"
        }
      ]
    },
    {
      "metadata": {
        "id": "M7SbB4uzf3Kq",
        "colab_type": "text"
      },
      "cell_type": "markdown",
      "source": [
        "Let's now put on a graph the progress of the training phase for the Training set and the Validation set, with a graph of the Loss."
      ]
    },
    {
      "metadata": {
        "id": "wcTEWu8BaI4P",
        "colab_type": "code",
        "outputId": "d5d4e120-27d1-4924-9b75-24c3c44119ff",
        "colab": {
          "base_uri": "https://localhost:8080/",
          "height": 294
        }
      },
      "cell_type": "code",
      "source": [
        "# We add the value of the loss of the new training phase\n",
        "val_loss += history.history['val_loss']\n",
        "train_loss += history.history['loss']\n",
        "\n",
        "# Plot training & validation loss values\n",
        "plt.plot(train_loss)\n",
        "plt.plot(val_loss)\n",
        "plt.title('Model loss')\n",
        "plt.ylabel('Loss')\n",
        "plt.xlabel('Epoch')\n",
        "plt.legend(['Train', 'Validation'], loc='upper left')\n",
        "plt.show()"
      ],
      "execution_count": 27,
      "outputs": [
        {
          "output_type": "display_data",
          "data": {
            "image/png": "[encoded data removed]",
            "text/plain": [
              "<matplotlib.figure.Figure at 0x7f4210f30fd0>"
            ]
          },
          "metadata": {
            "tags": []
          }
        }
      ]
    },
    {
      "metadata": {
        "id": "VCLgeAu8mYUH",
        "colab_type": "text"
      },
      "cell_type": "markdown",
      "source": [
        "The graphs show how the network is learning. But let's go even further..."
      ]
    },
    {
      "metadata": {
        "id": "zZnlFs_SBrWY",
        "colab_type": "code",
        "outputId": "1e00a54c-4832-41e0-cc89-8e9a11d59926",
        "colab": {
          "base_uri": "https://localhost:8080/",
          "height": 2414
        }
      },
      "cell_type": "code",
      "source": [
        "N_ep = 100\n",
        "init_ep = 30\n",
        "Batchs = 16\n",
        "model.compile(optimizer, loss)\n",
        "history = model.fit(X_train, Y_train, epochs=N_ep, validation_data=(X_val, Y_val), batch_size=Batchs, initial_epoch = init_ep, verbose=1)"
      ],
      "execution_count": 28,
      "outputs": [
        {
          "output_type": "stream",
          "text": [
            "Train on 10000 samples, validate on 1250 samples\n",
            "Epoch 31/100\n",
            "10000/10000 [==============================] - 7s 709us/step - loss: 4.3260 - val_loss: 5.5203\n",
            "Epoch 32/100\n",
            "10000/10000 [==============================] - 7s 667us/step - loss: 4.1599 - val_loss: 5.1663\n",
            "Epoch 33/100\n",
            "10000/10000 [==============================] - 7s 672us/step - loss: 4.1173 - val_loss: 5.1312\n",
            "Epoch 34/100\n",
            "10000/10000 [==============================] - 7s 675us/step - loss: 4.0439 - val_loss: 5.3884\n",
            "Epoch 35/100\n",
            "10000/10000 [==============================] - 7s 673us/step - loss: 3.9599 - val_loss: 5.2167\n",
            "Epoch 36/100\n",
            "10000/10000 [==============================] - 7s 668us/step - loss: 3.9321 - val_loss: 5.1581\n",
            "Epoch 37/100\n",
            "10000/10000 [==============================] - 7s 673us/step - loss: 3.9008 - val_loss: 5.2607\n",
            "Epoch 38/100\n",
            "10000/10000 [==============================] - 7s 669us/step - loss: 3.8464 - val_loss: 5.1893\n",
            "Epoch 39/100\n",
            "10000/10000 [==============================] - 7s 669us/step - loss: 3.8152 - val_loss: 5.0962\n",
            "Epoch 40/100\n",
            "10000/10000 [==============================] - 7s 667us/step - loss: 3.8187 - val_loss: 5.0444\n",
            "Epoch 41/100\n",
            "10000/10000 [==============================] - 7s 666us/step - loss: 3.7867 - val_loss: 5.3263\n",
            "Epoch 42/100\n",
            "10000/10000 [==============================] - 7s 667us/step - loss: 3.7320 - val_loss: 5.3198\n",
            "Epoch 43/100\n",
            "10000/10000 [==============================] - 7s 667us/step - loss: 3.7363 - val_loss: 5.0536\n",
            "Epoch 44/100\n",
            "10000/10000 [==============================] - 7s 669us/step - loss: 3.6922 - val_loss: 5.0511\n",
            "Epoch 45/100\n",
            "10000/10000 [==============================] - 7s 671us/step - loss: 3.6650 - val_loss: 5.2197\n",
            "Epoch 46/100\n",
            "10000/10000 [==============================] - 7s 669us/step - loss: 3.6049 - val_loss: 5.1732\n",
            "Epoch 47/100\n",
            "10000/10000 [==============================] - 7s 668us/step - loss: 3.6341 - val_loss: 5.1403\n",
            "Epoch 48/100\n",
            "10000/10000 [==============================] - 7s 679us/step - loss: 3.5667 - val_loss: 5.1939\n",
            "Epoch 49/100\n",
            "10000/10000 [==============================] - 7s 667us/step - loss: 3.5939 - val_loss: 5.0132\n",
            "Epoch 50/100\n",
            "10000/10000 [==============================] - 7s 667us/step - loss: 3.5258 - val_loss: 5.2431\n",
            "Epoch 51/100\n",
            "10000/10000 [==============================] - 7s 663us/step - loss: 3.5039 - val_loss: 5.3308\n",
            "Epoch 52/100\n",
            "10000/10000 [==============================] - 7s 665us/step - loss: 3.5085 - val_loss: 5.0530\n",
            "Epoch 53/100\n",
            "10000/10000 [==============================] - 7s 671us/step - loss: 3.5050 - val_loss: 5.1208\n",
            "Epoch 54/100\n",
            "10000/10000 [==============================] - 7s 669us/step - loss: 3.4638 - val_loss: 5.1373\n",
            "Epoch 55/100\n",
            "10000/10000 [==============================] - 7s 674us/step - loss: 3.4177 - val_loss: 5.4333\n",
            "Epoch 56/100\n",
            "10000/10000 [==============================] - 7s 665us/step - loss: 3.3984 - val_loss: 5.1885\n",
            "Epoch 57/100\n",
            "10000/10000 [==============================] - 7s 668us/step - loss: 3.3462 - val_loss: 4.9925\n",
            "Epoch 58/100\n",
            "10000/10000 [==============================] - 7s 663us/step - loss: 3.4065 - val_loss: 5.0494\n",
            "Epoch 59/100\n",
            "10000/10000 [==============================] - 7s 662us/step - loss: 3.3208 - val_loss: 5.2667\n",
            "Epoch 60/100\n",
            "10000/10000 [==============================] - 7s 665us/step - loss: 3.3427 - val_loss: 5.1185\n",
            "Epoch 61/100\n",
            "10000/10000 [==============================] - 7s 663us/step - loss: 3.3089 - val_loss: 5.0931\n",
            "Epoch 62/100\n",
            "10000/10000 [==============================] - 7s 665us/step - loss: 3.2993 - val_loss: 5.1307\n",
            "Epoch 63/100\n",
            "10000/10000 [==============================] - 7s 666us/step - loss: 3.2962 - val_loss: 5.1136\n",
            "Epoch 64/100\n",
            "10000/10000 [==============================] - 7s 664us/step - loss: 3.2657 - val_loss: 5.2754\n",
            "Epoch 65/100\n",
            "10000/10000 [==============================] - 7s 664us/step - loss: 3.2298 - val_loss: 5.2118\n",
            "Epoch 66/100\n",
            "10000/10000 [==============================] - 7s 663us/step - loss: 3.2243 - val_loss: 5.1125\n",
            "Epoch 67/100\n",
            "10000/10000 [==============================] - 7s 664us/step - loss: 3.2133 - val_loss: 5.0820\n",
            "Epoch 68/100\n",
            "10000/10000 [==============================] - 7s 664us/step - loss: 3.1945 - val_loss: 5.1998\n",
            "Epoch 69/100\n",
            "10000/10000 [==============================] - 7s 663us/step - loss: 3.1909 - val_loss: 4.9842\n",
            "Epoch 70/100\n",
            "10000/10000 [==============================] - 7s 662us/step - loss: 3.1528 - val_loss: 5.2328\n",
            "Epoch 71/100\n",
            "10000/10000 [==============================] - 7s 666us/step - loss: 3.1676 - val_loss: 5.0170\n",
            "Epoch 72/100\n",
            "10000/10000 [==============================] - 7s 664us/step - loss: 3.1235 - val_loss: 4.9943\n",
            "Epoch 73/100\n",
            "10000/10000 [==============================] - 7s 659us/step - loss: 3.1507 - val_loss: 5.1511\n",
            "Epoch 74/100\n",
            "10000/10000 [==============================] - 7s 665us/step - loss: 3.1216 - val_loss: 4.8707\n",
            "Epoch 75/100\n",
            "10000/10000 [==============================] - 7s 658us/step - loss: 3.1064 - val_loss: 4.9995\n",
            "Epoch 76/100\n",
            "10000/10000 [==============================] - 7s 664us/step - loss: 3.0824 - val_loss: 5.0362\n",
            "Epoch 77/100\n",
            "10000/10000 [==============================] - 7s 663us/step - loss: 3.0737 - val_loss: 5.1197\n",
            "Epoch 78/100\n",
            "10000/10000 [==============================] - 7s 661us/step - loss: 3.0546 - val_loss: 5.1467\n",
            "Epoch 79/100\n",
            "10000/10000 [==============================] - 7s 663us/step - loss: 3.0823 - val_loss: 5.1620\n",
            "Epoch 80/100\n",
            "10000/10000 [==============================] - 7s 673us/step - loss: 3.0348 - val_loss: 5.0158\n",
            "Epoch 81/100\n",
            "10000/10000 [==============================] - 7s 675us/step - loss: 3.0160 - val_loss: 5.0031\n",
            "Epoch 82/100\n",
            "10000/10000 [==============================] - 7s 661us/step - loss: 3.0039 - val_loss: 5.0989\n",
            "Epoch 83/100\n",
            "10000/10000 [==============================] - 7s 664us/step - loss: 2.9866 - val_loss: 4.9321\n",
            "Epoch 84/100\n",
            "10000/10000 [==============================] - 7s 662us/step - loss: 2.9976 - val_loss: 4.9724\n",
            "Epoch 85/100\n",
            "10000/10000 [==============================] - 7s 666us/step - loss: 2.9777 - val_loss: 5.1684\n",
            "Epoch 86/100\n",
            "10000/10000 [==============================] - 7s 660us/step - loss: 2.9302 - val_loss: 5.1646\n",
            "Epoch 87/100\n",
            "10000/10000 [==============================] - 7s 659us/step - loss: 2.9307 - val_loss: 5.1015\n",
            "Epoch 88/100\n",
            "10000/10000 [==============================] - 7s 663us/step - loss: 2.9222 - val_loss: 5.0612\n",
            "Epoch 89/100\n",
            "10000/10000 [==============================] - 7s 662us/step - loss: 2.9432 - val_loss: 5.0822\n",
            "Epoch 90/100\n",
            "10000/10000 [==============================] - 7s 665us/step - loss: 2.8967 - val_loss: 4.9847\n",
            "Epoch 91/100\n",
            "10000/10000 [==============================] - 7s 663us/step - loss: 2.9102 - val_loss: 5.0341\n",
            "Epoch 92/100\n",
            "10000/10000 [==============================] - 7s 662us/step - loss: 2.8807 - val_loss: 4.9961\n",
            "Epoch 93/100\n",
            "10000/10000 [==============================] - 7s 667us/step - loss: 2.9033 - val_loss: 5.0141\n",
            "Epoch 94/100\n",
            "10000/10000 [==============================] - 7s 670us/step - loss: 2.8746 - val_loss: 5.0234\n",
            "Epoch 95/100\n",
            "10000/10000 [==============================] - 7s 658us/step - loss: 2.8491 - val_loss: 5.0294\n",
            "Epoch 96/100\n",
            "10000/10000 [==============================] - 7s 659us/step - loss: 2.8500 - val_loss: 5.0559\n",
            "Epoch 97/100\n",
            "10000/10000 [==============================] - 7s 660us/step - loss: 2.8550 - val_loss: 4.9189\n",
            "Epoch 98/100\n",
            "10000/10000 [==============================] - 7s 662us/step - loss: 2.8233 - val_loss: 5.0743\n",
            "Epoch 99/100\n",
            "10000/10000 [==============================] - 7s 668us/step - loss: 2.8341 - val_loss: 5.0101\n",
            "Epoch 100/100\n",
            "10000/10000 [==============================] - 7s 665us/step - loss: 2.8367 - val_loss: 5.0844\n"
          ],
          "name": "stdout"
        }
      ]
    },
    {
      "metadata": {
        "id": "raB7_0uzFbe6",
        "colab_type": "text"
      },
      "cell_type": "markdown",
      "source": [
        "**Mean Intersection over Union of all Test set after 100 epochs:** "
      ]
    },
    {
      "metadata": {
        "id": "CKMHZUF-CQrE",
        "colab_type": "code",
        "outputId": "31bfca71-36ca-4098-e4b6-39925267d16b",
        "colab": {
          "base_uri": "https://localhost:8080/",
          "height": 34
        }
      },
      "cell_type": "code",
      "source": [
        "# The predictions of the neural network using our Test set as input\n",
        "pred_bboxes = model.predict(X_test)\n",
        "pred_bboxes = pred_bboxes.reshape(len(pred_bboxes), N_bb, -1)\n",
        "\n",
        "# The value of the IoU\n",
        "print(mean_IoU(expe_bboxes, pred_bboxes, dim_test, N_bb))"
      ],
      "execution_count": 29,
      "outputs": [
        {
          "output_type": "stream",
          "text": [
            "0.25092916076338595\n"
          ],
          "name": "stdout"
        }
      ]
    },
    {
      "metadata": {
        "id": "jTad6NW8CZCN",
        "colab_type": "code",
        "outputId": "f99e2f03-3fdc-4e2a-ba1d-620d02096a96",
        "colab": {
          "base_uri": "https://localhost:8080/",
          "height": 294
        }
      },
      "cell_type": "code",
      "source": [
        "# We add the value of the loss of the new training phase\n",
        "val_loss += history.history['val_loss']\n",
        "train_loss += history.history['loss']\n",
        "\n",
        "# Plot training & validation loss values\n",
        "plt.plot(train_loss)\n",
        "plt.plot(val_loss)\n",
        "plt.title('Model loss')\n",
        "plt.ylabel('Loss')\n",
        "plt.xlabel('Epoch')\n",
        "plt.legend(['Train', 'Validation'], loc='upper left')\n",
        "plt.show()"
      ],
      "execution_count": 30,
      "outputs": [
        {
          "output_type": "display_data",
          "data": {
            "image/png": "[encoded data removed]",
            "text/plain": [
              "<matplotlib.figure.Figure at 0x7f4210a6be80>"
            ]
          },
          "metadata": {
            "tags": []
          }
        }
      ]
    },
    {
      "metadata": {
        "id": "DDg4_66hEiNR",
        "colab_type": "text"
      },
      "cell_type": "markdown",
      "source": [
        "The loss validation tells us that around the 80th age the network stops learning (even if the training loss continues to decrease). Considering the anomalous trend of loss validation and the IoU which in the end has improved, I try to go on with training for another 30 epochs.\n"
      ]
    },
    {
      "metadata": {
        "id": "qDx34wqmFCs9",
        "colab_type": "code",
        "outputId": "267a387d-dd03-42d7-bf00-e935004a18d6",
        "colab": {
          "base_uri": "https://localhost:8080/",
          "height": 1054
        }
      },
      "cell_type": "code",
      "source": [
        "N_ep = 130\n",
        "init_ep = 100\n",
        "Batchs = 16\n",
        "model.compile(optimizer, loss)\n",
        "history = model.fit(X_train, Y_train, epochs=N_ep, validation_data=(X_val, Y_val), batch_size=Batchs, initial_epoch = init_ep, verbose=1)"
      ],
      "execution_count": 31,
      "outputs": [
        {
          "output_type": "stream",
          "text": [
            "Train on 10000 samples, validate on 1250 samples\n",
            "Epoch 101/130\n",
            "10000/10000 [==============================] - 7s 718us/step - loss: 2.9279 - val_loss: 5.1484\n",
            "Epoch 102/130\n",
            "10000/10000 [==============================] - 7s 670us/step - loss: 2.8319 - val_loss: 4.9714\n",
            "Epoch 103/130\n",
            "10000/10000 [==============================] - 7s 667us/step - loss: 2.7811 - val_loss: 5.1509\n",
            "Epoch 104/130\n",
            "10000/10000 [==============================] - 7s 668us/step - loss: 2.8192 - val_loss: 5.0141\n",
            "Epoch 105/130\n",
            "10000/10000 [==============================] - 7s 669us/step - loss: 2.7729 - val_loss: 5.0471\n",
            "Epoch 106/130\n",
            "10000/10000 [==============================] - 7s 670us/step - loss: 2.7757 - val_loss: 5.0245\n",
            "Epoch 107/130\n",
            "10000/10000 [==============================] - 7s 676us/step - loss: 2.7893 - val_loss: 4.9318\n",
            "Epoch 108/130\n",
            "10000/10000 [==============================] - 7s 673us/step - loss: 2.7432 - val_loss: 5.0329\n",
            "Epoch 109/130\n",
            "10000/10000 [==============================] - 7s 669us/step - loss: 2.7453 - val_loss: 4.9160\n",
            "Epoch 110/130\n",
            "10000/10000 [==============================] - 7s 675us/step - loss: 2.7217 - val_loss: 5.0554\n",
            "Epoch 111/130\n",
            "10000/10000 [==============================] - 7s 674us/step - loss: 2.7454 - val_loss: 5.1085\n",
            "Epoch 112/130\n",
            "10000/10000 [==============================] - 7s 670us/step - loss: 2.7149 - val_loss: 4.9901\n",
            "Epoch 113/130\n",
            "10000/10000 [==============================] - 7s 667us/step - loss: 2.7080 - val_loss: 4.8531\n",
            "Epoch 114/130\n",
            "10000/10000 [==============================] - 7s 667us/step - loss: 2.6872 - val_loss: 5.0616\n",
            "Epoch 115/130\n",
            "10000/10000 [==============================] - 7s 667us/step - loss: 2.6899 - val_loss: 5.0365\n",
            "Epoch 116/130\n",
            "10000/10000 [==============================] - 7s 671us/step - loss: 2.6911 - val_loss: 4.9789\n",
            "Epoch 117/130\n",
            "10000/10000 [==============================] - 7s 668us/step - loss: 2.6561 - val_loss: 5.1080\n",
            "Epoch 118/130\n",
            "10000/10000 [==============================] - 7s 671us/step - loss: 2.6835 - val_loss: 5.1884\n",
            "Epoch 119/130\n",
            "10000/10000 [==============================] - 7s 667us/step - loss: 2.6689 - val_loss: 5.1292\n",
            "Epoch 120/130\n",
            "10000/10000 [==============================] - 7s 665us/step - loss: 2.6524 - val_loss: 5.1543\n",
            "Epoch 121/130\n",
            "10000/10000 [==============================] - 7s 665us/step - loss: 2.6369 - val_loss: 5.1015\n",
            "Epoch 122/130\n",
            "10000/10000 [==============================] - 7s 662us/step - loss: 2.6520 - val_loss: 5.1211\n",
            "Epoch 123/130\n",
            "10000/10000 [==============================] - 7s 667us/step - loss: 2.6213 - val_loss: 4.9732\n",
            "Epoch 124/130\n",
            "10000/10000 [==============================] - 7s 666us/step - loss: 2.6134 - val_loss: 5.0477\n",
            "Epoch 125/130\n",
            "10000/10000 [==============================] - 7s 670us/step - loss: 2.6236 - val_loss: 5.0186\n",
            "Epoch 126/130\n",
            "10000/10000 [==============================] - 7s 665us/step - loss: 2.6148 - val_loss: 5.0343\n",
            "Epoch 127/130\n",
            "10000/10000 [==============================] - 7s 663us/step - loss: 2.5897 - val_loss: 5.0927\n",
            "Epoch 128/130\n",
            "10000/10000 [==============================] - 7s 668us/step - loss: 2.5887 - val_loss: 5.0269\n",
            "Epoch 129/130\n",
            "10000/10000 [==============================] - 7s 665us/step - loss: 2.5810 - val_loss: 5.0447\n",
            "Epoch 130/130\n",
            "10000/10000 [==============================] - 7s 664us/step - loss: 2.5900 - val_loss: 4.9583\n"
          ],
          "name": "stdout"
        }
      ]
    },
    {
      "metadata": {
        "id": "Xkac9QdJor5E",
        "colab_type": "text"
      },
      "cell_type": "markdown",
      "source": [
        "We just take a look to a new prediction examples."
      ]
    },
    {
      "metadata": {
        "id": "0PA6Ogc7onhI",
        "colab_type": "code",
        "colab": {
          "base_uri": "https://localhost:8080/",
          "height": 609
        },
        "outputId": "85800f88-6952-4010-c917-ff3e814a66a9"
      },
      "cell_type": "code",
      "source": [
        "# The predictions of the neural network using our Test set as input\n",
        "pred_bboxes = model.predict(X_test)\n",
        "pred_bboxes = pred_bboxes.reshape(len(pred_bboxes), N_bb, -1)\n",
        "\n",
        "# Consider a random image of our Test set\n",
        "im = np.random.randint(dim_test)\n",
        "\n",
        "# We look at the objects contained in it...\n",
        "fig, ax = plt.subplots(1)\n",
        "ax.imshow(imgTest[im], origin = 'upper', interpolation = 'quadric', extent=[0, side_dim, side_dim, 0])\n",
        "\n",
        "# ...and the bounding boxes predicted by the algorithm\n",
        "for i in range (N_bb):\n",
        "  [x , y, w, h] = pred_bboxes[im, i, 1:] \n",
        "\n",
        "  [x2, y2, w2, h2] = expe_bboxes[im, i, 1:] \n",
        "    \n",
        "  rect = patches.Rectangle((x, y) , w, h, ec='r', lw='1.4', fc='none')\n",
        "\n",
        "  dida = 'IoU: ' + '{:0.3f}'.format(IoU([x,y,w,h], [x2,y2,w2,h2]))\n",
        "  plt.annotate(dida, (x + w , y - 0.8), color='r')\n",
        "\n",
        "  print('Test images:', im)\n",
        "  print('Object: ', i+1)\n",
        "  print('B-box confidence:', Pc)\n",
        "  print('B-box coordinates:', '[{:0.2f}'.format(x), '{:0.2f}'.format(y), '{:0.2f}'.format(w), '{:0.2f}]'.format(h))\n",
        "  print('Object coordinates:', '[{:0.2f}'.format(x2), '{:0.2f}'.format(y2), '{:0.2f}'.format(w2), '{:0.2f}]'.format(h2))\n",
        "\n",
        "  ax.add_patch(rect)\n",
        "\n",
        "plt.show()"
      ],
      "execution_count": 33,
      "outputs": [
        {
          "output_type": "stream",
          "text": [
            "Test images: 535\n",
            "Object:  1\n",
            "B-box confidence: 1.0\n",
            "B-box coordinates: [6.62 16.01 4.96 5.43]\n",
            "Object coordinates: [7.00 17.00 6.00 6.00]\n",
            "Test images: 535\n",
            "Object:  2\n",
            "B-box confidence: 1.0\n",
            "B-box coordinates: [11.20 18.32 3.80 4.30]\n",
            "Object coordinates: [15.00 18.00 2.00 4.00]\n",
            "Test images: 535\n",
            "Object:  3\n",
            "B-box confidence: 1.0\n",
            "B-box coordinates: [12.07 21.62 3.13 4.62]\n",
            "Object coordinates: [12.00 21.00 4.00 3.00]\n",
            "Test images: 535\n",
            "Object:  4\n",
            "B-box confidence: 1.0\n",
            "B-box coordinates: [22.52 27.51 2.68 2.17]\n",
            "Object coordinates: [21.00 27.00 3.00 2.00]\n"
          ],
          "name": "stdout"
        },
        {
          "output_type": "display_data",
          "data": {
            "image/png": "[encoded data removed]",
            "text/plain": [
              "<matplotlib.figure.Figure at 0x7f4210fb5ef0>"
            ]
          },
          "metadata": {
            "tags": []
          }
        }
      ]
    },
    {
      "metadata": {
        "id": "Ea-5G04_FgQE",
        "colab_type": "text"
      },
      "cell_type": "markdown",
      "source": [
        "**Mean Intersection over Union of all Test set after 130 epochs:** "
      ]
    },
    {
      "metadata": {
        "id": "p-ZaL-v6FKsT",
        "colab_type": "code",
        "outputId": "933e4b06-f792-44e7-f18d-9b472d5ffa90",
        "colab": {
          "base_uri": "https://localhost:8080/",
          "height": 34
        }
      },
      "cell_type": "code",
      "source": [
        "# The value of the IoU\n",
        "print(mean_IoU(expe_bboxes, pred_bboxes, dim_test, N_bb))"
      ],
      "execution_count": 34,
      "outputs": [
        {
          "output_type": "stream",
          "text": [
            "0.26887294045182364\n"
          ],
          "name": "stdout"
        }
      ]
    },
    {
      "metadata": {
        "id": "RiaPsXtQkBmL",
        "colab_type": "text"
      },
      "cell_type": "markdown",
      "source": [
        "##Conclusions\n",
        "The experiment described lasted just few minutes taking advantage of the Google Colab GPU. Even so, it shows the learning ability of the algorithm and the effectiveness of the solution we have adopted to avoid falling into the problem of undifferentiated bounding-boxes exposed by Rieke. In particular, it highlights the importance of pre-processing operations.\n",
        "\n",
        "The network trained for over 100 epochs (in a dozen minutes) continues to learn up to a certain point - around 80th epoch - but the trend of the validation loss is anomalous, being initially lower than the training loss. This and other issues need to be investigated - beginning with considering the use of a different loss function."
      ]
    },
    {
      "metadata": {
        "id": "nOM3zBbKowTh",
        "colab_type": "text"
      },
      "cell_type": "markdown",
      "source": [
        "The display of results for the Test-set shows the differentiation of bounding boxes. The value of the IoU is also very indicative. The IoU proves to be perhaps the best metric for a tuning operation on the neural network, so it should be implemented in the algorithm and evaluated at the Validation-set level.\n",
        "\n",
        "Anyway, the network is certainly improvable. From this base I will carry out other experiments on other Jupyter notebooks by carefully tuning hyperparations, using larger and more complex datasets."
      ]
    },
    {
      "metadata": {
        "id": "OAE8Of6jvcP4",
        "colab_type": "code",
        "colab": {}
      },
      "cell_type": "code",
      "source": [
        ""
      ],
      "execution_count": 0,
      "outputs": []
    }
  ]
}
