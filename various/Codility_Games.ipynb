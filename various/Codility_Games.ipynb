{
  "nbformat": 4,
  "nbformat_minor": 0,
  "metadata": {
    "colab": {
      "name": "Codility_Games.ipynb",
      "version": "0.3.2",
      "provenance": [],
      "collapsed_sections": []
    },
    "kernelspec": {
      "name": "python3",
      "display_name": "Python 3"
    }
  },
  "cells": [
    {
      "metadata": {
        "id": "dkIu7Cja9nRu",
        "colab_type": "text"
      },
      "cell_type": "markdown",
      "source": [
        "## Codility Games"
      ]
    },
    {
      "metadata": {
        "id": "twtFTXyP9sQk",
        "colab_type": "text"
      },
      "cell_type": "markdown",
      "source": [
        "###BinaryGap \n",
        "https://app.codility.com/programmers/lessons/1-iterations/binary_gap/"
      ]
    },
    {
      "metadata": {
        "id": "jBJjDDrW9j6K",
        "colab_type": "code",
        "colab": {}
      },
      "cell_type": "code",
      "source": [
        "#100%\n",
        "def solution(N):\n",
        "  N = format(N, 'b')\n",
        "  N = str(N)\n",
        "  n = []\n",
        "  m = 0\n",
        "  for i in N:\n",
        "    if i == '1':\n",
        "      n.append(m) \n",
        "      m = 0\n",
        "    elif i == '0':\n",
        "      m += 1\n",
        "            \n",
        "  return max(n)"
      ],
      "execution_count": 0,
      "outputs": []
    },
    {
      "metadata": {
        "id": "7dzPaCrn-QqF",
        "colab_type": "text"
      },
      "cell_type": "markdown",
      "source": [
        "###CyclicRotation\n",
        "https://app.codility.com/programmers/lessons/2-arrays/cyclic_rotation/"
      ]
    },
    {
      "metadata": {
        "id": "KtUFpfBj-arM",
        "colab_type": "code",
        "colab": {}
      },
      "cell_type": "code",
      "source": [
        "#100%\n",
        "def solution(A, K):\n",
        "  num_elem = len(A)\n",
        "  K = K % max(num_elem,1)\n",
        "\n",
        "  B = A[num_elem-K:]\n",
        "  for i in A[:num_elem-K]:\n",
        "    B.append(i)\n",
        "  return B"
      ],
      "execution_count": 0,
      "outputs": []
    },
    {
      "metadata": {
        "id": "dtAPjCiZ-sFV",
        "colab_type": "text"
      },
      "cell_type": "markdown",
      "source": [
        "###OddOccurrencesInArray\n",
        "https://app.codility.com/programmers/lessons/2-arrays/odd_occurrences_in_array/"
      ]
    },
    {
      "metadata": {
        "id": "PlwLd5uW-0i7",
        "colab_type": "code",
        "colab": {}
      },
      "cell_type": "code",
      "source": [
        "#100%\n",
        "def solution(A):\n",
        "\n",
        "  A.sort()\n",
        "  value = -1\n",
        "  count = 0\n",
        "  \n",
        "  for a in A:\n",
        "    if value == a:\n",
        "      count += 1\n",
        "    elif value != a:\n",
        "      if count%2 == 1:\n",
        "        return value\n",
        "      value = a\n",
        "      count = 1\n",
        "\n",
        "  return value"
      ],
      "execution_count": 0,
      "outputs": []
    },
    {
      "metadata": {
        "id": "oy8xXKCM_ALk",
        "colab_type": "text"
      },
      "cell_type": "markdown",
      "source": [
        "###Frogjmp\n",
        "https://app.codility.com/programmers/lessons/3-time_complexity/frog_jmp/"
      ]
    },
    {
      "metadata": {
        "id": "zUjgGBLO_McR",
        "colab_type": "code",
        "colab": {}
      },
      "cell_type": "code",
      "source": [
        "#100%\n",
        "def solution(X, Y, D):\n",
        "  jump = (Y-X)//D\n",
        "  if (Y-X)/D == jump:\n",
        "    return jump\n",
        "  else:\n",
        "    return jump+1\n",
        "  \n",
        "solution (X, Y, D)"
      ],
      "execution_count": 0,
      "outputs": []
    },
    {
      "metadata": {
        "id": "Trzuidc0_TDa",
        "colab_type": "text"
      },
      "cell_type": "markdown",
      "source": [
        "###PermMissingElem\n",
        "https://app.codility.com/programmers/lessons/3-time_complexity/perm_missing_elem/"
      ]
    },
    {
      "metadata": {
        "id": "8thJqI8l_cxK",
        "colab_type": "code",
        "colab": {}
      },
      "cell_type": "code",
      "source": [
        "#100%\n",
        "def solution(A):\n",
        "  A.sort()\n",
        "\n",
        "  if len(A) == 0:\n",
        "    return 1\n",
        "  if len(A) == A[-1]:\n",
        "    return A[-1]+1\n",
        "  \n",
        "  for i,j in enumerate(A,1):\n",
        "    if j != i:\n",
        "      return i"
      ],
      "execution_count": 0,
      "outputs": []
    },
    {
      "metadata": {
        "id": "dNqAdHPE_hz8",
        "colab_type": "text"
      },
      "cell_type": "markdown",
      "source": [
        "###TapeEquilibrium\n",
        "https://app.codility.com/programmers/lessons/3-time_complexity/tape_equilibrium/"
      ]
    },
    {
      "metadata": {
        "id": "hOddzJbV_qVu",
        "colab_type": "code",
        "colab": {}
      },
      "cell_type": "code",
      "source": [
        "#100%\n",
        "def solution(A):\n",
        "  num_ele = len(A)\n",
        "  result = 2000\n",
        "  \n",
        "  left = A[0]\n",
        "  right = sum(A[1:])\n",
        "  \n",
        "  count = 1\n",
        "  while True:\n",
        "    diff = abs(left - right)\n",
        "\n",
        "    if diff == 0:\n",
        "      return 0\n",
        "\n",
        "    if diff < result:\n",
        "      result = diff\n",
        "\n",
        "    if count == num_ele-1:\n",
        "      break\n",
        "      \n",
        "      \n",
        "    left += A[count]\n",
        "    right -= A[count]\n",
        "    count +=1\n",
        "    \n",
        "  return result"
      ],
      "execution_count": 0,
      "outputs": []
    },
    {
      "metadata": {
        "id": "tK-lUnmCASVD",
        "colab_type": "text"
      },
      "cell_type": "markdown",
      "source": [
        "###PermCheck\n",
        "https://app.codility.com/programmers/lessons/4-counting_elements/perm_check/"
      ]
    },
    {
      "metadata": {
        "id": "oXRTvZsUAVNy",
        "colab_type": "code",
        "colab": {}
      },
      "cell_type": "code",
      "source": [
        "#100%\n",
        "def solution(A):\n",
        "  sol = 0\n",
        "  B = list(set(A))\n",
        "  if B[-1] == len(A) and len(B) == len(A):\n",
        "    sol = 1\n",
        "  return sol"
      ],
      "execution_count": 0,
      "outputs": []
    },
    {
      "metadata": {
        "id": "NFhu57TnAd9r",
        "colab_type": "text"
      },
      "cell_type": "markdown",
      "source": [
        "###FrogRiverOne\n",
        "https://app.codility.com/programmers/lessons/4-counting_elements/frog_river_one/"
      ]
    },
    {
      "metadata": {
        "id": "HjFQdwEKAjF3",
        "colab_type": "code",
        "colab": {}
      },
      "cell_type": "code",
      "source": [
        "#100%\n",
        "def solution(X,A):\n",
        "  count = 0\n",
        "  mask = [-1]*X\n",
        "\n",
        "  for i, elem in enumerate(A):\n",
        "    if mask[elem - 1] == -1:\n",
        "      mask[elem - 1] = elem\n",
        "      count += 1\n",
        "      if count == X:\n",
        "        return i\n",
        "  return -1"
      ],
      "execution_count": 0,
      "outputs": []
    },
    {
      "metadata": {
        "id": "RvCdLf2EAmq8",
        "colab_type": "text"
      },
      "cell_type": "markdown",
      "source": [
        "###MaxCounters\n",
        "https://app.codility.com/programmers/lessons/4-counting_elements/max_counters/"
      ]
    },
    {
      "metadata": {
        "id": "aQEWRayzBDAA",
        "colab_type": "code",
        "colab": {}
      },
      "cell_type": "code",
      "source": [
        "#100%\n",
        "def solution(N, A):\n",
        "  sol = [0] * N\n",
        "  \n",
        "  while len(A) !=0:\n",
        "    maxi = 0\n",
        "    try:\n",
        "      for i in range (N):      \n",
        "        if A[:A.index(N+1)].count(i+1) > maxi:\n",
        "          maxi = A[:A.index(N+1)].count(i)\n",
        "\n",
        "          sol = [i+maxi for i in sol] \n",
        "      A = A[:A.index(N+1)]\n",
        "\n",
        "    except:\n",
        "      for i in range (N):\n",
        "        sol[i] += A.index(i+1)\n",
        "    finally:\n",
        "      return sol   "
      ],
      "execution_count": 0,
      "outputs": []
    },
    {
      "metadata": {
        "id": "iiHFWCWxA0TN",
        "colab_type": "text"
      },
      "cell_type": "markdown",
      "source": [
        "###MissingInteger\n",
        "https://app.codility.com/programmers/lessons/4-counting_elements/missing_integer/"
      ]
    },
    {
      "metadata": {
        "id": "awymvlH6AxTY",
        "colab_type": "code",
        "colab": {}
      },
      "cell_type": "code",
      "source": [
        "#100%\n",
        "def solution(A):\n",
        "  sol = 1\n",
        "  for i in A:\n",
        "    if sol not in A:\n",
        "      return sol\n",
        "    sol += 1\n",
        "  return sol"
      ],
      "execution_count": 0,
      "outputs": []
    },
    {
      "metadata": {
        "id": "2AozmdW_BaHm",
        "colab_type": "text"
      },
      "cell_type": "markdown",
      "source": [
        "###PassingCars\n",
        "https://app.codility.com/programmers/lessons/5-prefix_sums/genomic_range_query/"
      ]
    },
    {
      "metadata": {
        "id": "ghkXzfLrA51v",
        "colab_type": "code",
        "colab": {}
      },
      "cell_type": "code",
      "source": [
        "#100% Complexity O(N)\n",
        "def solution(A):\n",
        "  x = 0\n",
        "  count = 0\n",
        "  for i in A:\n",
        "    if i == 1:\n",
        "      count += 1*x\n",
        "    if i == 0:\n",
        "      x +=1\n",
        "    if count > 10**9:\n",
        "      count = -1\n",
        "      break\n",
        "  return count"
      ],
      "execution_count": 0,
      "outputs": []
    },
    {
      "metadata": {
        "id": "xgZyH2WJB8zz",
        "colab_type": "text"
      },
      "cell_type": "markdown",
      "source": [
        "###GenomicRangeQuery\n",
        "https://app.codility.com/programmers/lessons/5-prefix_sums/genomic_range_query/"
      ]
    },
    {
      "metadata": {
        "id": "DfqYW9puCDAY",
        "colab_type": "code",
        "colab": {}
      },
      "cell_type": "code",
      "source": [
        "#100% Complexity O(N + M)\n",
        "\n",
        "def solution(S, P, Q):\n",
        "  sol = []  \n",
        "  for i,j in zip(P,Q):\n",
        "    string = S[i:j+1]\n",
        "    if 'A' in string:\n",
        "      sol += [1]\n",
        "    elif 'C' in string:\n",
        "      sol += [2]\n",
        "    elif 'G' in string:\n",
        "      sol += [3]\n",
        "    elif 'T' in string:\n",
        "      sol += [4]\n",
        "  return sol"
      ],
      "execution_count": 0,
      "outputs": []
    },
    {
      "metadata": {
        "id": "5qDJSe_iCM1W",
        "colab_type": "text"
      },
      "cell_type": "markdown",
      "source": [
        "###MinAvgTwoSlice\n",
        "https://app.codility.com/programmers/lessons/5-prefix_sums/min_avg_two_slice/"
      ]
    },
    {
      "metadata": {
        "id": "KZbHcRH5CQQv",
        "colab_type": "code",
        "colab": {}
      },
      "cell_type": "code",
      "source": [
        "# 100%  complexity O(N)\n",
        "\n",
        "def solution(A):\n",
        "  elem = len(A)\n",
        "  candidate = elem-2\n",
        "  avg_cand = (A[candidate]+A[candidate+1])/2\n",
        "\n",
        "  for i in range(elem-3, -1, -1):\n",
        "    new_avg = (A[i]+A[i+1])/2\n",
        "    if new_avg <= avg_cand:\n",
        "      candidate = i\n",
        "      avg_cand = new_avg\n",
        "    new_avg = (A[i]+A[i+1]+A[i+2])/3\n",
        "    if new_avg <= avg_cand:\n",
        "      candidate = i\n",
        "      avg_cand = new_avg\n",
        "\n",
        "  return candidate"
      ],
      "execution_count": 0,
      "outputs": []
    },
    {
      "metadata": {
        "id": "r3prmWnaCblv",
        "colab_type": "text"
      },
      "cell_type": "markdown",
      "source": [
        "###CountDiv\n",
        "https://app.codility.com/programmers/lessons/5-prefix_sums/count_div/"
      ]
    },
    {
      "metadata": {
        "id": "htSfP0TqCfx8",
        "colab_type": "code",
        "colab": {}
      },
      "cell_type": "code",
      "source": [
        "# 100% complexity O(1)\n",
        "\n",
        "def solution(A, B, K):\n",
        "  count = 0\n",
        "  dif = B - A\n",
        "  count = dif // K\n",
        "  rest = dif%K\n",
        "\n",
        "  while rest >= 0:\n",
        "    if (A+rest)%K ==0 or (B-rest)%K == 0:\n",
        "      count +=1\n",
        "      break\n",
        "    rest -=1\n",
        "\n",
        "  return count"
      ],
      "execution_count": 0,
      "outputs": []
    },
    {
      "metadata": {
        "id": "ehl6IQFhCrst",
        "colab_type": "text"
      },
      "cell_type": "markdown",
      "source": [
        "###Distinct\n",
        "https://app.codility.com/programmers/lessons/6-sorting/distinct/"
      ]
    },
    {
      "metadata": {
        "id": "97LRh2IJvA9i",
        "colab_type": "code",
        "colab": {}
      },
      "cell_type": "code",
      "source": [
        "# 100% complexity O(N*log(N)) or O(N)\n",
        "\n",
        "def solution(A):\n",
        "  return len(set(A))"
      ],
      "execution_count": 0,
      "outputs": []
    },
    {
      "metadata": {
        "id": "bob4_5jPvJKJ",
        "colab_type": "text"
      },
      "cell_type": "markdown",
      "source": [
        "###MaxProductOfThree\n",
        "https://app.codility.com/programmers/lessons/6-sorting/max_product_of_three/"
      ]
    },
    {
      "metadata": {
        "id": "dcnzSZeZvOjs",
        "colab_type": "code",
        "colab": {}
      },
      "cell_type": "code",
      "source": [
        "# 100% complexity: O(N * log(N))\n",
        "def solution(A):\n",
        "  A = sorted(A, key=abs)\n",
        "  \n",
        "  for i in range(len(A)-3,-1,-1):\n",
        "    sol = A[-1]*A[-2]*A[i]\n",
        "    if sol > 0:\n",
        "      break\n",
        "  if sol < 0:\n",
        "    sol = A[0]*A[1]*A[2]\n",
        "   \n",
        "  return sol"
      ],
      "execution_count": 0,
      "outputs": []
    },
    {
      "metadata": {
        "id": "OSbW1yyGvdcU",
        "colab_type": "text"
      },
      "cell_type": "markdown",
      "source": [
        "###Triangle\n",
        "https://app.codility.com/programmers/lessons/6-sorting/triangle/"
      ]
    },
    {
      "metadata": {
        "id": "SBkBDMiMvgSZ",
        "colab_type": "code",
        "colab": {}
      },
      "cell_type": "code",
      "source": [
        "# 100% complexity: O(N*log(N))\n",
        "\n",
        "def solution(A):\n",
        "  A = sorted(A)\n",
        "  sol = 0\n",
        "  \n",
        "  for i in range(len(A)-1,1,-1):\n",
        "    if (A[i]+A[i-1] > A[i-2]) and (A[i-1]+A[i-2] > A[i]) and (A[i-2]+A[i] > A[i-1]):\n",
        "      sol = 1\n",
        "      break\n",
        "   \n",
        "  return sol"
      ],
      "execution_count": 0,
      "outputs": []
    },
    {
      "metadata": {
        "id": "hG1xqWMQvqHo",
        "colab_type": "text"
      },
      "cell_type": "markdown",
      "source": [
        "###NumberOfDiscIntersections\n",
        "https://app.codility.com/programmers/lessons/6-sorting/number_of_disc_intersections/"
      ]
    },
    {
      "metadata": {
        "id": "zLvpzSenvsW0",
        "colab_type": "code",
        "colab": {}
      },
      "cell_type": "code",
      "source": [
        "# 100% compl O(N*log(N)) or O(N)\n",
        "def solution(A):\n",
        "  count = 0\n",
        "  right = sorted([x + radious for x, radious in enumerate(A)])\n",
        "  left = sorted([x - radious for x, radious in enumerate(A)])\n",
        "  j = 0\n",
        "  for i, v in enumerate(right):\n",
        "    while j < len(right) and v >= left[j]:\n",
        "      count += j-i\n",
        "      j += 1\n",
        "    if count > 10**7 : return -1\n",
        "  return count"
      ],
      "execution_count": 0,
      "outputs": []
    },
    {
      "metadata": {
        "id": "B7SVsHzzvzeg",
        "colab_type": "text"
      },
      "cell_type": "markdown",
      "source": [
        "###Fish\n",
        "https://app.codility.com/programmers/lessons/7-stacks_and_queues/fish/"
      ]
    },
    {
      "metadata": {
        "id": "a931GpQSvxMV",
        "colab_type": "code",
        "outputId": "f3e6f69a-5c89-4729-c72b-dbdbe385f858",
        "colab": {
          "base_uri": "https://localhost:8080/",
          "height": 35
        }
      },
      "cell_type": "code",
      "source": [
        "# 100% complexity O(N)\n",
        "def solution(A, B):\n",
        "  fishes = 0\n",
        "  stack = []\n",
        "  for i, j in zip(A,B):\n",
        "    if j == 0:\n",
        "      while len(stack) > 0:\n",
        "        if stack[-1] > i:\n",
        "          fishes -= 1\n",
        "          break\n",
        "        else:\n",
        "          stack.pop()\n",
        "          fishes -= 1\n",
        "      fishes +=1\n",
        "    else:\n",
        "      stack.append(i)\n",
        "      fishes +=1\n",
        "  return fishes"
      ],
      "execution_count": 0,
      "outputs": [
        {
          "output_type": "execute_result",
          "data": {
            "text/plain": [
              "3"
            ]
          },
          "metadata": {
            "tags": []
          },
          "execution_count": 15
        }
      ]
    },
    {
      "metadata": {
        "id": "m3URp5RcwLlZ",
        "colab_type": "text"
      },
      "cell_type": "markdown",
      "source": [
        "###Brackets\n",
        "https://app.codility.com/programmers/lessons/7-stacks_and_queues/brackets/"
      ]
    },
    {
      "metadata": {
        "id": "KYn7Q8umwPlf",
        "colab_type": "code",
        "colab": {}
      },
      "cell_type": "code",
      "source": [
        "# 100%  complexity O(N)\n",
        "def solution(S):\n",
        "  chars =['(',')', '','[',']','','{','}']\n",
        "  if len(S)==0:\n",
        "    return 1\n",
        "  \n",
        "  if len(S)%2 != 0:\n",
        "    return 0\n",
        "  coda = []\n",
        "  for s in S:\n",
        "    if len(coda) == 0:\n",
        "      coda += s\n",
        "    elif (chars.index(s) - chars.index(coda[-1])) == 1:\n",
        "      del coda[-1]\n",
        "      \n",
        "    else:\n",
        "      coda += s\n",
        "\n",
        "  if len(coda) > 0:\n",
        "    return 0\n",
        "    \n",
        "  return 1"
      ],
      "execution_count": 0,
      "outputs": []
    },
    {
      "metadata": {
        "id": "xjxCizYAwiNu",
        "colab_type": "text"
      },
      "cell_type": "markdown",
      "source": [
        "###Nesting\n",
        "https://app.codility.com/programmers/lessons/7-stacks_and_queues/nesting/"
      ]
    },
    {
      "metadata": {
        "id": "0Pq9I_LIwhRZ",
        "colab_type": "code",
        "colab": {}
      },
      "cell_type": "code",
      "source": [
        "# 100% complexity O(N)\n",
        "\n",
        "def solution(S):\n",
        "  chars =['(',')']\n",
        "  if len(S)==0:\n",
        "    return 1\n",
        "  \n",
        "  if len(S)%2 != 0:\n",
        "    return 0\n",
        "  coda = []\n",
        "  for s in S:\n",
        "    if len(coda) == 0:\n",
        "      coda += s\n",
        "    elif (chars.index(s) - chars.index(coda[-1])) == 1:\n",
        "      del coda[-1]\n",
        "      \n",
        "    else:\n",
        "      coda += s\n",
        "\n",
        "  if len(coda) > 0:\n",
        "    return 0\n",
        "  \n",
        "  return 1"
      ],
      "execution_count": 0,
      "outputs": []
    },
    {
      "metadata": {
        "id": "iDALxCdXwyRD",
        "colab_type": "text"
      },
      "cell_type": "markdown",
      "source": [
        "###StoneWall\n",
        "https://app.codility.com/programmers/lessons/7-stacks_and_queues/stone_wall/"
      ]
    },
    {
      "metadata": {
        "id": "m2Wrifhgw0-V",
        "colab_type": "code",
        "colab": {}
      },
      "cell_type": "code",
      "source": [
        "# 92% (100% corr, 88% perf) complexity O(N) or O(N**2)\n",
        "''' ----------------------------------------- TO DO BETTER '''\n",
        "def solution(H):\n",
        "  bricks = 1\n",
        "  last_h = H[0]\n",
        "  h_bricks = [H[0]]\n",
        "  for i in range(1, len(H)):\n",
        "    if H[i] > last_h:\n",
        "      bricks += 1\n",
        "      h_bricks.append(H[i])\n",
        "      last_h = H[i]\n",
        "    elif H[i] < last_h:\n",
        "      h_bricks = [x for x in h_bricks if x<=H[i]]\n",
        "      last_h = H[i]\n",
        "      if H[i] not in h_bricks:\n",
        "        h_bricks.append(H[i])\n",
        "        bricks += 1\n",
        "  return bricks\n",
        "\n",
        "# recursive solution\n",
        "# 71% (100% corr, 55% perf) compl: O(N**2)\n",
        "def solution(H):\n",
        "  bricks = 0\n",
        "  minus = 0\n",
        "  if len(H)>0:\n",
        "    minus = min(H)\n",
        "    bricks += 1\n",
        "  if minus in H:\n",
        "    bricks += solution(H[:H.index(minus)])\n",
        "    H = H[H.index(minus)+1:]\n",
        "    if minus in H:\n",
        "      bricks -=1\n",
        "    bricks += solution(H)\n",
        "  return bricks\n"
      ],
      "execution_count": 0,
      "outputs": []
    },
    {
      "metadata": {
        "id": "JYe7rzCeyGje",
        "colab_type": "text"
      },
      "cell_type": "markdown",
      "source": [
        "###EquiLeader\n",
        "https://app.codility.com/programmers/lessons/8-leader/equi_leader/"
      ]
    },
    {
      "metadata": {
        "id": "VzoJp4d7xqGn",
        "colab_type": "code",
        "colab": {}
      },
      "cell_type": "code",
      "source": [
        "# 100% complexity O(N)\n",
        "def solution(A):\n",
        "  conta = 0\n",
        "  leader = -1\n",
        "  stack = {}\n",
        "  elem = len(A)\n",
        "  num_lead = 0\n",
        "  \n",
        "  for i in A:\n",
        "    if i in stack:\n",
        "      stack[i] += 1\n",
        "    else:\n",
        "      stack[i] = 1\n",
        "      \n",
        "    if stack[i] > (elem/2):\n",
        "      leader = i\n",
        "    \n",
        "  if leader == -1:\n",
        "    return 0\n",
        "  \n",
        "  else:\n",
        "    for j in range (1, elem):\n",
        "      if A[j-1] == leader:\n",
        "        num_lead += 1  \n",
        "      if (num_lead > (j)/2) and ((stack[leader]-num_lead) > (elem-j)/2):\n",
        "        conta +=1\n",
        "        \n",
        "  return conta"
      ],
      "execution_count": 0,
      "outputs": []
    },
    {
      "metadata": {
        "id": "xi5JbOAmxnKw",
        "colab_type": "text"
      },
      "cell_type": "markdown",
      "source": [
        "###Dominator\n",
        "https://app.codility.com/programmers/lessons/8-leader/dominator/"
      ]
    },
    {
      "metadata": {
        "id": "r6yRVFfoyJBp",
        "colab_type": "code",
        "colab": {}
      },
      "cell_type": "code",
      "source": [
        "# 100% complexity O(N*log(N)) or O(N)\n",
        "def solution(A):\n",
        "  stack = {}\n",
        "  elem = len(A)\n",
        "  for i in range(elem):\n",
        "    if A[i] in stack:\n",
        "      stack[A[i]] += 1\n",
        "    else:\n",
        "      stack[A[i]] = 1\n",
        "    if stack[A[i]] > (elem/2):\n",
        "      return i\n",
        "  return -1"
      ],
      "execution_count": 0,
      "outputs": []
    },
    {
      "metadata": {
        "id": "JHV-vYAnyXSC",
        "colab_type": "text"
      },
      "cell_type": "markdown",
      "source": [
        "###MaxProfit\n",
        "https://app.codility.com/programmers/lessons/9-maximum_slice_problem/max_profit/"
      ]
    },
    {
      "metadata": {
        "id": "QFbPuaHHzG4m",
        "colab_type": "code",
        "colab": {}
      },
      "cell_type": "code",
      "source": [
        "# 100% comp O(N)\n",
        "def solution(A):\n",
        "  elem = len(A)  \n",
        "  gain = 0\n",
        "  buy = 2*10**5\n",
        "  sell = 0\n",
        "  for i in range(elem):\n",
        "    buy = min(buy, A[i])\n",
        "    gain = max(A[i]-buy, gain)\n",
        "  return gain"
      ],
      "execution_count": 0,
      "outputs": []
    },
    {
      "metadata": {
        "id": "Xrg_zqF7zV81",
        "colab_type": "text"
      },
      "cell_type": "markdown",
      "source": [
        "###MaxSliceSum\n",
        "https://app.codility.com/programmers/lessons/9-maximum_slice_problem/max_slice_sum/"
      ]
    },
    {
      "metadata": {
        "id": "pFK1uvCezS7F",
        "colab_type": "code",
        "colab": {}
      },
      "cell_type": "code",
      "source": [
        "# 100% Complexity O(N)\n",
        "def solution(A):\n",
        "  maximum = summa = A[0]\n",
        "  \n",
        "  for a in A[1:]:\n",
        "    summa += a\n",
        "    if a > summa:\n",
        "      summa = a\n",
        "    if summa > maximum:\n",
        "      maximum = summa\n",
        "  \n",
        "  return maximum"
      ],
      "execution_count": 0,
      "outputs": []
    },
    {
      "metadata": {
        "id": "4cEzrP4tzpkK",
        "colab_type": "text"
      },
      "cell_type": "markdown",
      "source": [
        "###MaxDoubleSliceSum\n",
        "https://app.codility.com/programmers/lessons/9-maximum_slice_problem/max_double_slice_sum/"
      ]
    },
    {
      "metadata": {
        "id": "FMytyxXbzurP",
        "colab_type": "code",
        "colab": {}
      },
      "cell_type": "code",
      "source": [
        "# 92% (corr 100%, perf 85%) comp 0(N)\n",
        "''' ----------------------------------------- TO DO BETTER '''\n",
        "def solution(A):\n",
        "  max_sum = 0\n",
        "  maximum = 0\n",
        "  minus = A[1]\n",
        "  for i in A[1:-1]:\n",
        "    if i > max_sum+i:\n",
        "      max_sum = i\n",
        "      minus = 0\n",
        "    else:\n",
        "      max_sum += i\n",
        "      minus = min(i, minus)\n",
        "    maximum = max(maximum, max_sum-minus)\n",
        "  return maximum"
      ],
      "execution_count": 0,
      "outputs": []
    },
    {
      "metadata": {
        "id": "9hyp0WOOz_e7",
        "colab_type": "text"
      },
      "cell_type": "markdown",
      "source": [
        "###CountFactors\n",
        "https://app.codility.com/programmers/lessons/10-prime_and_composite_numbers/count_factors/"
      ]
    },
    {
      "metadata": {
        "id": "dJJcBeMU0B1j",
        "colab_type": "code",
        "colab": {}
      },
      "cell_type": "code",
      "source": [
        "# 100% complexity O(sqrt(N))\n",
        " \n",
        "def solution(N):\n",
        "  count = 0\n",
        "  div = 2\n",
        "  i = 1\n",
        "  while True:\n",
        "    if N%i == 0:\n",
        "      count +=1\n",
        "      if N/i != i:\n",
        "        count +=1\n",
        "    div = i\n",
        "    i +=1\n",
        "    if i > N/div-1:\n",
        "      break\n",
        "  return count"
      ],
      "execution_count": 0,
      "outputs": []
    },
    {
      "metadata": {
        "id": "kJl_PXog0Mm4",
        "colab_type": "text"
      },
      "cell_type": "markdown",
      "source": [
        "###MinPerimeterRectangle\n",
        "https://app.codility.com/programmers/lessons/10-prime_and_composite_numbers/min_perimeter_rectangle/"
      ]
    },
    {
      "metadata": {
        "id": "_bP3RbzO0O7i",
        "colab_type": "code",
        "colab": {}
      },
      "cell_type": "code",
      "source": [
        "# 100% comp O(sqrt(N))\n",
        "def solution(N):\n",
        "  perimeter = (N+1)*2\n",
        "  for i in range(int(N**(1/2)),0,-1):\n",
        "    if N%i == 0:\n",
        "      perimeter = int(N/i+i)*2\n",
        "      break\n",
        "  \n",
        "  return perimeter"
      ],
      "execution_count": 0,
      "outputs": []
    },
    {
      "metadata": {
        "id": "yqLNNxRq0V_L",
        "colab_type": "text"
      },
      "cell_type": "markdown",
      "source": [
        "###Peaks\n",
        "https://app.codility.com/programmers/lessons/10-prime_and_composite_numbers/peaks/"
      ]
    },
    {
      "metadata": {
        "id": "zuFyCvXb0Zfz",
        "colab_type": "code",
        "colab": {}
      },
      "cell_type": "code",
      "source": [
        "# 100% comp O(N * log(log(N)))\n",
        "def solution(A):\n",
        "  N = len(A)\n",
        "  blocks = 0\n",
        "   \n",
        "  # first find all the peak\n",
        "  stack = []\n",
        "  for i in range(1,N-1):    \n",
        "    if A[i] > A[i-1] and A[i] > A[i+1]:\n",
        "      stack.append(i)\n",
        "  \n",
        "  if not stack:\n",
        "    return 0 # there is no peask and then block\n",
        "\n",
        "  blocks = 1 # there is at least one single block as a solution\n",
        "\n",
        "  # second possible divisors of N excluding 1, 2 and N  \n",
        "  divisor = []\n",
        "  for i in range(3,int(N/2)+1):\n",
        "    if N%i==0:\n",
        "      divisor.append(i)\n",
        "  \n",
        "  # third check that each block have a peak\n",
        "  for i in divisor:\n",
        "    check = set()\n",
        "    for k in stack:\n",
        "      check.add(int(k/i))\n",
        "      if len(check)-1 not in check:\n",
        "        break\n",
        "    if len(check) == int(N/i):\n",
        "      blocks = int(N/i)\n",
        "      break                   \n",
        "  \n",
        "  return blocks"
      ],
      "execution_count": 0,
      "outputs": []
    },
    {
      "metadata": {
        "id": "Xc5kVd8l0k2M",
        "colab_type": "text"
      },
      "cell_type": "markdown",
      "source": [
        "###Flags\n",
        "https://app.codility.com/programmers/lessons/10-prime_and_composite_numbers/flags/"
      ]
    },
    {
      "metadata": {
        "id": "tWZWl8p60nsz",
        "colab_type": "code",
        "colab": {}
      },
      "cell_type": "code",
      "source": [
        "# 93% (100% corr, perf 85%) complexity O(N) or O(N * sqrt(N))\n",
        "''' ----------------------------------------- TO DO BETTER '''\n",
        "def find_peaks(A):\n",
        "  stack = []\n",
        "  for i in range(1,N-1):    \n",
        "    if A[i] > A[i-1] and A[i] > A[i+1]:\n",
        "      stack.append(i)\n",
        "\n",
        "def solution(A):\n",
        "  N = len(A)\n",
        "  \n",
        "  # first find all the peak\n",
        "  stack = find_peaks(A)\n",
        "  peaks = len(stack)\n",
        "  \n",
        "  # second if peaks are less then 3 then flags = peaks\n",
        "  if peaks < 3:\n",
        "    return peaks\n",
        "  \n",
        "  # third we check correct numbers of flags - max number = sqrt(N)+1\n",
        "  maxFlag = min(peaks, int(N**(1/2))+1)\n",
        "\n",
        "  for f in range(maxFlag, 2, -1):\n",
        "    flagOn = f-1\n",
        "    P = 0\n",
        "    Q = 1\n",
        "    while Q < peaks:\n",
        "      if stack[Q]-stack[P] >= f:\n",
        "        P = Q\n",
        "        flagOn -=1\n",
        "        if flagOn < 1:\n",
        "          return f\n",
        "      if peaks-Q < flagOn:\n",
        "        break\n",
        "      Q += 1\n",
        "      \n",
        "  return 1"
      ],
      "execution_count": 0,
      "outputs": []
    },
    {
      "metadata": {
        "id": "hREXZZYq1Juk",
        "colab_type": "text"
      },
      "cell_type": "markdown",
      "source": [
        "###MinAbsSum\n",
        "https://app.codility.com/programmers/lessons/17-dynamic_programming/min_abs_sum/"
      ]
    },
    {
      "metadata": {
        "id": "rRvbgoiC1UA2",
        "colab_type": "code",
        "colab": {}
      },
      "cell_type": "code",
      "source": [
        "#90% (corr 100%, perf 80%) complexity O(N * max(abs(A))**2)\n",
        "''' ----------------------------------------- TO DO BETTER '''\n",
        "def solution(A):\n",
        "  num = len(A)\n",
        "  if num < 2:\n",
        "    return abs(sum(A))\n",
        "  \n",
        "  B = [0]*101\n",
        "  for i in A:\n",
        "    B[abs(i)] += 1\n",
        "\n",
        "  sign = 1\n",
        "  cont1 = cont2 = 2\n",
        "  if num%2 != 0:\n",
        "    cont2 = 3\n",
        "  \n",
        "  sol = [0]*3\n",
        "  for j in range(100,0,-1):\n",
        "    k = B[j]\n",
        "    while k > 0:\n",
        "      sol[0] = abs(sol[0]-j)\n",
        "      if cont1 > 0:\n",
        "        sign = -1\n",
        "        cont1 -= 1\n",
        "      sol[1] = abs(sol[1]-sign*j)\n",
        "      if cont2 > 0:\n",
        "        sign = -1\n",
        "        cont2 -= 1\n",
        "      sol[2] = abs(sol[2]-sign*j)\n",
        "      sign = 1\n",
        "      k -=1\n",
        "\n",
        "  return min(sol)"
      ],
      "execution_count": 0,
      "outputs": []
    },
    {
      "metadata": {
        "id": "3AwXYT1h1io-",
        "colab_type": "text"
      },
      "cell_type": "markdown",
      "source": [
        "###PolygonConcavityIndex\n",
        "https://app.codility.com/programmers/lessons/99-future_training/polygon_concavity_index/"
      ]
    },
    {
      "metadata": {
        "id": "YK_lDpp11iG7",
        "colab_type": "code",
        "colab": {}
      },
      "cell_type": "code",
      "source": [
        "#91% (corr 100%, perf 66%) comp O(N)\n",
        "''' ----------------------------------------- TO DO BETTER '''\n",
        "\n",
        "from extratypes import Point2D  # library with types used in the task\n",
        "\n",
        "def clockwise(A):\n",
        "  # polygon point order clockwise or not?\n",
        "  clock_count = 0\n",
        "  for i in range(-1, len(A)-1):\n",
        "    clock_count += (A[i].x-A[i+1].x)/max((A[i].y+A[i+1].y), 0.000001)\n",
        "  if clock_count < 0:\n",
        "    return False\n",
        "  return True\n",
        "\n",
        "def line_through_two_point(A, C):\n",
        "  # equation of the line that passes through A and B \n",
        "  # (y = mx+q) - m=slope q=y-intercept\n",
        "  slope_den = (C.x - A.x)\n",
        "  \n",
        "  if slope_den == 0:\n",
        "    return False, 0, 0\n",
        "    \n",
        "  slope = (C.y - A.y) / slope_den\n",
        "  intercept = A.y - slope*A.x\n",
        "  return True, slope, intercept\n",
        "\n",
        "def check_in(A, B, C, clock):\n",
        "  # Point B is inside the polygon?\n",
        "  flag, slope, intercept = line_through_two_point(A, C)\n",
        "  \n",
        "  if flag:\n",
        "    if A.x-C.x >= 0:\n",
        "      clock = not(clock)\n",
        "    \n",
        "    # y is the value of the point K(x,y) with x = C.x\n",
        "    K_y = slope * B.x + intercept\n",
        "\n",
        "    if clock and B.y < K_y:\n",
        "      return True\n",
        "    elif not clock and B.y > K_y:\n",
        "      return True\n",
        "    \n",
        "  else:\n",
        "    if clock:\n",
        "      if A.y > C.y and B.x < A.x:\n",
        "        return True\n",
        "      elif A.y < C.y and B.x > A.x:\n",
        "        return True\n",
        "    elif not clock:      \n",
        "      if A.y > C.y and B.x > A.x:\n",
        "        return True\n",
        "      elif A.y < C.y and B.x < A.x:\n",
        "        return True\n",
        "    \n",
        "  return False\n",
        "def solution(A):\n",
        "  N = len(A)\n",
        "  \n",
        "  clock = clock = clockwise(A)\n",
        "  \n",
        "  for i in range (-2, N-2):\n",
        "    if check_in(A[i], A[i+1], A[i+2], clock):\n",
        "      if i+2 == 0:\n",
        "        return N-1\n",
        "      return i+1\n",
        "  return -1  "
      ],
      "execution_count": 0,
      "outputs": []
    }
  ]
}